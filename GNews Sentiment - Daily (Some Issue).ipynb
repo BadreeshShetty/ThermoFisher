{
 "cells": [
  {
   "cell_type": "code",
   "execution_count": 1,
   "id": "582d4d4d",
   "metadata": {},
   "outputs": [],
   "source": [
    "# https://huggingface.co/blog/sentiment-analysis-python"
   ]
  },
  {
   "cell_type": "code",
   "execution_count": 2,
   "id": "d85925cc",
   "metadata": {},
   "outputs": [],
   "source": [
    "def news_df_daily():\n",
    "    start_date = date(2021, 1, 1)\n",
    "    end_date = date(2023, 8, 30)  \n",
    "    news = []\n",
    "\n",
    "    title_list = []\n",
    "    published_date = []\n",
    "    article_link = []\n",
    "    article_text = []\n",
    "    start_time = time.time()  # Record the start time of the iteration\n",
    "    while start_date <= end_date:  # Changed the condition to include the end date\n",
    "\n",
    "\n",
    "        # Set the date and period\n",
    "        gnews = GNews(language='en', country='US',\n",
    "                      max_results=5,exclude_websites=['www.seattletimes.com', 'www.fiercepharma.com', \n",
    "                        'www.governor.virginia.gov','www.genengnews.com','www.thelancet.com',\n",
    "                        'www.genomeweb.com',' www.fiercebiotech.com',' www.fiercebiotech.com',\n",
    "                        'www.prnewswire.com','onlinelibrary.wiley.com'])\n",
    "\n",
    "        gnews.start_date = (start_date.year, start_date.month, start_date.day)\n",
    "        start_date += timedelta(days=1)\n",
    "        gnews.end_date = (start_date.year, start_date.month, start_date.day)\n",
    "\n",
    "        # Get the news results\n",
    "        results = gnews.get_news('Thermo Fisher')\n",
    "\n",
    "        for i in results:\n",
    "            try:\n",
    "                article = gnews.get_full_article(i['url'])\n",
    "                print(\"--\", article)\n",
    "            except:\n",
    "                article = gnews.get_full_article(\"Error\")\n",
    "            try:\n",
    "                article_link.append(i['url'])\n",
    "            except:\n",
    "                article_link.append(\"Error\")\n",
    "            try:\n",
    "                title_list.append(i['title'])\n",
    "            except:\n",
    "                title_list.append(\"Error\")\n",
    "            try:\n",
    "                article_text.append(article.text)\n",
    "            except:\n",
    "                article_text.append(\"Error\")\n",
    "            try:\n",
    "                parsed_date = datetime.strptime(i['published date'], \"%a, %d %b %Y %H:%M:%S GMT\")\n",
    "                published_date.append(parsed_date.strftime(\"%Y-%m-%d\"))\n",
    "            except:\n",
    "                published_date.append(\"Error\")\n",
    "\n",
    "        news_data = {\n",
    "            'Title': title_list,\n",
    "            'Published Date': published_date,\n",
    "            'URL': article_link,\n",
    "            'Article Text': article_text\n",
    "        }\n",
    "\n",
    "        df = pd.DataFrame(news_data)\n",
    "\n",
    "        time.sleep(10)\n",
    "    end_time = time.time()  # Record the end time of the iteration\n",
    "    iteration_time = end_time - start_time\n",
    "    print(f\"Iteration time: {iteration_time} seconds\")\n",
    "    return df"
   ]
  },
  {
   "cell_type": "code",
   "execution_count": 3,
   "id": "dc413b46",
   "metadata": {},
   "outputs": [],
   "source": [
    "def percentage(part,whole):\n",
    "    return 100 * float(part)/float(whole)"
   ]
  },
  {
   "cell_type": "code",
   "execution_count": 4,
   "id": "3774940d",
   "metadata": {},
   "outputs": [],
   "source": [
    "def word_cloud(text):\n",
    "    # Create a set for custom stopwords from \"stopwords_extend.txt\"\n",
    "    custom_stopwords = set()\n",
    "    with open(\"stopwords_extend.txt\", \"r\") as file:\n",
    "        custom_stopwords.update(line.strip() for line in file)\n",
    "\n",
    "    # Combine stopwords from all sources into a single set\n",
    "    all_stopwords = (\n",
    "        set(STOPWORDS) | set(stopwords_gensim) | stopwords_nltk | custom_stopwords\n",
    "    )\n",
    "\n",
    "    # Print or use the extended stopwords set as needed\n",
    "    # print(\"Extended Stopwords Set:\", all_stopwords)\n",
    "\n",
    "    stopwords = set(all_stopwords)\n",
    "    additional_stopwords=[\"Error\",\"Thermo Fisher\"]\n",
    "    if additional_stopwords is not None:\n",
    "        stopwords.update(additional_stopwords)\n",
    "    allWords = ' '.join([nws for nws in text])\n",
    "    wordCloud = WordCloud(background_color='black',width = 1600, height = 800,stopwords = stopwords,min_font_size = 20,max_font_size=150,colormap='prism').generate(allWords)\n",
    "    fig, ax = plt.subplots(figsize=(20,10), facecolor='k')\n",
    "    plt.imshow(wordCloud)\n",
    "    ax.axis(\"off\")\n",
    "    fig.tight_layout(pad=0)\n",
    "    plt.show()"
   ]
  },
  {
   "cell_type": "code",
   "execution_count": 5,
   "id": "6222647c",
   "metadata": {},
   "outputs": [],
   "source": [
    "def clean_text(text):\n",
    "    text = re.sub(r'http\\S+|www\\S+|https\\S+', '', text, flags=re.MULTILINE)  # remove urls\n",
    "    text = re.sub(r'\\@\\w+|\\#', '', text)  # remove at and hash tags\n",
    "    text = text.encode('ascii', 'ignore').decode('ascii')  # remove emojis\n",
    "    text = re.sub(r'\\s+', ' ', text).strip()  # remove extra spaces\n",
    "    return text"
   ]
  },
  {
   "cell_type": "code",
   "execution_count": 6,
   "id": "372c0d62",
   "metadata": {},
   "outputs": [],
   "source": [
    "def piechart_viz(thermo_news_df_quarter):\n",
    "    #Assigning Initial Values\n",
    "    positive = 0\n",
    "    negative = 0\n",
    "    neutral = 0\n",
    "    #Creating empty lists\n",
    "    news_list = []\n",
    "    neutral_list = []\n",
    "    negative_list = []\n",
    "    positive_list = []\n",
    "    sentiment = []\n",
    "\n",
    "    #Iterating over the tweets in the dataframe\n",
    "    for news in thermo_news_df_quarter['Article Text']:\n",
    "        \n",
    "#         if news!=\"Error\":\n",
    "        news_list.append(news)\n",
    "        analyzer = SentimentIntensityAnalyzer().polarity_scores(news)\n",
    "        neg = analyzer['neg']\n",
    "        neu = analyzer['neu']\n",
    "        pos = analyzer['pos']\n",
    "        comp = analyzer['compound']\n",
    "\n",
    "        if neg > pos:\n",
    "            negative_list.append(news) #appending the news that satisfies this condition\n",
    "            sentiment.append(\"Negative\")\n",
    "            negative += 1 #increasing the count by 1\n",
    "        elif pos > neg:\n",
    "            positive_list.append(news) #appending the news that satisfies this condition\n",
    "            sentiment.append(\"Positive\")\n",
    "            positive += 1 #increasing the count by 1\n",
    "        elif pos == neg:\n",
    "            neutral_list.append(news) #appending the news that satisfies this condition\n",
    "            sentiment.append(\"Neutral\")\n",
    "            neutral += 1 #increasing the count by 1\n",
    "\n",
    "    thermo_news_df_quarter['sentiment']=sentiment\n",
    "    \n",
    "    positive = percentage(positive, len(sentiment)) #percentage is the function defined above\n",
    "    negative = percentage(negative, len(sentiment))\n",
    "    neutral = percentage(neutral, len(sentiment))\n",
    "\n",
    "#     news_list = pd.DataFrame(news_list)\n",
    "#     neutral_list = pd.DataFrame(neutral_list)\n",
    "#     negative_list = pd.DataFrame(negative_list)\n",
    "#     positive_list = pd.DataFrame(positive_list)\n",
    "    print(\"Positive Sentiment:\", '%.2f' % len(positive_list), end='\\n')\n",
    "    print(\"Neutral Sentiment:\", '%.2f' % len(neutral_list), end='\\n')\n",
    "    print(\"Negative Sentiment:\", '%.2f' % len(negative_list), end='\\n')\n",
    "\n",
    "    #Creating PieCart\n",
    "    labels = ['Positive ['+str(round(positive))+'%]' , 'Neutral ['+str(round(neutral))+'%]','Negative ['+str(round(negative))+'%]']\n",
    "    sizes = [positive, neutral, negative]\n",
    "    colors = ['yellowgreen', 'blue','red']\n",
    "    patches, texts = plt.pie(sizes,colors=colors, startangle=90)\n",
    "    plt.style.use('default')\n",
    "    plt.legend(labels)\n",
    "    plt.title(\"Sentiment Analysis Result for Thermofisher\" )\n",
    "    plt.axis('equal')\n",
    "    plt.show()\n",
    "    \n",
    "    return thermo_news_df_quarter"
   ]
  },
  {
   "cell_type": "code",
   "execution_count": 7,
   "id": "1a665ba3",
   "metadata": {},
   "outputs": [
    {
     "name": "stderr",
     "output_type": "stream",
     "text": [
      "11/14/2023 08:30:09 PM - Since the GPL-licensed package `unidecode` is not installed, using Python's `unicodedata` package which yields worse results.\n"
     ]
    }
   ],
   "source": [
    "from datetime import datetime\n",
    "\n",
    "import pandas as pd\n",
    "import matplotlib.pyplot as plt\n",
    "from wordcloud import WordCloud, STOPWORDS\n",
    "\n",
    "from gnews import GNews\n",
    "from datetime import datetime\n",
    "from textsum.summarize import Summarizer\n",
    "from tqdm import tqdm\n",
    "import time\n",
    "\n",
    "from datetime import date, timedelta\n",
    "import time\n",
    "import re\n",
    "\n",
    "from wordcloud import WordCloud, STOPWORDS\n",
    "from gensim.parsing.preprocessing import STOPWORDS as stopwords_gensim\n",
    "from nltk.corpus import stopwords\n",
    "stopwords_nltk = set(stopwords.words('english'))\n",
    "\n",
    "import nltk\n",
    "from nltk.sentiment.vader import SentimentIntensityAnalyzer\n",
    "\n",
    "import warnings\n",
    "warnings.filterwarnings('ignore')"
   ]
  },
  {
   "cell_type": "code",
   "execution_count": null,
   "id": "246e5415",
   "metadata": {},
   "outputs": [
    {
     "name": "stdout",
     "output_type": "stream",
     "text": [
      "-- <newspaper.article.Article object at 0x0000022FBEF11B70>\n",
      "-- <newspaper.article.Article object at 0x0000022FCD37E260>\n",
      "-- <newspaper.article.Article object at 0x0000022FCD37C490>\n",
      "-- <newspaper.article.Article object at 0x0000022FCD37C6A0>\n",
      "-- <newspaper.article.Article object at 0x0000022FCD37E260>\n",
      "-- <newspaper.article.Article object at 0x0000022FE91AFE20>\n",
      "-- <newspaper.article.Article object at 0x0000022FCD37C6A0>\n",
      "-- <newspaper.article.Article object at 0x0000022FE914E830>\n",
      "-- <newspaper.article.Article object at 0x0000022FCD37E260>\n",
      "-- <newspaper.article.Article object at 0x0000022FE914DFC0>\n",
      "-- <newspaper.article.Article object at 0x0000022FCD37D570>\n",
      "-- <newspaper.article.Article object at 0x0000022FE8E6B9D0>\n",
      "-- <newspaper.article.Article object at 0x0000022FE914F670>\n",
      "-- <newspaper.article.Article object at 0x0000022FE914DFC0>\n",
      "-- <newspaper.article.Article object at 0x0000022FE91F3D60>\n",
      "-- <newspaper.article.Article object at 0x0000022FE8E6B9D0>\n",
      "-- <newspaper.article.Article object at 0x0000022FE8E6AEC0>\n",
      "-- <newspaper.article.Article object at 0x0000022FE91AFBB0>\n",
      "-- <newspaper.article.Article object at 0x0000022FE8E6B8B0>\n",
      "-- <newspaper.article.Article object at 0x0000022FE914E6B0>\n",
      "-- <newspaper.article.Article object at 0x0000022FE8E6AEC0>\n",
      "-- <newspaper.article.Article object at 0x0000022FE8E6B9D0>\n",
      "-- <newspaper.article.Article object at 0x0000022FCD37F520>\n",
      "-- <newspaper.article.Article object at 0x0000022FD02C2080>\n",
      "-- <newspaper.article.Article object at 0x0000022FCD37C9A0>\n",
      "-- <newspaper.article.Article object at 0x0000022FE914EBC0>\n",
      "-- <newspaper.article.Article object at 0x0000022FBEF11B70>\n",
      "-- <newspaper.article.Article object at 0x0000022FD02C2080>\n",
      "-- <newspaper.article.Article object at 0x0000022FE8E6B9D0>\n",
      "-- <newspaper.article.Article object at 0x0000022FE8D461D0>\n",
      "-- <newspaper.article.Article object at 0x0000022FE91AFEB0>\n",
      "-- <newspaper.article.Article object at 0x0000022FE91AFE20>\n",
      "-- <newspaper.article.Article object at 0x0000022FBEF11B70>\n",
      "-- <newspaper.article.Article object at 0x0000022FE914F100>\n"
     ]
    },
    {
     "name": "stderr",
     "output_type": "stream",
     "text": [
      "11/14/2023 08:33:01 PM - Article `download()` failed with 403 Client Error: Forbidden for url: https://www.pnas.org/doi/10.1073/pnas.2015149118 on URL https://news.google.com/rss/articles/CBMiMGh0dHBzOi8vd3d3LnBuYXMub3JnL2RvaS8xMC4xMDczL3BuYXMuMjAxNTE0OTExONIBAA?oc=5&hl=en-US&gl=US&ceid=US:en\n"
     ]
    },
    {
     "name": "stdout",
     "output_type": "stream",
     "text": [
      "-- None\n",
      "-- <newspaper.article.Article object at 0x0000022FCD37C9D0>\n",
      "-- <newspaper.article.Article object at 0x0000022FE91AFE20>\n",
      "-- <newspaper.article.Article object at 0x0000022FCD37E110>\n",
      "-- <newspaper.article.Article object at 0x0000022FE8E6B820>\n",
      "-- <newspaper.article.Article object at 0x0000022FCD37ECB0>\n",
      "-- <newspaper.article.Article object at 0x0000022FCD37E110>\n",
      "-- <newspaper.article.Article object at 0x0000022FE91AFE20>\n",
      "-- <newspaper.article.Article object at 0x0000022FE8E6B820>\n",
      "-- <newspaper.article.Article object at 0x0000022FCD37ECB0>\n",
      "-- <newspaper.article.Article object at 0x0000022FE91AFEB0>\n",
      "-- <newspaper.article.Article object at 0x0000022FE91AFE20>\n",
      "-- <newspaper.article.Article object at 0x0000022FE8E6B9D0>\n",
      "-- <newspaper.article.Article object at 0x0000022FE8E6AEC0>\n",
      "-- <newspaper.article.Article object at 0x0000022FE914EBF0>\n",
      "-- <newspaper.article.Article object at 0x0000022FE8E6B8B0>\n",
      "-- <newspaper.article.Article object at 0x0000022FE91F3DC0>\n",
      "-- <newspaper.article.Article object at 0x0000022FEA29AEF0>\n",
      "-- <newspaper.article.Article object at 0x0000022FEA29B790>\n",
      "-- <newspaper.article.Article object at 0x0000022FCD37F820>\n",
      "-- <newspaper.article.Article object at 0x0000022FCD37EE60>\n",
      "-- <newspaper.article.Article object at 0x0000022FE914F520>\n",
      "-- <newspaper.article.Article object at 0x0000022FE91AFEB0>\n",
      "-- <newspaper.article.Article object at 0x0000022FCD37EE60>\n",
      "-- <newspaper.article.Article object at 0x0000022FBEF11B70>\n",
      "-- <newspaper.article.Article object at 0x0000022FCD37C8B0>\n"
     ]
    },
    {
     "name": "stderr",
     "output_type": "stream",
     "text": [
      "11/14/2023 08:35:18 PM - Article `download()` failed with 403 Client Error: Max restarts limit reached for url: https://www.forbes.com/sites/brucejapsen/2021/01/19/thermo-fisher-to-buy-covid-19-test-maker-mesa-biotech-for-450-million/ on URL https://news.google.com/rss/articles/CBMiemh0dHBzOi8vd3d3LmZvcmJlcy5jb20vc2l0ZXMvYnJ1Y2VqYXBzZW4vMjAyMS8wMS8xOS90aGVybW8tZmlzaGVyLXRvLWJ1eS1jb3ZpZC0xOS10ZXN0LW1ha2VyLW1lc2EtYmlvdGVjaC1mb3ItNDUwLW1pbGxpb24v0gF-aHR0cHM6Ly93d3cuZm9yYmVzLmNvbS9zaXRlcy9icnVjZWphcHNlbi8yMDIxLzAxLzE5L3RoZXJtby1maXNoZXItdG8tYnV5LWNvdmlkLTE5LXRlc3QtbWFrZXItbWVzYS1iaW90ZWNoLWZvci00NTAtbWlsbGlvbi9hbXAv?oc=5&hl=en-US&gl=US&ceid=US:en\n"
     ]
    },
    {
     "name": "stdout",
     "output_type": "stream",
     "text": [
      "-- <newspaper.article.Article object at 0x0000022FE91AFF10>\n",
      "-- None\n",
      "-- <newspaper.article.Article object at 0x0000022FE91AFEB0>\n",
      "-- <newspaper.article.Article object at 0x0000022FE91AFF10>\n"
     ]
    },
    {
     "name": "stderr",
     "output_type": "stream",
     "text": [
      "11/14/2023 08:35:32 PM - Article `download()` failed with 403 Client Error: Forbidden for url: https://www.modernhealthcare.com/mergers-acquisitions/thermo-fisher-scientific-acquire-mesa-biotech-up-550m on URL https://news.google.com/rss/articles/CBMia2h0dHBzOi8vd3d3Lm1vZGVybmhlYWx0aGNhcmUuY29tL21lcmdlcnMtYWNxdWlzaXRpb25zL3RoZXJtby1maXNoZXItc2NpZW50aWZpYy1hY3F1aXJlLW1lc2EtYmlvdGVjaC11cC01NTBt0gEA?oc=5&hl=en-US&gl=US&ceid=US:en\n"
     ]
    },
    {
     "name": "stdout",
     "output_type": "stream",
     "text": [
      "-- None\n",
      "-- <newspaper.article.Article object at 0x0000022FE91AFF10>\n",
      "-- <newspaper.article.Article object at 0x0000022FEA29BD90>\n",
      "-- <newspaper.article.Article object at 0x0000022FE91AFBB0>\n",
      "-- <newspaper.article.Article object at 0x0000022FE91AFE20>\n",
      "-- <newspaper.article.Article object at 0x0000022FE8E6B9D0>\n",
      "-- <newspaper.article.Article object at 0x0000022FE914FA60>\n",
      "-- <newspaper.article.Article object at 0x0000022FE914EA40>\n",
      "-- <newspaper.article.Article object at 0x0000022FE8E6AEC0>\n",
      "-- <newspaper.article.Article object at 0x0000022FBEF11B70>\n",
      "-- <newspaper.article.Article object at 0x0000022FE91AFE80>\n",
      "-- <newspaper.article.Article object at 0x0000022FCD37ECB0>\n",
      "-- <newspaper.article.Article object at 0x0000022FE8E6AEC0>\n",
      "-- <newspaper.article.Article object at 0x0000022FE914E680>\n",
      "-- <newspaper.article.Article object at 0x0000022FEA2A3E80>\n",
      "-- <newspaper.article.Article object at 0x0000022FE8D461D0>\n",
      "-- <newspaper.article.Article object at 0x0000022FE91F2740>\n",
      "-- <newspaper.article.Article object at 0x0000022FE91F2FE0>\n",
      "-- <newspaper.article.Article object at 0x0000022FE8E6B8B0>\n",
      "-- <newspaper.article.Article object at 0x0000022FCD37C9D0>\n",
      "-- <newspaper.article.Article object at 0x0000022FE91F2FE0>\n",
      "-- <newspaper.article.Article object at 0x0000022FCD37F820>\n",
      "-- <newspaper.article.Article object at 0x0000022FE91F2FE0>\n",
      "-- <newspaper.article.Article object at 0x0000022FE914E170>\n",
      "-- <newspaper.article.Article object at 0x0000022FE8E6B8B0>\n",
      "-- <newspaper.article.Article object at 0x0000022FE8E6AEC0>\n",
      "-- <newspaper.article.Article object at 0x0000022FEA29B370>\n",
      "-- <newspaper.article.Article object at 0x0000022FE8E6B820>\n",
      "-- <newspaper.article.Article object at 0x0000022FEA2A35E0>\n",
      "-- <newspaper.article.Article object at 0x0000022FE8E6AEC0>\n",
      "-- <newspaper.article.Article object at 0x0000022FE8E6B9D0>\n",
      "-- <newspaper.article.Article object at 0x0000022FE8E6B820>\n"
     ]
    },
    {
     "name": "stderr",
     "output_type": "stream",
     "text": [
      "11/14/2023 08:37:39 PM - Article `download()` failed with 403 Client Error: Forbidden for url: https://www.barrons.com/articles/a-global-stock-fund-that-couldnt-care-less-about-the-growth-versus-value-debate-51611703588 on URL https://news.google.com/rss/articles/CBMifGh0dHBzOi8vd3d3LmJhcnJvbnMuY29tL2FydGljbGVzL2EtZ2xvYmFsLXN0b2NrLWZ1bmQtdGhhdC1jb3VsZG50LWNhcmUtbGVzcy1hYm91dC10aGUtZ3Jvd3RoLXZlcnN1cy12YWx1ZS1kZWJhdGUtNTE2MTE3MDM1ODjSAYABaHR0cHM6Ly93d3cuYmFycm9ucy5jb20vYW1wL2FydGljbGVzL2EtZ2xvYmFsLXN0b2NrLWZ1bmQtdGhhdC1jb3VsZG50LWNhcmUtbGVzcy1hYm91dC10aGUtZ3Jvd3RoLXZlcnN1cy12YWx1ZS1kZWJhdGUtNTE2MTE3MDM1ODg?oc=5&hl=en-US&gl=US&ceid=US:en\n"
     ]
    },
    {
     "name": "stdout",
     "output_type": "stream",
     "text": [
      "-- None\n",
      "-- <newspaper.article.Article object at 0x0000022FE8E6B9D0>\n",
      "-- <newspaper.article.Article object at 0x0000022FE8E6AEC0>\n",
      "-- <newspaper.article.Article object at 0x0000022FE91F2410>\n",
      "-- <newspaper.article.Article object at 0x0000022FEA2A3E50>\n",
      "-- <newspaper.article.Article object at 0x0000022FE91F2740>\n",
      "-- <newspaper.article.Article object at 0x0000022FE91F33A0>\n",
      "-- <newspaper.article.Article object at 0x0000022FE91F3610>\n",
      "-- <newspaper.article.Article object at 0x0000022FEA2A39D0>\n",
      "-- <newspaper.article.Article object at 0x0000022FCD37F820>\n",
      "-- <newspaper.article.Article object at 0x0000022FCD37F850>\n",
      "-- <newspaper.article.Article object at 0x0000022FCD37E290>\n"
     ]
    },
    {
     "name": "stderr",
     "output_type": "stream",
     "text": [
      "11/14/2023 08:38:39 PM - Article `download()` failed with HTTPSConnectionPool(host='www.vz.lt', port=443): Read timed out. (read timeout=7) on URL https://news.google.com/rss/articles/CBMiaWh0dHBzOi8vd3d3LnZ6Lmx0L3ZlcnNsby12YWxkeW1hcy9pcy10YXJueWJvcy1pLzIwMjEvMDIvMDEvcHJpZS1jaXRhZGVsZS12YWxkeWJvcy1wcmlzaWp1bmdlLXItZXplcnNraWVuZdIBAA?oc=5&hl=en-US&gl=US&ceid=US:en\n"
     ]
    },
    {
     "name": "stdout",
     "output_type": "stream",
     "text": [
      "-- None\n",
      "-- <newspaper.article.Article object at 0x0000022FCD37ECB0>\n",
      "-- <newspaper.article.Article object at 0x0000022FE91AFBB0>\n",
      "-- <newspaper.article.Article object at 0x0000022FCF7A7C40>\n",
      "-- <newspaper.article.Article object at 0x0000022FE8E6B8B0>\n",
      "-- <newspaper.article.Article object at 0x0000022FE8E6B820>\n",
      "-- <newspaper.article.Article object at 0x0000022FEA2ABEB0>\n",
      "-- <newspaper.article.Article object at 0x0000022FEA29B310>\n",
      "-- <newspaper.article.Article object at 0x0000022FEA2989A0>\n",
      "-- <newspaper.article.Article object at 0x0000022FE91F33D0>\n",
      "-- <newspaper.article.Article object at 0x0000022FE91F2FE0>\n",
      "-- <newspaper.article.Article object at 0x0000022FE914E170>\n"
     ]
    },
    {
     "name": "stderr",
     "output_type": "stream",
     "text": [
      "11/14/2023 08:39:23 PM - Article `download()` failed with 403 Client Error: Forbidden for url: https://www.360dx.com/pcr/uk-team-creates-five-minute-sars-cov-2-mdx-rarely-used-isothermal-amplification-method on URL https://news.google.com/rss/articles/CBMicGh0dHBzOi8vd3d3LjM2MGR4LmNvbS9wY3IvdWstdGVhbS1jcmVhdGVzLWZpdmUtbWludXRlLXNhcnMtY292LTItbWR4LXJhcmVseS11c2VkLWlzb3RoZXJtYWwtYW1wbGlmaWNhdGlvbi1tZXRob2TSAQA?oc=5&hl=en-US&gl=US&ceid=US:en\n"
     ]
    },
    {
     "name": "stdout",
     "output_type": "stream",
     "text": [
      "-- None\n",
      "-- <newspaper.article.Article object at 0x0000022FEA2ABEB0>\n",
      "-- <newspaper.article.Article object at 0x0000022FEA2DDA80>\n"
     ]
    },
    {
     "name": "stderr",
     "output_type": "stream",
     "text": [
      "11/14/2023 08:39:37 PM - Article `download()` failed with 403 Client Error: Forbidden for url: https://www.360dx.com/business-news/roche-diagnostics-expanding-manufacturing-capacity-testing-portfolio-2021 on URL https://news.google.com/rss/articles/CBMibWh0dHBzOi8vd3d3LjM2MGR4LmNvbS9idXNpbmVzcy1uZXdzL3JvY2hlLWRpYWdub3N0aWNzLWV4cGFuZGluZy1tYW51ZmFjdHVyaW5nLWNhcGFjaXR5LXRlc3RpbmctcG9ydGZvbGlvLTIwMjHSAQA?oc=5&hl=en-US&gl=US&ceid=US:en\n"
     ]
    },
    {
     "name": "stdout",
     "output_type": "stream",
     "text": [
      "-- <newspaper.article.Article object at 0x0000022FE8E6B8B0>\n",
      "-- None\n",
      "-- <newspaper.article.Article object at 0x0000022FE8D461D0>\n",
      "-- <newspaper.article.Article object at 0x0000022FE914E170>\n",
      "-- <newspaper.article.Article object at 0x0000022FE8E6B8B0>\n",
      "-- <newspaper.article.Article object at 0x0000022FEA2A2C50>\n",
      "-- <newspaper.article.Article object at 0x0000022FE8D461D0>\n",
      "-- <newspaper.article.Article object at 0x0000022FEA2A32E0>\n",
      "-- <newspaper.article.Article object at 0x0000022FE914E170>\n",
      "-- <newspaper.article.Article object at 0x0000022FBEF11B70>\n",
      "-- <newspaper.article.Article object at 0x0000022FEA2DE170>\n",
      "-- <newspaper.article.Article object at 0x0000022FEA2ABEB0>\n",
      "-- <newspaper.article.Article object at 0x0000022FEA2DE170>\n",
      "-- <newspaper.article.Article object at 0x0000022FE8D461D0>\n",
      "-- <newspaper.article.Article object at 0x0000022FE91AFBB0>\n",
      "-- <newspaper.article.Article object at 0x0000022FEA2DE170>\n",
      "-- <newspaper.article.Article object at 0x0000022FEA2F3310>\n",
      "-- <newspaper.article.Article object at 0x0000022FE8D461D0>\n",
      "-- <newspaper.article.Article object at 0x0000022FE8E6B8B0>\n",
      "-- <newspaper.article.Article object at 0x0000022FE8E6B820>\n",
      "-- <newspaper.article.Article object at 0x0000022FEA299960>\n",
      "-- <newspaper.article.Article object at 0x0000022FEA2F2D70>\n",
      "-- <newspaper.article.Article object at 0x0000022FEA299330>\n",
      "-- <newspaper.article.Article object at 0x0000022FEA299960>\n",
      "-- <newspaper.article.Article object at 0x0000022FE8E6B8B0>\n",
      "-- <newspaper.article.Article object at 0x0000022FE914E170>\n",
      "-- <newspaper.article.Article object at 0x0000022FEA2DF2E0>\n",
      "-- <newspaper.article.Article object at 0x0000022FE8E6B8B0>\n",
      "-- <newspaper.article.Article object at 0x0000022FE8E6B820>\n",
      "-- <newspaper.article.Article object at 0x0000022FE914E680>\n",
      "-- <newspaper.article.Article object at 0x0000022FEA299330>\n"
     ]
    },
    {
     "name": "stderr",
     "output_type": "stream",
     "text": [
      "11/14/2023 08:41:54 PM - Article `download()` failed with 403 Client Error: Forbidden for url: https://www.360dx.com/regulatory-news-fda-approvals/alveo-technologies-receives-ce-mark-covid-19-test on URL https://news.google.com/rss/articles/CBMiZWh0dHBzOi8vd3d3LjM2MGR4LmNvbS9yZWd1bGF0b3J5LW5ld3MtZmRhLWFwcHJvdmFscy9hbHZlby10ZWNobm9sb2dpZXMtcmVjZWl2ZXMtY2UtbWFyay1jb3ZpZC0xOS10ZXN00gEA?oc=5&hl=en-US&gl=US&ceid=US:en\n"
     ]
    },
    {
     "name": "stdout",
     "output_type": "stream",
     "text": [
      "-- None\n",
      "-- <newspaper.article.Article object at 0x0000022FEA2DF7F0>\n",
      "-- <newspaper.article.Article object at 0x0000022FEA2F1FF0>\n"
     ]
    },
    {
     "name": "stderr",
     "output_type": "stream",
     "text": [
      "11/14/2023 08:41:57 PM - Article `download()` failed with 403 Client Error: Forbidden for url: https://www.barrons.com/articles/this-covid-testing-stock-is-cheap-why-its-time-to-buy-51613135785 on URL https://news.google.com/rss/articles/CBMiYmh0dHBzOi8vd3d3LmJhcnJvbnMuY29tL2FydGljbGVzL3RoaXMtY292aWQtdGVzdGluZy1zdG9jay1pcy1jaGVhcC13aHktaXRzLXRpbWUtdG8tYnV5LTUxNjEzMTM1Nzg10gEA?oc=5&hl=en-US&gl=US&ceid=US:en\n"
     ]
    },
    {
     "name": "stdout",
     "output_type": "stream",
     "text": [
      "-- None\n",
      "-- <newspaper.article.Article object at 0x0000022FEA2A2830>\n",
      "-- <newspaper.article.Article object at 0x0000022FE914E680>\n",
      "-- <newspaper.article.Article object at 0x0000022FEA2F0C70>\n",
      "-- <newspaper.article.Article object at 0x0000022FE8E6B9D0>\n",
      "-- <newspaper.article.Article object at 0x0000022FEA2ABEB0>\n",
      "-- <newspaper.article.Article object at 0x0000022FE91F3610>\n",
      "-- <newspaper.article.Article object at 0x0000022FEA2DF3D0>\n",
      "-- <newspaper.article.Article object at 0x0000022FE91AFBB0>\n",
      "-- <newspaper.article.Article object at 0x0000022FEA2DDD50>\n",
      "-- <newspaper.article.Article object at 0x0000022FE8E6B9D0>\n",
      "-- <newspaper.article.Article object at 0x0000022FE91F3B80>\n",
      "-- <newspaper.article.Article object at 0x0000022FEA2A3F10>\n",
      "-- <newspaper.article.Article object at 0x0000022FEA2DF310>\n",
      "-- <newspaper.article.Article object at 0x0000022FE8E6B9D0>\n",
      "-- <newspaper.article.Article object at 0x0000022FCF7A7C40>\n",
      "-- <newspaper.article.Article object at 0x0000022FEA29B2E0>\n",
      "-- <newspaper.article.Article object at 0x0000022FE91AFBB0>\n",
      "-- <newspaper.article.Article object at 0x0000022FE8E6B9D0>\n",
      "-- <newspaper.article.Article object at 0x0000022FE914E170>\n",
      "-- <newspaper.article.Article object at 0x0000022FEA2A2830>\n",
      "-- <newspaper.article.Article object at 0x0000022FEA2DFBB0>\n",
      "-- <newspaper.article.Article object at 0x0000022FEA2F2B60>\n"
     ]
    },
    {
     "name": "stderr",
     "output_type": "stream",
     "text": [
      "11/14/2023 08:43:34 PM - Article `download()` failed with 403 Client Error: Forbidden for url: https://www.360dx.com/molecular-diagnostics/thermo-fisher-scientific-sued-new-jersey-lab-over-covid-19-testing-problems on URL https://news.google.com/rss/articles/CBMid2h0dHBzOi8vd3d3LjM2MGR4LmNvbS9tb2xlY3VsYXItZGlhZ25vc3RpY3MvdGhlcm1vLWZpc2hlci1zY2llbnRpZmljLXN1ZWQtbmV3LWplcnNleS1sYWItb3Zlci1jb3ZpZC0xOS10ZXN0aW5nLXByb2JsZW1z0gEA?oc=5&hl=en-US&gl=US&ceid=US:en\n"
     ]
    },
    {
     "name": "stdout",
     "output_type": "stream",
     "text": [
      "-- None\n",
      "-- <newspaper.article.Article object at 0x0000022FEA2DFFA0>\n",
      "-- <newspaper.article.Article object at 0x0000022FE91AFBB0>\n",
      "-- <newspaper.article.Article object at 0x0000022FE914E170>\n",
      "-- <newspaper.article.Article object at 0x0000022FEA2A3E50>\n",
      "-- <newspaper.article.Article object at 0x0000022FEA299330>\n",
      "-- <newspaper.article.Article object at 0x0000022FEA29B040>\n",
      "-- <newspaper.article.Article object at 0x0000022FEA2DF2E0>\n",
      "-- <newspaper.article.Article object at 0x0000022FEA2A27A0>\n",
      "-- <newspaper.article.Article object at 0x0000022FEA29B040>\n",
      "-- <newspaper.article.Article object at 0x0000022FEA2ABEB0>\n",
      "-- <newspaper.article.Article object at 0x0000022FE8D461D0>\n",
      "-- <newspaper.article.Article object at 0x0000022FE8E6B820>\n",
      "-- <newspaper.article.Article object at 0x0000022FE91F33D0>\n",
      "-- <newspaper.article.Article object at 0x0000022FEA29B040>\n",
      "-- <newspaper.article.Article object at 0x0000022FE8E6B820>\n",
      "-- <newspaper.article.Article object at 0x0000022FE8E6B9D0>\n",
      "-- <newspaper.article.Article object at 0x0000022FE914E170>\n",
      "-- <newspaper.article.Article object at 0x0000022FEA299330>\n",
      "-- <newspaper.article.Article object at 0x0000022FE8E6B820>\n",
      "-- <newspaper.article.Article object at 0x0000022FEA2F30A0>\n",
      "-- <newspaper.article.Article object at 0x0000022FE8D461D0>\n",
      "-- <newspaper.article.Article object at 0x0000022FEA299330>\n",
      "-- <newspaper.article.Article object at 0x0000022FE914E680>\n",
      "-- <newspaper.article.Article object at 0x0000022FCF7A7C40>\n",
      "-- <newspaper.article.Article object at 0x0000022FE8E6B8B0>\n",
      "-- <newspaper.article.Article object at 0x0000022FE914E680>\n",
      "-- <newspaper.article.Article object at 0x0000022FE8E6B9D0>\n",
      "-- <newspaper.article.Article object at 0x0000022FE8E6B8B0>\n",
      "-- <newspaper.article.Article object at 0x0000022FE91F33A0>\n",
      "-- <newspaper.article.Article object at 0x0000022FEA29B2E0>\n",
      "-- <newspaper.article.Article object at 0x0000022FE91F2FE0>\n",
      "-- <newspaper.article.Article object at 0x0000022FEA2A3E50>\n",
      "-- <newspaper.article.Article object at 0x0000022FEA29B040>\n",
      "-- <newspaper.article.Article object at 0x0000022FEA299330>\n",
      "-- <newspaper.article.Article object at 0x0000022FE914E680>\n",
      "-- <newspaper.article.Article object at 0x0000022FE91AFBB0>\n",
      "-- <newspaper.article.Article object at 0x0000022FEA2F2D10>\n",
      "-- <newspaper.article.Article object at 0x0000022FEA29B040>\n",
      "-- <newspaper.article.Article object at 0x0000022FE8E6B9D0>\n",
      "-- <newspaper.article.Article object at 0x0000022FEA2A2C80>\n",
      "-- <newspaper.article.Article object at 0x0000022FE91F32E0>\n",
      "-- <newspaper.article.Article object at 0x0000022FEA2DD270>\n",
      "-- <newspaper.article.Article object at 0x0000022FE914E680>\n",
      "-- <newspaper.article.Article object at 0x0000022FE91F2410>\n",
      "-- <newspaper.article.Article object at 0x0000022FEA29B2E0>\n",
      "-- <newspaper.article.Article object at 0x0000022FEA2DD780>\n",
      "-- <newspaper.article.Article object at 0x0000022FEA2A2EC0>\n",
      "-- <newspaper.article.Article object at 0x0000022FBEF11B70>\n",
      "-- <newspaper.article.Article object at 0x0000022FEA2A2290>\n",
      "-- <newspaper.article.Article object at 0x0000022FE914E170>\n",
      "-- <newspaper.article.Article object at 0x0000022FEA2F2D10>\n"
     ]
    },
    {
     "name": "stderr",
     "output_type": "stream",
     "text": [
      "11/14/2023 08:47:02 PM - Article `download()` failed with 403 Client Error: Forbidden for url: https://www.360dx.com/point-care-testing/german-stores-begin-selling-covid-19-rapid-antigen-tests-home-use on URL https://news.google.com/rss/articles/CBMiamh0dHBzOi8vd3d3LjM2MGR4LmNvbS9wb2ludC1jYXJlLXRlc3RpbmcvZ2VybWFuLXN0b3Jlcy1iZWdpbi1zZWxsaW5nLWNvdmlkLTE5LXJhcGlkLWFudGlnZW4tdGVzdHMtaG9tZS11c2XSAQA?oc=5&hl=en-US&gl=US&ceid=US:en\n"
     ]
    },
    {
     "name": "stdout",
     "output_type": "stream",
     "text": [
      "-- <newspaper.article.Article object at 0x0000022FE8E6B8B0>\n",
      "-- None\n",
      "-- <newspaper.article.Article object at 0x0000022FEA29B040>\n",
      "-- <newspaper.article.Article object at 0x0000022FE91F33A0>\n",
      "-- <newspaper.article.Article object at 0x0000022FEA2F30A0>\n",
      "-- <newspaper.article.Article object at 0x0000022FCF7A7C40>\n",
      "-- <newspaper.article.Article object at 0x0000022FE8D461D0>\n",
      "-- <newspaper.article.Article object at 0x0000022FE8E6B8B0>\n",
      "-- <newspaper.article.Article object at 0x0000022FE914E170>\n",
      "-- <newspaper.article.Article object at 0x0000022FEA2F36A0>\n",
      "-- <newspaper.article.Article object at 0x0000022FEA2F2F20>\n",
      "-- <newspaper.article.Article object at 0x0000022FEA2F2BF0>\n"
     ]
    },
    {
     "name": "stderr",
     "output_type": "stream",
     "text": [
      "11/14/2023 08:48:01 PM - Article `download()` failed with 403 Client Error: Forbidden for url: https://theoncologist.onlinelibrary.wiley.com/doi/10.1002/onco.13745 on URL https://news.google.com/rss/articles/CBMiRGh0dHBzOi8vdGhlb25jb2xvZ2lzdC5vbmxpbmVsaWJyYXJ5LndpbGV5LmNvbS9kb2kvMTAuMTAwMi9vbmNvLjEzNzQ10gEA?oc=5&hl=en-US&gl=US&ceid=US:en\n"
     ]
    },
    {
     "name": "stdout",
     "output_type": "stream",
     "text": [
      "-- None\n",
      "-- <newspaper.article.Article object at 0x0000022FEA2F2F20>\n",
      "-- <newspaper.article.Article object at 0x0000022FCF7A7C40>\n",
      "-- <newspaper.article.Article object at 0x0000022FEA2DEEC0>\n",
      "-- <newspaper.article.Article object at 0x0000022FE91F3610>\n",
      "-- <newspaper.article.Article object at 0x0000022FE91F32E0>\n",
      "-- <newspaper.article.Article object at 0x0000022FCF7A7C40>\n",
      "-- <newspaper.article.Article object at 0x0000022FE91AFBB0>\n",
      "-- <newspaper.article.Article object at 0x0000022FE91F3610>\n",
      "-- <newspaper.article.Article object at 0x0000022FE91F39D0>\n",
      "-- <newspaper.article.Article object at 0x0000022FCF7A7C40>\n",
      "-- <newspaper.article.Article object at 0x0000022FE91F39D0>\n",
      "-- <newspaper.article.Article object at 0x0000022FE91AFBB0>\n",
      "-- <newspaper.article.Article object at 0x0000022FEA2F3280>\n",
      "-- <newspaper.article.Article object at 0x0000022FCF7A7C40>\n"
     ]
    },
    {
     "name": "stderr",
     "output_type": "stream",
     "text": [
      "11/14/2023 08:48:56 PM - Article `download()` failed with 403 Client Error: Forbidden for url: https://www.fiercebiotech.com/biotech/chutes-ladders-1 on URL https://news.google.com/rss/articles/CBMiNmh0dHBzOi8vd3d3LmZpZXJjZWJpb3RlY2guY29tL2Jpb3RlY2gvY2h1dGVzLWxhZGRlcnMtMdIBAA?oc=5&hl=en-US&gl=US&ceid=US:en\n"
     ]
    },
    {
     "name": "stdout",
     "output_type": "stream",
     "text": [
      "-- None\n",
      "-- <newspaper.article.Article object at 0x0000022FEA29B040>\n",
      "-- <newspaper.article.Article object at 0x0000022FEA2DE170>\n",
      "-- <newspaper.article.Article object at 0x0000022FEA2A3C70>\n",
      "-- <newspaper.article.Article object at 0x0000022FEA2DD780>\n",
      "-- <newspaper.article.Article object at 0x0000022FEA2A3C70>\n",
      "-- <newspaper.article.Article object at 0x0000022FEA2F36D0>\n",
      "-- <newspaper.article.Article object at 0x0000022FCF7A7C40>\n",
      "-- <newspaper.article.Article object at 0x0000022FEA2F36D0>\n",
      "-- <newspaper.article.Article object at 0x0000022FE8E6B8B0>\n",
      "-- <newspaper.article.Article object at 0x0000022FEA2F2C20>\n",
      "-- <newspaper.article.Article object at 0x0000022FEA2F2F80>\n",
      "-- <newspaper.article.Article object at 0x0000022FEA2A2D40>\n",
      "-- <newspaper.article.Article object at 0x0000022FEA2DF760>\n",
      "-- <newspaper.article.Article object at 0x0000022FE91F2740>\n",
      "-- <newspaper.article.Article object at 0x0000022FEA29B2E0>\n",
      "-- <newspaper.article.Article object at 0x0000022FEA2F3280>\n",
      "-- <newspaper.article.Article object at 0x0000022FEA2A0BE0>\n",
      "-- <newspaper.article.Article object at 0x0000022FE91F2740>\n",
      "-- <newspaper.article.Article object at 0x0000022FEA2A2FE0>\n",
      "-- <newspaper.article.Article object at 0x0000022FE91F2740>\n",
      "-- <newspaper.article.Article object at 0x0000022FEA2A30A0>\n",
      "-- <newspaper.article.Article object at 0x0000022FEA2DF130>\n",
      "-- <newspaper.article.Article object at 0x0000022FE91F3DC0>\n",
      "-- <newspaper.article.Article object at 0x0000022FEA2F3FD0>\n",
      "-- <newspaper.article.Article object at 0x0000022FEA2F36A0>\n",
      "-- <newspaper.article.Article object at 0x0000022FEA2F2920>\n",
      "-- <newspaper.article.Article object at 0x0000022FEA2F2BF0>\n",
      "-- <newspaper.article.Article object at 0x0000022FEA2F3FD0>\n",
      "-- <newspaper.article.Article object at 0x0000022FE8E6B9D0>\n",
      "-- <newspaper.article.Article object at 0x0000022FE91F3D60>\n",
      "-- <newspaper.article.Article object at 0x0000022FEA29B040>\n",
      "-- <newspaper.article.Article object at 0x0000022FE91F3DC0>\n",
      "-- <newspaper.article.Article object at 0x0000022FE8E6B9D0>\n",
      "-- <newspaper.article.Article object at 0x0000022FEA2F3670>\n",
      "-- <newspaper.article.Article object at 0x0000022FE91F33D0>\n",
      "-- <newspaper.article.Article object at 0x0000022FE914E170>\n",
      "-- <newspaper.article.Article object at 0x0000022FEA2DE7D0>\n",
      "-- <newspaper.article.Article object at 0x0000022FE91AFBB0>\n",
      "-- <newspaper.article.Article object at 0x0000022FEA29B2E0>\n",
      "-- <newspaper.article.Article object at 0x0000022FE91F2740>\n",
      "-- <newspaper.article.Article object at 0x0000022FEA2A3100>\n",
      "-- <newspaper.article.Article object at 0x0000022FCF7A7C40>\n",
      "-- <newspaper.article.Article object at 0x0000022FEA2DD270>\n",
      "-- <newspaper.article.Article object at 0x0000022FEA2A3100>\n",
      "-- <newspaper.article.Article object at 0x0000022FEA2F3670>\n",
      "-- <newspaper.article.Article object at 0x0000022FCF7A7C40>\n",
      "-- <newspaper.article.Article object at 0x0000022FEA2F30A0>\n",
      "-- <newspaper.article.Article object at 0x0000022FEA2F2BC0>\n",
      "-- <newspaper.article.Article object at 0x0000022FEA2A2C80>\n",
      "-- <newspaper.article.Article object at 0x0000022FE91F3B80>\n",
      "-- <newspaper.article.Article object at 0x0000022FE91F33A0>\n",
      "-- <newspaper.article.Article object at 0x0000022FE91F2FE0>\n",
      "-- <newspaper.article.Article object at 0x0000022FCF7A7C40>\n",
      "-- <newspaper.article.Article object at 0x0000022FE91F3D60>\n",
      "-- <newspaper.article.Article object at 0x0000022FE91F33D0>\n",
      "-- <newspaper.article.Article object at 0x0000022FE91F2FE0>\n",
      "-- <newspaper.article.Article object at 0x0000022FE91F33D0>\n",
      "-- <newspaper.article.Article object at 0x0000022FE91AFBB0>\n",
      "-- <newspaper.article.Article object at 0x0000022FEA29B2E0>\n",
      "-- <newspaper.article.Article object at 0x0000022FE8D461D0>\n",
      "-- <newspaper.article.Article object at 0x0000022FEA2F2BC0>\n",
      "-- <newspaper.article.Article object at 0x0000022FE91AFBB0>\n",
      "-- <newspaper.article.Article object at 0x0000022FEA2A3070>\n",
      "-- <newspaper.article.Article object at 0x0000022FE8D461D0>\n",
      "-- <newspaper.article.Article object at 0x0000022FEA29B2E0>\n",
      "-- <newspaper.article.Article object at 0x0000022FEA2A3070>\n",
      "-- <newspaper.article.Article object at 0x0000022FCF7A7C40>\n",
      "-- <newspaper.article.Article object at 0x0000022FEA2F2A40>\n",
      "-- <newspaper.article.Article object at 0x0000022FEA2A2C80>\n",
      "-- <newspaper.article.Article object at 0x0000022FEA2F2A40>\n",
      "-- <newspaper.article.Article object at 0x0000022FCF7A7C40>\n",
      "-- <newspaper.article.Article object at 0x0000022FE8D461D0>\n",
      "-- <newspaper.article.Article object at 0x0000022FEA2F2A40>\n",
      "-- <newspaper.article.Article object at 0x0000022FEA29B040>\n",
      "-- <newspaper.article.Article object at 0x0000022FBEF11B70>\n",
      "-- <newspaper.article.Article object at 0x0000022FE91AFBB0>\n",
      "-- <newspaper.article.Article object at 0x0000022FEA299330>\n",
      "-- <newspaper.article.Article object at 0x0000022FE8E6B8B0>\n",
      "-- <newspaper.article.Article object at 0x0000022FE8D461D0>\n",
      "-- <newspaper.article.Article object at 0x0000022FE91AFBB0>\n",
      "-- <newspaper.article.Article object at 0x0000022FEA2A2FE0>\n",
      "-- <newspaper.article.Article object at 0x0000022FE914E170>\n",
      "-- <newspaper.article.Article object at 0x0000022FE8E6B8B0>\n",
      "-- <newspaper.article.Article object at 0x0000022FE91AFBB0>\n",
      "-- <newspaper.article.Article object at 0x0000022FEA2DDD50>\n",
      "-- <newspaper.article.Article object at 0x0000022FE8E6B9D0>\n",
      "-- <newspaper.article.Article object at 0x0000022FEA2A0BE0>\n",
      "-- <newspaper.article.Article object at 0x0000022FE8E6B8B0>\n",
      "-- <newspaper.article.Article object at 0x0000022FE8E6B820>\n",
      "-- <newspaper.article.Article object at 0x0000022FE91F23B0>\n",
      "-- <newspaper.article.Article object at 0x0000022FBEF11B70>\n",
      "-- <newspaper.article.Article object at 0x0000022FE91F33A0>\n",
      "-- <newspaper.article.Article object at 0x0000022FE914E170>\n",
      "-- <newspaper.article.Article object at 0x0000022FE8D461D0>\n",
      "-- <newspaper.article.Article object at 0x0000022FCF7A7C40>\n",
      "-- <newspaper.article.Article object at 0x0000022FEA2A3100>\n",
      "-- <newspaper.article.Article object at 0x0000022FE914E170>\n",
      "-- <newspaper.article.Article object at 0x0000022FE91F39D0>\n",
      "-- <newspaper.article.Article object at 0x0000022FBEF11B70>\n",
      "-- <newspaper.article.Article object at 0x0000022FE91F3B80>\n"
     ]
    },
    {
     "name": "stderr",
     "output_type": "stream",
     "text": [
      "11/14/2023 08:55:52 PM - Article `download()` failed with HTTPSConnectionPool(host='www.businesswire.com', port=443): Read timed out. (read timeout=7) on URL https://news.google.com/rss/articles/CBMisgFodHRwczovL3d3dy5idXNpbmVzc3dpcmUuY29tL25ld3MvaG9tZS8yMDIxMDQwNzAwNTIzOC9lbi9WaXpnZW4tU2VjdXJlcy0zN00tU2VyaWVzLUItRmluYW5jaW5nLXRvLUFkdmFuY2UtU3BhdGlhbC1HZW5vbWljcy1UaHJvdWdoLUNvbW1lcmNpYWxpemF0aW9uLW9mLU1FUlNDT1BFJUUyJTg0JUEyLVBsYXRmb3Jt0gEA?oc=5&hl=en-US&gl=US&ceid=US:en\n"
     ]
    },
    {
     "name": "stdout",
     "output_type": "stream",
     "text": [
      "-- None\n",
      "-- <newspaper.article.Article object at 0x0000022FE91F2FE0>\n",
      "-- <newspaper.article.Article object at 0x0000022FEA35B9A0>\n",
      "-- <newspaper.article.Article object at 0x0000022FEA35BDC0>\n",
      "-- <newspaper.article.Article object at 0x0000022FEA35AD40>\n",
      "-- <newspaper.article.Article object at 0x0000022FEA29B040>\n",
      "-- <newspaper.article.Article object at 0x0000022FEA299330>\n",
      "-- <newspaper.article.Article object at 0x0000022FE8E6B9D0>\n"
     ]
    },
    {
     "name": "stderr",
     "output_type": "stream",
     "text": [
      "11/14/2023 08:56:22 PM - Article `download()` failed with 403 Client Error: Forbidden for url: https://www.360dx.com/molecular-diagnostics/novacyt-dispute-uk-department-health-and-social-care-over-coronavirus-test on URL https://news.google.com/rss/articles/CBMidmh0dHBzOi8vd3d3LjM2MGR4LmNvbS9tb2xlY3VsYXItZGlhZ25vc3RpY3Mvbm92YWN5dC1kaXNwdXRlLXVrLWRlcGFydG1lbnQtaGVhbHRoLWFuZC1zb2NpYWwtY2FyZS1vdmVyLWNvcm9uYXZpcnVzLXRlc3TSAQA?oc=5&hl=en-US&gl=US&ceid=US:en\n"
     ]
    },
    {
     "name": "stdout",
     "output_type": "stream",
     "text": [
      "-- None\n",
      "-- <newspaper.article.Article object at 0x0000022FEA299330>\n",
      "-- <newspaper.article.Article object at 0x0000022FE8D461D0>\n",
      "-- <newspaper.article.Article object at 0x0000022FEA35B3A0>\n",
      "-- <newspaper.article.Article object at 0x0000022FEA35A4D0>\n",
      "-- <newspaper.article.Article object at 0x0000022FEA299330>\n",
      "-- <newspaper.article.Article object at 0x0000022FBEF11B70>\n",
      "-- <newspaper.article.Article object at 0x0000022FEA35A4D0>\n",
      "-- <newspaper.article.Article object at 0x0000022FEA3594B0>\n",
      "-- <newspaper.article.Article object at 0x0000022FEA299330>\n",
      "-- <newspaper.article.Article object at 0x0000022FE8E6B9D0>\n",
      "-- <newspaper.article.Article object at 0x0000022FE91F3610>\n",
      "-- <newspaper.article.Article object at 0x0000022FBEF11B70>\n",
      "-- <newspaper.article.Article object at 0x0000022FEA29B040>\n",
      "-- <newspaper.article.Article object at 0x0000022FE91F39D0>\n",
      "-- <newspaper.article.Article object at 0x0000022FE91F3610>\n",
      "-- <newspaper.article.Article object at 0x0000022FBEF11B70>\n"
     ]
    },
    {
     "name": "stderr",
     "output_type": "stream",
     "text": [
      "11/14/2023 08:57:47 PM - Article `download()` failed with 403 Client Error: Forbidden for url: https://www.wsj.com/articles/thermo-fisher-nears-deal-to-buy-ppd-for-more-than-15-billion-11618429624 on URL https://news.google.com/rss/articles/CBMiZWh0dHBzOi8vd3d3Lndzai5jb20vYXJ0aWNsZXMvdGhlcm1vLWZpc2hlci1uZWFycy1kZWFsLXRvLWJ1eS1wcGQtZm9yLW1vcmUtdGhhbi0xNS1iaWxsaW9uLTExNjE4NDI5NjI00gEA?oc=5&hl=en-US&gl=US&ceid=US:en\n"
     ]
    },
    {
     "name": "stdout",
     "output_type": "stream",
     "text": [
      "-- None\n",
      "-- <newspaper.article.Article object at 0x0000022FE91F39D0>\n",
      "-- <newspaper.article.Article object at 0x0000022FE91F23B0>\n",
      "-- <newspaper.article.Article object at 0x0000022FCF7A7C40>\n",
      "-- <newspaper.article.Article object at 0x0000022FBEF11B70>\n",
      "-- <newspaper.article.Article object at 0x0000022FCF7A7C40>\n",
      "-- <newspaper.article.Article object at 0x0000022FEA299330>\n",
      "-- <newspaper.article.Article object at 0x0000022FE8E6B8B0>\n",
      "-- <newspaper.article.Article object at 0x0000022FEA2DD270>\n",
      "-- <newspaper.article.Article object at 0x0000022FCF7A7C40>\n",
      "-- <newspaper.article.Article object at 0x0000022FE8E6B9D0>\n",
      "-- <newspaper.article.Article object at 0x0000022FEA2DC3D0>\n",
      "-- <newspaper.article.Article object at 0x0000022FBEF11B70>\n",
      "-- <newspaper.article.Article object at 0x0000022FE8E6B820>\n",
      "-- <newspaper.article.Article object at 0x0000022FE914E680>\n",
      "-- <newspaper.article.Article object at 0x0000022FEA2DF310>\n",
      "-- <newspaper.article.Article object at 0x0000022FEA2A3130>\n",
      "-- <newspaper.article.Article object at 0x0000022FEA2DE800>\n",
      "-- <newspaper.article.Article object at 0x0000022FEA2F2D10>\n",
      "-- <newspaper.article.Article object at 0x0000022FE91AFBB0>\n",
      "-- <newspaper.article.Article object at 0x0000022FE91F3610>\n",
      "-- <newspaper.article.Article object at 0x0000022FE91F33A0>\n",
      "-- <newspaper.article.Article object at 0x0000022FEA2A2830>\n",
      "-- <newspaper.article.Article object at 0x0000022FEA2A2290>\n",
      "-- <newspaper.article.Article object at 0x0000022FE91F3610>\n",
      "-- <newspaper.article.Article object at 0x0000022FE8D461D0>\n",
      "-- <newspaper.article.Article object at 0x0000022FEA2DE800>\n",
      "-- <newspaper.article.Article object at 0x0000022FEA2A2EC0>\n",
      "-- <newspaper.article.Article object at 0x0000022FE91F3610>\n",
      "-- <newspaper.article.Article object at 0x0000022FE8D461D0>\n",
      "-- <newspaper.article.Article object at 0x0000022FEA2DC3D0>\n",
      "-- <newspaper.article.Article object at 0x0000022FEA2F2530>\n",
      "-- <newspaper.article.Article object at 0x0000022FEA2F3310>\n",
      "-- <newspaper.article.Article object at 0x0000022FEA2F2BC0>\n",
      "-- <newspaper.article.Article object at 0x0000022FEA2F2530>\n",
      "-- <newspaper.article.Article object at 0x0000022FEA35A770>\n",
      "-- <newspaper.article.Article object at 0x0000022FEA2F2BC0>\n",
      "-- <newspaper.article.Article object at 0x0000022FEA2F3280>\n",
      "-- <newspaper.article.Article object at 0x0000022FEA35A770>\n",
      "-- <newspaper.article.Article object at 0x0000022FEA2F3310>\n"
     ]
    },
    {
     "name": "stderr",
     "output_type": "stream",
     "text": [
      "11/14/2023 09:00:08 PM - Article `download()` failed with 403 Client Error: Forbidden for url: https://www.pnas.org/doi/10.1073/pnas.2101918118 on URL https://news.google.com/rss/articles/CBMiMGh0dHBzOi8vd3d3LnBuYXMub3JnL2RvaS8xMC4xMDczL3BuYXMuMjEwMTkxODExONIBAA?oc=5&hl=en-US&gl=US&ceid=US:en\n"
     ]
    },
    {
     "name": "stdout",
     "output_type": "stream",
     "text": [
      "-- None\n",
      "-- <newspaper.article.Article object at 0x0000022FE8E6B9D0>\n",
      "-- <newspaper.article.Article object at 0x0000022FE8E6B8B0>\n",
      "-- <newspaper.article.Article object at 0x0000022FEA2F3FD0>\n",
      "-- <newspaper.article.Article object at 0x0000022FE8E6B820>\n",
      "-- <newspaper.article.Article object at 0x0000022FEA2F2C20>\n",
      "-- <newspaper.article.Article object at 0x0000022FE8E6B8B0>\n",
      "-- <newspaper.article.Article object at 0x0000022FEA2F2C20>\n",
      "-- <newspaper.article.Article object at 0x0000022FE8E6B820>\n",
      "-- <newspaper.article.Article object at 0x0000022FE914E170>\n",
      "-- <newspaper.article.Article object at 0x0000022FEA2F2530>\n",
      "-- <newspaper.article.Article object at 0x0000022FEA29B2E0>\n",
      "-- <newspaper.article.Article object at 0x0000022FE91F2740>\n",
      "-- <newspaper.article.Article object at 0x0000022FE914E170>\n"
     ]
    },
    {
     "name": "stderr",
     "output_type": "stream",
     "text": [
      "11/14/2023 09:01:39 PM - Article `download()` failed with 403 Client Error: Forbidden for url: https://www.pnas.org/doi/10.1073/pnas.2024102118 on URL https://news.google.com/rss/articles/CBMiMGh0dHBzOi8vd3d3LnBuYXMub3JnL2RvaS8xMC4xMDczL3BuYXMuMjAyNDEwMjExONIBAA?oc=5&hl=en-US&gl=US&ceid=US:en\n"
     ]
    },
    {
     "name": "stdout",
     "output_type": "stream",
     "text": [
      "-- None\n",
      "-- <newspaper.article.Article object at 0x0000022FEA2F6FE0>\n"
     ]
    },
    {
     "name": "stderr",
     "output_type": "stream",
     "text": [
      "11/14/2023 09:01:59 PM - Article `download()` failed with HTTPSConnectionPool(host='www.thepigsite.com', port=443): Read timed out. (read timeout=7) on URL https://news.google.com/rss/articles/CBMidGh0dHBzOi8vd3d3LnRoZXBpZ3NpdGUuY29tL2FydGljbGVzL3Jlc2lkdWUtdHJlYXRtZW50LWhvdy10by11c2UtbnV0cmllbnRzLWluLWEtc3VzdGFpbmFibGUtbWFubmVyLWluLXBpZy1wcm9kdWN0aW9u0gEA?oc=5&hl=en-US&gl=US&ceid=US:en\n"
     ]
    },
    {
     "name": "stdout",
     "output_type": "stream",
     "text": [
      "-- None\n",
      "-- <newspaper.article.Article object at 0x0000022FEA2F72B0>\n",
      "-- <newspaper.article.Article object at 0x0000022FE91AFBB0>\n",
      "-- <newspaper.article.Article object at 0x0000022FEA2DE170>\n",
      "-- <newspaper.article.Article object at 0x0000022FE91F39D0>\n",
      "-- <newspaper.article.Article object at 0x0000022FEA35B010>\n",
      "-- <newspaper.article.Article object at 0x0000022FE8D461D0>\n",
      "-- <newspaper.article.Article object at 0x0000022FE91F23B0>\n",
      "-- <newspaper.article.Article object at 0x0000022FE91F33D0>\n",
      "-- <newspaper.article.Article object at 0x0000022FEA2A27A0>\n",
      "-- <newspaper.article.Article object at 0x0000022FE91F2FE0>\n",
      "-- <newspaper.article.Article object at 0x0000022FEA2F2BC0>\n",
      "-- <newspaper.article.Article object at 0x0000022FEA2F7EB0>\n",
      "-- <newspaper.article.Article object at 0x0000022FEA2F2BC0>\n",
      "-- <newspaper.article.Article object at 0x0000022FE8D461D0>\n",
      "-- <newspaper.article.Article object at 0x0000022FEA2A0BE0>\n"
     ]
    },
    {
     "name": "stderr",
     "output_type": "stream",
     "text": [
      "11/14/2023 09:02:48 PM - Article `download()` failed with 403 Client Error: Max restarts limit reached for url: https://www.forbes.com/sites/lawrencelight/2021/04/30/finding-mutual-funds-that-beat-the-market/ on URL https://news.google.com/rss/articles/CBMiYGh0dHBzOi8vd3d3LmZvcmJlcy5jb20vc2l0ZXMvbGF3cmVuY2VsaWdodC8yMDIxLzA0LzMwL2ZpbmRpbmctbXV0dWFsLWZ1bmRzLXRoYXQtYmVhdC10aGUtbWFya2V0L9IBZGh0dHBzOi8vd3d3LmZvcmJlcy5jb20vc2l0ZXMvbGF3cmVuY2VsaWdodC8yMDIxLzA0LzMwL2ZpbmRpbmctbXV0dWFsLWZ1bmRzLXRoYXQtYmVhdC10aGUtbWFya2V0L2FtcC8?oc=5&hl=en-US&gl=US&ceid=US:en\n"
     ]
    },
    {
     "name": "stdout",
     "output_type": "stream",
     "text": [
      "-- <newspaper.article.Article object at 0x0000022FEA2F76A0>\n",
      "-- None\n",
      "-- <newspaper.article.Article object at 0x0000022FEA2F30A0>\n",
      "-- <newspaper.article.Article object at 0x0000022FE91F32E0>\n",
      "-- <newspaper.article.Article object at 0x0000022FEA2DE680>\n",
      "-- <newspaper.article.Article object at 0x0000022FEA2F79D0>\n",
      "-- <newspaper.article.Article object at 0x0000022FEA2F7C70>\n",
      "-- <newspaper.article.Article object at 0x0000022FEA35B010>\n",
      "-- <newspaper.article.Article object at 0x0000022FEA2DEE30>\n",
      "-- <newspaper.article.Article object at 0x0000022FE91F23B0>\n"
     ]
    },
    {
     "name": "stderr",
     "output_type": "stream",
     "text": [
      "11/14/2023 09:03:41 PM - Article `download()` failed with 403 Client Error: Forbidden for url: https://www.pnas.org/doi/10.1073/pnas.2024251118 on URL https://news.google.com/rss/articles/CBMiMGh0dHBzOi8vd3d3LnBuYXMub3JnL2RvaS8xMC4xMDczL3BuYXMuMjAyNDI1MTExONIBAA?oc=5&hl=en-US&gl=US&ceid=US:en\n"
     ]
    },
    {
     "name": "stdout",
     "output_type": "stream",
     "text": [
      "-- None\n",
      "-- <newspaper.article.Article object at 0x0000022FE8E6B9D0>\n",
      "-- <newspaper.article.Article object at 0x0000022FBEF11B70>\n",
      "-- <newspaper.article.Article object at 0x0000022FEA299C00>\n",
      "-- <newspaper.article.Article object at 0x0000022FE91F3D60>\n",
      "-- <newspaper.article.Article object at 0x0000022FE8E6B9D0>\n",
      "-- <newspaper.article.Article object at 0x0000022FBEF11B70>\n",
      "-- <newspaper.article.Article object at 0x0000022FEA2F3310>\n",
      "-- <newspaper.article.Article object at 0x0000022FEA2F2C20>\n",
      "-- <newspaper.article.Article object at 0x0000022FEA2DF490>\n",
      "-- <newspaper.article.Article object at 0x0000022FEA2F6E90>\n"
     ]
    },
    {
     "name": "stderr",
     "output_type": "stream",
     "text": [
      "11/14/2023 09:04:22 PM - Article `download()` failed with 403 Client Error: Forbidden for url: https://pathsocjournals.onlinelibrary.wiley.com/doi/full/10.1002/cjp2.220 on URL https://news.google.com/rss/articles/CBMiSWh0dHBzOi8vcGF0aHNvY2pvdXJuYWxzLm9ubGluZWxpYnJhcnkud2lsZXkuY29tL2RvaS9mdWxsLzEwLjEwMDIvY2pwMi4yMjDSAQA?oc=5&hl=en-US&gl=US&ceid=US:en\n"
     ]
    },
    {
     "name": "stdout",
     "output_type": "stream",
     "text": [
      "-- None\n",
      "-- <newspaper.article.Article object at 0x0000022FEA2F2C20>\n",
      "-- <newspaper.article.Article object at 0x0000022FEA2F2BC0>\n",
      "-- <newspaper.article.Article object at 0x0000022FE914E170>\n",
      "-- <newspaper.article.Article object at 0x0000022FEA2F7F70>\n",
      "-- <newspaper.article.Article object at 0x0000022FEA2F7A00>\n",
      "-- <newspaper.article.Article object at 0x0000022FEA2F2F50>\n",
      "-- <newspaper.article.Article object at 0x0000022FEA29B2E0>\n",
      "-- <newspaper.article.Article object at 0x0000022FE91F23B0>\n",
      "-- <newspaper.article.Article object at 0x0000022FE91F3B80>\n",
      "-- <newspaper.article.Article object at 0x0000022FE8E6B820>\n",
      "-- <newspaper.article.Article object at 0x0000022FEA2A2FE0>\n",
      "-- <newspaper.article.Article object at 0x0000022FE91F3B80>\n",
      "-- <newspaper.article.Article object at 0x0000022FE91F32E0>\n",
      "-- <newspaper.article.Article object at 0x0000022FE8E6B820>\n",
      "-- <newspaper.article.Article object at 0x0000022FEA2A2EC0>\n",
      "-- <newspaper.article.Article object at 0x0000022FE91F32E0>\n",
      "-- <newspaper.article.Article object at 0x0000022FEA2F79D0>\n",
      "-- <newspaper.article.Article object at 0x0000022FE91F3B80>\n",
      "-- <newspaper.article.Article object at 0x0000022FEA2F7A00>\n",
      "-- <newspaper.article.Article object at 0x0000022FEA2DFD00>\n",
      "-- <newspaper.article.Article object at 0x0000022FBEF11B70>\n",
      "-- <newspaper.article.Article object at 0x0000022FEA2F2BC0>\n",
      "-- <newspaper.article.Article object at 0x0000022FE8E6B9D0>\n",
      "-- <newspaper.article.Article object at 0x0000022FE8E6B820>\n",
      "-- <newspaper.article.Article object at 0x0000022FEA2A3070>\n",
      "-- <newspaper.article.Article object at 0x0000022FBEF11B70>\n",
      "-- <newspaper.article.Article object at 0x0000022FE8D461D0>\n",
      "-- <newspaper.article.Article object at 0x0000022FEA2DEE30>\n",
      "-- <newspaper.article.Article object at 0x0000022FEA2F3F70>\n",
      "-- <newspaper.article.Article object at 0x0000022FBEF11B70>\n",
      "-- <newspaper.article.Article object at 0x0000022FE91F33D0>\n",
      "-- <newspaper.article.Article object at 0x0000022FEA2DEE30>\n",
      "-- <newspaper.article.Article object at 0x0000022FEA2F3F40>\n",
      "-- <newspaper.article.Article object at 0x0000022FEA29A9B0>\n",
      "-- <newspaper.article.Article object at 0x0000022FEA2F2F50>\n",
      "-- <newspaper.article.Article object at 0x0000022FE91AFBB0>\n",
      "-- <newspaper.article.Article object at 0x0000022FEA2DFB50>\n",
      "-- <newspaper.article.Article object at 0x0000022FEA29AE30>\n",
      "-- <newspaper.article.Article object at 0x0000022FEA2A27A0>\n",
      "-- <newspaper.article.Article object at 0x0000022FE91F2FE0>\n",
      "-- <newspaper.article.Article object at 0x0000022FEA2F30A0>\n",
      "-- <newspaper.article.Article object at 0x0000022FEA29AE30>\n",
      "-- <newspaper.article.Article object at 0x0000022FEA29A9B0>\n"
     ]
    },
    {
     "name": "stderr",
     "output_type": "stream",
     "text": [
      "11/14/2023 09:08:09 PM - Article `download()` failed with 403 Client Error: Forbidden for url: https://siliconangle.com/2021/05/19/virtual-reality-collaboration-platform-avatour-raises-2-9m-seed-funding/ on URL https://news.google.com/rss/articles/CBMibGh0dHBzOi8vc2lsaWNvbmFuZ2xlLmNvbS8yMDIxLzA1LzE5L3ZpcnR1YWwtcmVhbGl0eS1jb2xsYWJvcmF0aW9uLXBsYXRmb3JtLWF2YXRvdXItcmFpc2VzLTItOW0tc2VlZC1mdW5kaW5nL9IBAA?oc=5&hl=en-US&gl=US&ceid=US:en\n"
     ]
    },
    {
     "name": "stdout",
     "output_type": "stream",
     "text": [
      "-- None\n",
      "-- <newspaper.article.Article object at 0x0000022FBEF11B70>\n",
      "-- <newspaper.article.Article object at 0x0000022FEA2A2FE0>\n",
      "-- <newspaper.article.Article object at 0x0000022FEA2DEE30>\n",
      "-- <newspaper.article.Article object at 0x0000022FEA2A2EC0>\n",
      "-- <newspaper.article.Article object at 0x0000022FEA2F7C70>\n",
      "-- <newspaper.article.Article object at 0x0000022FEA2DF7F0>\n",
      "-- <newspaper.article.Article object at 0x0000022FE91F33D0>\n",
      "-- <newspaper.article.Article object at 0x0000022FEA35B010>\n",
      "-- <newspaper.article.Article object at 0x0000022FEA2DF490>\n",
      "-- <newspaper.article.Article object at 0x0000022FEA2DF7F0>\n",
      "-- <newspaper.article.Article object at 0x0000022FEA2F2920>\n",
      "-- <newspaper.article.Article object at 0x0000022FEA299C00>\n",
      "-- <newspaper.article.Article object at 0x0000022FE914E170>\n",
      "-- <newspaper.article.Article object at 0x0000022FEA2F6F50>\n",
      "-- <newspaper.article.Article object at 0x0000022FEA2F2920>\n"
     ]
    },
    {
     "name": "stderr",
     "output_type": "stream",
     "text": [
      "11/14/2023 09:09:30 PM - Article `download()` failed with 403 Client Error: Forbidden for url: https://www.360dx.com/infectious-disease/diasorin-salofa-get-fda-emergency-use-authorization-sars-cov-2-assays on URL https://news.google.com/rss/articles/CBMibmh0dHBzOi8vd3d3LjM2MGR4LmNvbS9pbmZlY3Rpb3VzLWRpc2Vhc2UvZGlhc29yaW4tc2Fsb2ZhLWdldC1mZGEtZW1lcmdlbmN5LXVzZS1hdXRob3JpemF0aW9uLXNhcnMtY292LTItYXNzYXlz0gEA?oc=5&hl=en-US&gl=US&ceid=US:en\n"
     ]
    },
    {
     "name": "stdout",
     "output_type": "stream",
     "text": [
      "-- None\n",
      "-- <newspaper.article.Article object at 0x0000022FEA2F6F50>\n",
      "-- <newspaper.article.Article object at 0x0000022FEA2F7AF0>\n",
      "-- <newspaper.article.Article object at 0x0000022FEA2F6F50>\n",
      "-- <newspaper.article.Article object at 0x0000022FBEF11B70>\n",
      "-- <newspaper.article.Article object at 0x0000022FEA2DC610>\n",
      "-- <newspaper.article.Article object at 0x0000022FE8E6B820>\n"
     ]
    },
    {
     "name": "stderr",
     "output_type": "stream",
     "text": [
      "11/14/2023 09:09:47 PM - Article `download()` failed with 403 Client Error: Forbidden for url: https://www.pnas.org/doi/full/10.1073/pnas.2104166118 on URL https://news.google.com/rss/articles/CBMiNWh0dHBzOi8vd3d3LnBuYXMub3JnL2RvaS9mdWxsLzEwLjEwNzMvcG5hcy4yMTA0MTY2MTE40gEA?oc=5&hl=en-US&gl=US&ceid=US:en\n"
     ]
    },
    {
     "name": "stdout",
     "output_type": "stream",
     "text": [
      "-- None\n",
      "-- <newspaper.article.Article object at 0x0000022FBEF11B70>\n",
      "-- <newspaper.article.Article object at 0x0000022FE91F2FE0>\n",
      "-- <newspaper.article.Article object at 0x0000022FEA2A27A0>\n",
      "-- <newspaper.article.Article object at 0x0000022FE8E6B820>\n",
      "-- <newspaper.article.Article object at 0x0000022FEA2DED70>\n",
      "-- <newspaper.article.Article object at 0x0000022FEA2F3FD0>\n",
      "-- <newspaper.article.Article object at 0x0000022FEA2F30A0>\n",
      "-- <newspaper.article.Article object at 0x0000022FEA2DED70>\n",
      "-- <newspaper.article.Article object at 0x0000022FEA2A0BE0>\n"
     ]
    },
    {
     "name": "stderr",
     "output_type": "stream",
     "text": [
      "11/14/2023 09:10:18 PM - Article `download()` failed with 403 Client Error: Forbidden for url: https://www.pnas.org/doi/10.1073/pnas.2101161118 on URL https://news.google.com/rss/articles/CBMiMGh0dHBzOi8vd3d3LnBuYXMub3JnL2RvaS8xMC4xMDczL3BuYXMuMjEwMTE2MTExONIBAA?oc=5&hl=en-US&gl=US&ceid=US:en\n"
     ]
    },
    {
     "name": "stdout",
     "output_type": "stream",
     "text": [
      "-- None\n",
      "-- <newspaper.article.Article object at 0x0000022FEA2A2FE0>\n",
      "-- <newspaper.article.Article object at 0x0000022FEA2DEE30>\n",
      "-- <newspaper.article.Article object at 0x0000022FE8E6B9D0>\n",
      "-- <newspaper.article.Article object at 0x0000022FEA29B2E0>\n"
     ]
    },
    {
     "name": "stderr",
     "output_type": "stream",
     "text": [
      "11/14/2023 09:10:33 PM - Article `download()` failed with 403 Client Error: Forbidden for url: https://www.pnas.org/doi/10.1073/pnas.2025759118 on URL https://news.google.com/rss/articles/CBMiMGh0dHBzOi8vd3d3LnBuYXMub3JnL2RvaS8xMC4xMDczL3BuYXMuMjAyNTc1OTExONIBAA?oc=5&hl=en-US&gl=US&ceid=US:en\n"
     ]
    },
    {
     "name": "stdout",
     "output_type": "stream",
     "text": [
      "-- None\n",
      "-- <newspaper.article.Article object at 0x0000022FE914E170>\n",
      "-- <newspaper.article.Article object at 0x0000022FEA299C00>\n",
      "-- <newspaper.article.Article object at 0x0000022FEA2A27A0>\n",
      "-- <newspaper.article.Article object at 0x0000022FEA35B010>\n",
      "-- <newspaper.article.Article object at 0x0000022FEA299C00>\n",
      "-- <newspaper.article.Article object at 0x0000022FEA2A2FE0>\n",
      "-- <newspaper.article.Article object at 0x0000022FEA2A3070>\n",
      "-- <newspaper.article.Article object at 0x0000022FEA2F3F70>\n",
      "-- <newspaper.article.Article object at 0x0000022FE8E6B820>\n",
      "-- <newspaper.article.Article object at 0x0000022FEA2DEE30>\n",
      "-- <newspaper.article.Article object at 0x0000022FEA35B010>\n",
      "-- <newspaper.article.Article object at 0x0000022FE8D461D0>\n",
      "-- <newspaper.article.Article object at 0x0000022FEA2DFB50>\n",
      "-- <newspaper.article.Article object at 0x0000022FE8E6B820>\n",
      "-- <newspaper.article.Article object at 0x0000022FEA2F7AC0>\n",
      "-- <newspaper.article.Article object at 0x0000022FEA2F73A0>\n",
      "-- <newspaper.article.Article object at 0x0000022FEA2F2F50>\n",
      "-- <newspaper.article.Article object at 0x0000022FE91F32E0>\n",
      "-- <newspaper.article.Article object at 0x0000022FEA2F7AC0>\n",
      "-- <newspaper.article.Article object at 0x0000022FEA2A0BE0>\n",
      "-- <newspaper.article.Article object at 0x0000022FE91AFBB0>\n",
      "-- <newspaper.article.Article object at 0x0000022FE91F23B0>\n"
     ]
    },
    {
     "name": "stderr",
     "output_type": "stream",
     "text": [
      "11/14/2023 09:12:18 PM - Article `download()` failed with 403 Client Error: Forbidden for url: https://www.investing.com/news/stock-market-news/4-top-cathie-wood-dividend-stocks-to-buy-now-2522628 on URL https://news.google.com/rss/articles/CBMiZWh0dHBzOi8vd3d3LmludmVzdGluZy5jb20vbmV3cy9zdG9jay1tYXJrZXQtbmV3cy80LXRvcC1jYXRoaWUtd29vZC1kaXZpZGVuZC1zdG9ja3MtdG8tYnV5LW5vdy0yNTIyNjI40gFtaHR0cHM6Ly9tLmludmVzdGluZy5jb20vbmV3cy9zdG9jay1tYXJrZXQtbmV3cy80LXRvcC1jYXRoaWUtd29vZC1kaXZpZGVuZC1zdG9ja3MtdG8tYnV5LW5vdy0yNTIyNjI4P2FtcE1vZGU9MQ?oc=5&hl=en-US&gl=US&ceid=US:en\n"
     ]
    },
    {
     "name": "stdout",
     "output_type": "stream",
     "text": [
      "-- None\n",
      "-- <newspaper.article.Article object at 0x0000022FE91F33D0>\n",
      "-- <newspaper.article.Article object at 0x0000022FE8D461D0>\n",
      "-- <newspaper.article.Article object at 0x0000022FE91F33D0>\n",
      "-- <newspaper.article.Article object at 0x0000022FE8D461D0>\n",
      "-- <newspaper.article.Article object at 0x0000022FEA2F6E60>\n",
      "-- <newspaper.article.Article object at 0x0000022FE914E170>\n",
      "-- <newspaper.article.Article object at 0x0000022FEA2DF7F0>\n",
      "-- <newspaper.article.Article object at 0x0000022FEA2DEFB0>\n",
      "-- <newspaper.article.Article object at 0x0000022FEA2A27A0>\n",
      "-- <newspaper.article.Article object at 0x0000022FE91AFBB0>\n",
      "-- <newspaper.article.Article object at 0x0000022FEA2F2BC0>\n",
      "-- <newspaper.article.Article object at 0x0000022FEA2DF490>\n",
      "-- <newspaper.article.Article object at 0x0000022FEA2A27A0>\n",
      "-- <newspaper.article.Article object at 0x0000022FE91AFBB0>\n",
      "-- <newspaper.article.Article object at 0x0000022FEA35B010>\n",
      "-- <newspaper.article.Article object at 0x0000022FEA2F2F50>\n",
      "-- <newspaper.article.Article object at 0x0000022FEA2F2920>\n"
     ]
    },
    {
     "name": "stderr",
     "output_type": "stream",
     "text": [
      "11/14/2023 09:14:02 PM - Article `download()` failed with HTTPSConnectionPool(host='aithority.com', port=443): Read timed out. (read timeout=7) on URL https://news.google.com/rss/articles/CBMib2h0dHBzOi8vYWl0aG9yaXR5LmNvbS9jb2duaXRpdmUtc2NpZW5jZS90aGVybW8tZmlzaGVyLXNjaWVudGlmaWMtY29sbGFib3JhdGVzLXdpdGgtdGhlLXVuaXZlcnNpdHktb2Ytc2hlZmZpZWxkL9IBAA?oc=5&hl=en-US&gl=US&ceid=US:en\n"
     ]
    },
    {
     "name": "stdout",
     "output_type": "stream",
     "text": [
      "-- None\n",
      "-- <newspaper.article.Article object at 0x0000022FEA2F3F40>\n",
      "-- <newspaper.article.Article object at 0x0000022FE91F23B0>\n",
      "-- <newspaper.article.Article object at 0x0000022FEA299C00>\n",
      "-- <newspaper.article.Article object at 0x0000022FEA2DF3D0>\n",
      "-- <newspaper.article.Article object at 0x0000022FEA2DEFB0>\n",
      "-- <newspaper.article.Article object at 0x0000022FEA2A0BE0>\n",
      "-- <newspaper.article.Article object at 0x0000022FEA2A3070>\n",
      "-- <newspaper.article.Article object at 0x0000022FE91AFBB0>\n",
      "-- <newspaper.article.Article object at 0x0000022FBEF11B70>\n",
      "-- <newspaper.article.Article object at 0x0000022FE91F23B0>\n",
      "-- <newspaper.article.Article object at 0x0000022FE91F33D0>\n",
      "-- <newspaper.article.Article object at 0x0000022FEA2F7460>\n",
      "-- <newspaper.article.Article object at 0x0000022FEA2F70D0>\n",
      "-- <newspaper.article.Article object at 0x0000022FE91F33D0>\n",
      "-- <newspaper.article.Article object at 0x0000022FEA2F2920>\n"
     ]
    },
    {
     "name": "stderr",
     "output_type": "stream",
     "text": [
      "11/14/2023 09:14:49 PM - Article `download()` failed with 403 Client Error: Forbidden for url: https://www.pnas.org/doi/10.1073/pnas.2104686118 on URL https://news.google.com/rss/articles/CBMiMGh0dHBzOi8vd3d3LnBuYXMub3JnL2RvaS8xMC4xMDczL3BuYXMuMjEwNDY4NjExONIBAA?oc=5&hl=en-US&gl=US&ceid=US:en\n"
     ]
    },
    {
     "name": "stdout",
     "output_type": "stream",
     "text": [
      "-- <newspaper.article.Article object at 0x0000022FEA29A9B0>\n",
      "-- None\n",
      "-- <newspaper.article.Article object at 0x0000022FE91F33D0>\n",
      "-- <newspaper.article.Article object at 0x0000022FEA2F2C20>\n",
      "-- <newspaper.article.Article object at 0x0000022FEA2F73A0>\n",
      "-- <newspaper.article.Article object at 0x0000022FEA2F7AC0>\n",
      "-- <newspaper.article.Article object at 0x0000022FE8E6B9D0>\n",
      "-- <newspaper.article.Article object at 0x0000022FEA2F6EF0>\n"
     ]
    },
    {
     "name": "stderr",
     "output_type": "stream",
     "text": [
      "11/14/2023 09:15:17 PM - Article `download()` failed with 403 Client Error: Forbidden for url: https://www.bignewsnetwork.com/news/269875267/us-senator-slams-apple-amazon-nike-for-using-chinese-forced-labor on URL https://news.google.com/rss/articles/CBMib2h0dHBzOi8vd3d3LmJpZ25ld3NuZXR3b3JrLmNvbS9uZXdzLzI2OTg3NTI2Ny91cy1zZW5hdG9yLXNsYW1zLWFwcGxlLWFtYXpvbi1uaWtlLWZvci11c2luZy1jaGluZXNlLWZvcmNlZC1sYWJvctIBAA?oc=5&hl=en-US&gl=US&ceid=US:en\n"
     ]
    },
    {
     "name": "stdout",
     "output_type": "stream",
     "text": [
      "-- None\n",
      "-- <newspaper.article.Article object at 0x0000022FEA2F7460>\n"
     ]
    },
    {
     "name": "stderr",
     "output_type": "stream",
     "text": [
      "11/14/2023 09:15:30 PM - Article `download()` failed with 403 Client Error: Forbidden for url: https://www.pnas.org/doi/10.1073/pnas.2022114118 on URL https://news.google.com/rss/articles/CBMiMGh0dHBzOi8vd3d3LnBuYXMub3JnL2RvaS8xMC4xMDczL3BuYXMuMjAyMjExNDExONIBAA?oc=5&hl=en-US&gl=US&ceid=US:en\n"
     ]
    },
    {
     "name": "stdout",
     "output_type": "stream",
     "text": [
      "-- None\n",
      "-- <newspaper.article.Article object at 0x0000022FEA2DF7F0>\n",
      "-- <newspaper.article.Article object at 0x0000022FE8E6B9D0>\n"
     ]
    },
    {
     "name": "stderr",
     "output_type": "stream",
     "text": [
      "11/14/2023 09:15:32 PM - Article `download()` failed with 403 Client Error: Forbidden for url: https://www.axios.com/2021/06/14/health-care-ceo-pay-2020-pandemic on URL https://news.google.com/rss/articles/CBMiQmh0dHBzOi8vd3d3LmF4aW9zLmNvbS8yMDIxLzA2LzE0L2hlYWx0aC1jYXJlLWNlby1wYXktMjAyMC1wYW5kZW1pY9IBAA?oc=5&hl=en-US&gl=US&ceid=US:en\n"
     ]
    },
    {
     "name": "stdout",
     "output_type": "stream",
     "text": [
      "-- None\n",
      "-- <newspaper.article.Article object at 0x0000022FE8E6B820>\n",
      "-- <newspaper.article.Article object at 0x0000022FE91AFBB0>\n",
      "-- <newspaper.article.Article object at 0x0000022FEA2F7730>\n",
      "-- <newspaper.article.Article object at 0x0000022FEA2F7BB0>\n",
      "-- <newspaper.article.Article object at 0x0000022FE8E6B820>\n",
      "-- <newspaper.article.Article object at 0x0000022FEA2F78E0>\n",
      "-- <newspaper.article.Article object at 0x0000022FE91F32E0>\n",
      "-- <newspaper.article.Article object at 0x0000022FE8E6B9D0>\n",
      "-- <newspaper.article.Article object at 0x0000022FEA2DC610>\n",
      "-- <newspaper.article.Article object at 0x0000022FEA29A9B0>\n",
      "-- <newspaper.article.Article object at 0x0000022FE91F23B0>\n",
      "-- <newspaper.article.Article object at 0x0000022FBEF11B70>\n",
      "-- <newspaper.article.Article object at 0x0000022FEA299C00>\n",
      "-- <newspaper.article.Article object at 0x0000022FE91F33D0>\n",
      "-- <newspaper.article.Article object at 0x0000022FEA29A9B0>\n",
      "-- <newspaper.article.Article object at 0x0000022FEA2DC610>\n",
      "-- <newspaper.article.Article object at 0x0000022FEA2F3FD0>\n",
      "-- <newspaper.article.Article object at 0x0000022FEA2F7040>\n",
      "-- <newspaper.article.Article object at 0x0000022FEA2F77C0>\n",
      "-- <newspaper.article.Article object at 0x0000022FEA299C00>\n",
      "-- <newspaper.article.Article object at 0x0000022FEA2F2BC0>\n",
      "-- <newspaper.article.Article object at 0x0000022FEA2A0BE0>\n",
      "-- <newspaper.article.Article object at 0x0000022FEA2F7880>\n",
      "-- <newspaper.article.Article object at 0x0000022FEA2A3070>\n",
      "-- <newspaper.article.Article object at 0x0000022FE91AFBB0>\n",
      "-- <newspaper.article.Article object at 0x0000022FEA2A3070>\n",
      "-- <newspaper.article.Article object at 0x0000022FEA2DF7F0>\n",
      "-- <newspaper.article.Article object at 0x0000022FEA2F2920>\n",
      "-- <newspaper.article.Article object at 0x0000022FEA2A0BE0>\n",
      "-- <newspaper.article.Article object at 0x0000022FEA2A3070>\n",
      "-- <newspaper.article.Article object at 0x0000022FEA2DF7F0>\n",
      "-- <newspaper.article.Article object at 0x0000022FE8D461D0>\n",
      "-- <newspaper.article.Article object at 0x0000022FEA2F7B20>\n",
      "-- <newspaper.article.Article object at 0x0000022FE8E6B820>\n",
      "-- <newspaper.article.Article object at 0x0000022FEA35B010>\n",
      "-- <newspaper.article.Article object at 0x0000022FEA2DF7F0>\n",
      "-- <newspaper.article.Article object at 0x0000022FEA2A3070>\n",
      "-- <newspaper.article.Article object at 0x0000022FEA2DD4E0>\n",
      "-- <newspaper.article.Article object at 0x0000022FBEF11B70>\n",
      "-- <newspaper.article.Article object at 0x0000022FE8D461D0>\n",
      "-- <newspaper.article.Article object at 0x0000022FEA2A2FE0>\n",
      "-- <newspaper.article.Article object at 0x0000022FEA2F7130>\n",
      "-- <newspaper.article.Article object at 0x0000022FEA2A3070>\n",
      "-- <newspaper.article.Article object at 0x0000022FEA2A2FE0>\n",
      "-- <newspaper.article.Article object at 0x0000022FEA2A2EC0>\n",
      "-- <newspaper.article.Article object at 0x0000022FEA2A0BE0>\n",
      "-- <newspaper.article.Article object at 0x0000022FEA2DF3D0>\n",
      "-- <newspaper.article.Article object at 0x0000022FE8E6B9D0>\n",
      "-- <newspaper.article.Article object at 0x0000022FEA2DE770>\n",
      "-- <newspaper.article.Article object at 0x0000022FEA358970>\n",
      "-- <newspaper.article.Article object at 0x0000022FE8E6B9D0>\n",
      "-- <newspaper.article.Article object at 0x0000022FE914E170>\n",
      "-- <newspaper.article.Article object at 0x0000022FEA2F2BF0>\n",
      "-- <newspaper.article.Article object at 0x0000022FEA358970>\n"
     ]
    },
    {
     "name": "stderr",
     "output_type": "stream",
     "text": [
      "11/14/2023 09:19:25 PM - Article `download()` failed with 403 Client Error: Forbidden for url: https://www.pnas.org/doi/10.1073/pnas.2101497118 on URL https://news.google.com/rss/articles/CBMiMGh0dHBzOi8vd3d3LnBuYXMub3JnL2RvaS8xMC4xMDczL3BuYXMuMjEwMTQ5NzExONIBAA?oc=5&hl=en-US&gl=US&ceid=US:en\n"
     ]
    },
    {
     "name": "stdout",
     "output_type": "stream",
     "text": [
      "-- None\n",
      "-- <newspaper.article.Article object at 0x0000022FEA2A2FE0>\n",
      "-- <newspaper.article.Article object at 0x0000022FE8D461D0>\n",
      "-- <newspaper.article.Article object at 0x0000022FEA299C00>\n",
      "-- <newspaper.article.Article object at 0x0000022FEA2F3310>\n",
      "-- <newspaper.article.Article object at 0x0000022FEA29AE30>\n",
      "-- <newspaper.article.Article object at 0x0000022FEA2F2920>\n"
     ]
    },
    {
     "name": "stderr",
     "output_type": "stream",
     "text": [
      "11/14/2023 09:19:54 PM - Article `download()` failed with 403 Client Error: Forbidden for url: https://theoncologist.onlinelibrary.wiley.com/doi/10.1002/onco.13885 on URL https://news.google.com/rss/articles/CBMiRGh0dHBzOi8vdGhlb25jb2xvZ2lzdC5vbmxpbmVsaWJyYXJ5LndpbGV5LmNvbS9kb2kvMTAuMTAwMi9vbmNvLjEzODg10gEA?oc=5&hl=en-US&gl=US&ceid=US:en\n"
     ]
    },
    {
     "name": "stdout",
     "output_type": "stream",
     "text": [
      "-- None\n",
      "-- <newspaper.article.Article object at 0x0000022FBEF11B70>\n",
      "-- <newspaper.article.Article object at 0x0000022FE914E170>\n",
      "-- <newspaper.article.Article object at 0x0000022FEA2F75E0>\n",
      "-- <newspaper.article.Article object at 0x0000022FEA2F78E0>\n",
      "-- <newspaper.article.Article object at 0x0000022FEA2DFCA0>\n"
     ]
    },
    {
     "name": "stderr",
     "output_type": "stream",
     "text": [
      "11/14/2023 09:20:21 PM - Article `download()` failed with 403 Client Error: Forbidden for url: https://www.fiercebiotech.com/cro/parexel-snapped-up-again-as-goldman-sachs-eqt-spend-8-5b-cro on URL https://news.google.com/rss/articles/CBMiXmh0dHBzOi8vd3d3LmZpZXJjZWJpb3RlY2guY29tL2Nyby9wYXJleGVsLXNuYXBwZWQtdXAtYWdhaW4tYXMtZ29sZG1hbi1zYWNocy1lcXQtc3BlbmQtOC01Yi1jcm_SAQA?oc=5&hl=en-US&gl=US&ceid=US:en\n"
     ]
    },
    {
     "name": "stdout",
     "output_type": "stream",
     "text": [
      "-- None\n",
      "-- <newspaper.article.Article object at 0x0000022FEA2F7DC0>\n"
     ]
    },
    {
     "name": "stderr",
     "output_type": "stream",
     "text": [
      "11/14/2023 09:20:23 PM - Article `download()` failed with 403 Client Error: Forbidden for url: https://www.wsj.com/articles/eqt-and-goldman-near-deal-to-buy-parexel-11625185563 on URL https://news.google.com/rss/articles/CBMiUWh0dHBzOi8vd3d3Lndzai5jb20vYXJ0aWNsZXMvZXF0LWFuZC1nb2xkbWFuLW5lYXItZGVhbC10by1idXktcGFyZXhlbC0xMTYyNTE4NTU2M9IBAA?oc=5&hl=en-US&gl=US&ceid=US:en\n"
     ]
    },
    {
     "name": "stdout",
     "output_type": "stream",
     "text": [
      "-- None\n",
      "-- <newspaper.article.Article object at 0x0000022FEA2A2EC0>\n",
      "-- <newspaper.article.Article object at 0x0000022FE91F2410>\n",
      "-- <newspaper.article.Article object at 0x0000022FEA2DE770>\n",
      "-- <newspaper.article.Article object at 0x0000022FBEF11B70>\n",
      "-- <newspaper.article.Article object at 0x0000022FEA2F7460>\n",
      "-- <newspaper.article.Article object at 0x0000022FE91F2410>\n",
      "-- <newspaper.article.Article object at 0x0000022FEA2A0BE0>\n",
      "-- <newspaper.article.Article object at 0x0000022FE91F2FE0>\n",
      "-- <newspaper.article.Article object at 0x0000022FEA29AE30>\n",
      "-- <newspaper.article.Article object at 0x0000022FEA2A0BE0>\n",
      "-- <newspaper.article.Article object at 0x0000022FEA2F7460>\n",
      "-- <newspaper.article.Article object at 0x0000022FEA2A2FE0>\n",
      "-- <newspaper.article.Article object at 0x0000022FEA2A2EC0>\n",
      "-- <newspaper.article.Article object at 0x0000022FEA2F70D0>\n"
     ]
    },
    {
     "name": "stderr",
     "output_type": "stream",
     "text": [
      "11/14/2023 09:21:38 PM - Article `download()` failed with 403 Client Error: Forbidden for url: https://febs.onlinelibrary.wiley.com/doi/full/10.1111/febs.16114 on URL https://news.google.com/rss/articles/CBMiQGh0dHBzOi8vZmVicy5vbmxpbmVsaWJyYXJ5LndpbGV5LmNvbS9kb2kvZnVsbC8xMC4xMTExL2ZlYnMuMTYxMTTSAQA?oc=5&hl=en-US&gl=US&ceid=US:en\n"
     ]
    },
    {
     "name": "stdout",
     "output_type": "stream",
     "text": [
      "-- None\n",
      "-- <newspaper.article.Article object at 0x0000022FEA2A2FE0>\n",
      "-- <newspaper.article.Article object at 0x0000022FEA2DEE30>\n",
      "-- <newspaper.article.Article object at 0x0000022FE914E170>\n",
      "-- <newspaper.article.Article object at 0x0000022FE91F3B80>\n",
      "-- <newspaper.article.Article object at 0x0000022FEA2DE170>\n",
      "-- <newspaper.article.Article object at 0x0000022FE8D461D0>\n",
      "-- <newspaper.article.Article object at 0x0000022FE91F2FE0>\n",
      "-- <newspaper.article.Article object at 0x0000022FE91F3B80>\n",
      "-- <newspaper.article.Article object at 0x0000022FE91AFBB0>\n",
      "-- <newspaper.article.Article object at 0x0000022FE8D461D0>\n",
      "-- <newspaper.article.Article object at 0x0000022FE8E6B820>\n",
      "-- <newspaper.article.Article object at 0x0000022FBEF11B70>\n",
      "-- <newspaper.article.Article object at 0x0000022FEA358970>\n",
      "-- <newspaper.article.Article object at 0x0000022FE91AFBB0>\n",
      "-- <newspaper.article.Article object at 0x0000022FEA29B2E0>\n",
      "-- <newspaper.article.Article object at 0x0000022FEA2DE170>\n",
      "-- <newspaper.article.Article object at 0x0000022FE91F3610>\n",
      "-- <newspaper.article.Article object at 0x0000022FE8E6B820>\n",
      "-- <newspaper.article.Article object at 0x0000022FE91F3610>\n",
      "-- <newspaper.article.Article object at 0x0000022FEA2F3FD0>\n",
      "-- <newspaper.article.Article object at 0x0000022FEA2DE680>\n",
      "-- <newspaper.article.Article object at 0x0000022FEA358970>\n",
      "-- <newspaper.article.Article object at 0x0000022FEA2F7130>\n",
      "-- <newspaper.article.Article object at 0x0000022FE8E6B9D0>\n",
      "-- <newspaper.article.Article object at 0x0000022FE91AFBB0>\n",
      "-- <newspaper.article.Article object at 0x0000022FEA2F3F70>\n",
      "-- <newspaper.article.Article object at 0x0000022FE8E6B820>\n",
      "-- <newspaper.article.Article object at 0x0000022FE914E170>\n",
      "-- <newspaper.article.Article object at 0x0000022FE91F3610>\n",
      "-- <newspaper.article.Article object at 0x0000022FEA2DED70>\n"
     ]
    },
    {
     "name": "stderr",
     "output_type": "stream",
     "text": [
      "11/14/2023 09:24:14 PM - Article `download()` failed with 403 Client Error: Forbidden for url: https://www.sciencedaily.com/releases/2021/07/210714131845.htm on URL https://news.google.com/rss/articles/CBMiPmh0dHBzOi8vd3d3LnNjaWVuY2VkYWlseS5jb20vcmVsZWFzZXMvMjAyMS8wNy8yMTA3MTQxMzE4NDUuaHRt0gEA?oc=5&hl=en-US&gl=US&ceid=US:en\n"
     ]
    },
    {
     "name": "stdout",
     "output_type": "stream",
     "text": [
      "-- None\n",
      "-- <newspaper.article.Article object at 0x0000022FEA2F7700>\n",
      "-- <newspaper.article.Article object at 0x0000022FEA2F6EF0>\n",
      "-- <newspaper.article.Article object at 0x0000022FE8E6B820>\n",
      "-- <newspaper.article.Article object at 0x0000022FEA2DF3D0>\n",
      "-- <newspaper.article.Article object at 0x0000022FEA299C00>\n",
      "-- <newspaper.article.Article object at 0x0000022FEA2DFD00>\n",
      "-- <newspaper.article.Article object at 0x0000022FEA2F2BF0>\n",
      "-- <newspaper.article.Article object at 0x0000022FE8D461D0>\n",
      "-- <newspaper.article.Article object at 0x0000022FE8E6B9D0>\n",
      "-- <newspaper.article.Article object at 0x0000022FEA2F3310>\n",
      "-- <newspaper.article.Article object at 0x0000022FEA2F2BF0>\n",
      "-- <newspaper.article.Article object at 0x0000022FEA2F77F0>\n",
      "-- <newspaper.article.Article object at 0x0000022FEA2F75E0>\n",
      "-- <newspaper.article.Article object at 0x0000022FEA2F7A60>\n",
      "-- <newspaper.article.Article object at 0x0000022FEA2DD4E0>\n",
      "-- <newspaper.article.Article object at 0x0000022FEA2F77F0>\n",
      "-- <newspaper.article.Article object at 0x0000022FEA2F7AF0>\n",
      "-- <newspaper.article.Article object at 0x0000022FEA2F2BF0>\n",
      "-- <newspaper.article.Article object at 0x0000022FEA2F2C20>\n",
      "-- <newspaper.article.Article object at 0x0000022FEA35B010>\n",
      "-- <newspaper.article.Article object at 0x0000022FE91AFBB0>\n",
      "-- <newspaper.article.Article object at 0x0000022FEA2A3070>\n",
      "-- <newspaper.article.Article object at 0x0000022FEA2DF3D0>\n",
      "-- <newspaper.article.Article object at 0x0000022FEA35B010>\n",
      "-- <newspaper.article.Article object at 0x0000022FBEF11B70>\n",
      "-- <newspaper.article.Article object at 0x0000022FEA358970>\n",
      "-- <newspaper.article.Article object at 0x0000022FEA2DF3D0>\n",
      "-- <newspaper.article.Article object at 0x0000022FEA29A9B0>\n",
      "-- <newspaper.article.Article object at 0x0000022FBEF11B70>\n",
      "-- <newspaper.article.Article object at 0x0000022FE91AFBB0>\n"
     ]
    },
    {
     "name": "stderr",
     "output_type": "stream",
     "text": [
      "11/14/2023 09:26:43 PM - Article `download()` failed with 403 Client Error: Forbidden for url: https://www.360dx.com/infectious-disease/find-expands-fever-bank-diagnostics-developers on URL https://news.google.com/rss/articles/CBMiV2h0dHBzOi8vd3d3LjM2MGR4LmNvbS9pbmZlY3Rpb3VzLWRpc2Vhc2UvZmluZC1leHBhbmRzLWZldmVyLWJhbmstZGlhZ25vc3RpY3MtZGV2ZWxvcGVyc9IBAA?oc=5&hl=en-US&gl=US&ceid=US:en\n"
     ]
    },
    {
     "name": "stdout",
     "output_type": "stream",
     "text": [
      "-- None\n",
      "-- <newspaper.article.Article object at 0x0000022FEA2A0BE0>\n",
      "-- <newspaper.article.Article object at 0x0000022FEA299C00>\n",
      "-- <newspaper.article.Article object at 0x0000022FE91AFBB0>\n",
      "-- <newspaper.article.Article object at 0x0000022FEA2F3FD0>\n",
      "-- <newspaper.article.Article object at 0x0000022FEA2A0BE0>\n",
      "-- <newspaper.article.Article object at 0x0000022FE91AFBB0>\n"
     ]
    },
    {
     "name": "stderr",
     "output_type": "stream",
     "text": [
      "11/14/2023 09:27:07 PM - Article `download()` failed with HTTPSConnectionPool(host='www.vz.lt', port=443): Read timed out. (read timeout=7) on URL https://news.google.com/rss/articles/CBMiamh0dHBzOi8vd3d3LnZ6Lmx0L3ZlcnNsby12YWxkeW1hcy9pcy10YXJueWJvcy1pLzIwMjEvMDcvMjMvZGFybnUtZ3JvdXAtcGFza2lydGEtbmF1amEta29tdW5pa2FjaWpvcy12YWRvdmXSAQA?oc=5&hl=en-US&gl=US&ceid=US:en\n"
     ]
    },
    {
     "name": "stdout",
     "output_type": "stream",
     "text": [
      "-- None\n",
      "-- <newspaper.article.Article object at 0x0000022FE91AFBB0>\n",
      "-- <newspaper.article.Article object at 0x0000022FEA2F2BC0>\n",
      "-- <newspaper.article.Article object at 0x0000022FBEF11B70>\n",
      "-- <newspaper.article.Article object at 0x0000022FE8D461D0>\n",
      "-- <newspaper.article.Article object at 0x0000022FEA35B010>\n",
      "-- <newspaper.article.Article object at 0x0000022FEA2F2C20>\n",
      "-- <newspaper.article.Article object at 0x0000022FE91F3610>\n",
      "-- <newspaper.article.Article object at 0x0000022FEA29B2E0>\n",
      "-- <newspaper.article.Article object at 0x0000022FEA35B010>\n",
      "-- <newspaper.article.Article object at 0x0000022FE91F33D0>\n",
      "-- <newspaper.article.Article object at 0x0000022FEA35B010>\n",
      "-- <newspaper.article.Article object at 0x0000022FEA29B2E0>\n",
      "-- <newspaper.article.Article object at 0x0000022FE91F2FE0>\n",
      "-- <newspaper.article.Article object at 0x0000022FEA2A2EC0>\n",
      "-- <newspaper.article.Article object at 0x0000022FEA2DFB50>\n",
      "-- <newspaper.article.Article object at 0x0000022FEA2F3FD0>\n",
      "-- <newspaper.article.Article object at 0x0000022FEA2F3F40>\n",
      "-- <newspaper.article.Article object at 0x0000022FEA2DF490>\n",
      "-- <newspaper.article.Article object at 0x0000022FE91F2FE0>\n",
      "-- <newspaper.article.Article object at 0x0000022FE91F3B80>\n",
      "-- <newspaper.article.Article object at 0x0000022FEA2A3070>\n",
      "-- <newspaper.article.Article object at 0x0000022FEA29B2E0>\n",
      "-- <newspaper.article.Article object at 0x0000022FE8E6B9D0>\n",
      "-- <newspaper.article.Article object at 0x0000022FEA2A2FE0>\n",
      "-- <newspaper.article.Article object at 0x0000022FEA299C00>\n",
      "-- <newspaper.article.Article object at 0x0000022FEA29B2E0>\n",
      "-- <newspaper.article.Article object at 0x0000022FE91F3610>\n",
      "-- <newspaper.article.Article object at 0x0000022FE91F23B0>\n",
      "-- <newspaper.article.Article object at 0x0000022FEA29AE30>\n",
      "-- <newspaper.article.Article object at 0x0000022FE91F27A0>\n",
      "-- <newspaper.article.Article object at 0x0000022FE91F3610>\n",
      "-- <newspaper.article.Article object at 0x0000022FE91F23B0>\n",
      "-- <newspaper.article.Article object at 0x0000022FBEF11B70>\n"
     ]
    },
    {
     "name": "stderr",
     "output_type": "stream",
     "text": [
      "11/14/2023 09:29:59 PM - Article `download()` failed with 403 Client Error: Forbidden for url: https://www.360dx.com/point-care-testing/uk-government-inks-1729m-contract-thriva-enable-covid-19-antibody-testing-home on URL https://news.google.com/rss/articles/CBMid2h0dHBzOi8vd3d3LjM2MGR4LmNvbS9wb2ludC1jYXJlLXRlc3RpbmcvdWstZ292ZXJubWVudC1pbmtzLTE3MjltLWNvbnRyYWN0LXRocml2YS1lbmFibGUtY292aWQtMTktYW50aWJvZHktdGVzdGluZy1ob21l0gEA?oc=5&hl=en-US&gl=US&ceid=US:en\n"
     ]
    },
    {
     "name": "stdout",
     "output_type": "stream",
     "text": [
      "-- None\n",
      "-- <newspaper.article.Article object at 0x0000022FEA2F7820>\n",
      "-- <newspaper.article.Article object at 0x0000022FEA2A2EC0>\n",
      "-- <newspaper.article.Article object at 0x0000022FE91F3B80>\n",
      "-- <newspaper.article.Article object at 0x0000022FEA2DFD00>\n",
      "-- <newspaper.article.Article object at 0x0000022FE91F2410>\n",
      "-- <newspaper.article.Article object at 0x0000022FEA2F2920>\n",
      "-- <newspaper.article.Article object at 0x0000022FEA2F70D0>\n",
      "-- <newspaper.article.Article object at 0x0000022FEA2A0BE0>\n",
      "-- <newspaper.article.Article object at 0x0000022FEA2A3070>\n"
     ]
    },
    {
     "name": "stderr",
     "output_type": "stream",
     "text": [
      "11/14/2023 09:30:29 PM - Article `download()` failed with 403 Client Error: Forbidden for url: https://www.pnas.org/doi/full/10.1073/pnas.2100369118 on URL https://news.google.com/rss/articles/CBMiNWh0dHBzOi8vd3d3LnBuYXMub3JnL2RvaS9mdWxsLzEwLjEwNzMvcG5hcy4yMTAwMzY5MTE40gEA?oc=5&hl=en-US&gl=US&ceid=US:en\n"
     ]
    },
    {
     "name": "stdout",
     "output_type": "stream",
     "text": [
      "-- None\n",
      "-- <newspaper.article.Article object at 0x0000022FEA29B2E0>\n",
      "-- <newspaper.article.Article object at 0x0000022FE8D461D0>\n",
      "-- <newspaper.article.Article object at 0x0000022FEA2F70A0>\n",
      "-- <newspaper.article.Article object at 0x0000022FEA2F7BE0>\n",
      "-- <newspaper.article.Article object at 0x0000022FEA2F3F70>\n",
      "-- <newspaper.article.Article object at 0x0000022FE914E170>\n",
      "-- <newspaper.article.Article object at 0x0000022FEA358970>\n"
     ]
    },
    {
     "name": "stderr",
     "output_type": "stream",
     "text": [
      "11/14/2023 09:31:02 PM - Article `download()` failed with 403 Client Error: Forbidden for url: https://www.pnas.org/doi/10.1073/pnas.2022136118 on URL https://news.google.com/rss/articles/CBMiMGh0dHBzOi8vd3d3LnBuYXMub3JnL2RvaS8xMC4xMDczL3BuYXMuMjAyMjEzNjExONIBAA?oc=5&hl=en-US&gl=US&ceid=US:en\n"
     ]
    },
    {
     "name": "stdout",
     "output_type": "stream",
     "text": [
      "-- <newspaper.article.Article object at 0x0000022FEA2F30A0>\n",
      "-- None\n",
      "-- <newspaper.article.Article object at 0x0000022FEA29AE30>\n",
      "-- <newspaper.article.Article object at 0x0000022FE91AFBB0>\n",
      "-- <newspaper.article.Article object at 0x0000022FE8E6B820>\n",
      "-- <newspaper.article.Article object at 0x0000022FEA2DFD00>\n",
      "-- <newspaper.article.Article object at 0x0000022FEA2A0BE0>\n",
      "-- <newspaper.article.Article object at 0x0000022FEA29A9B0>\n",
      "-- <newspaper.article.Article object at 0x0000022FE8E6B820>\n",
      "-- <newspaper.article.Article object at 0x0000022FEA2DFD00>\n",
      "-- <newspaper.article.Article object at 0x0000022FEA2F6FE0>\n",
      "-- <newspaper.article.Article object at 0x0000022FEA2A2FE0>\n",
      "-- <newspaper.article.Article object at 0x0000022FEA2A3070>\n"
     ]
    },
    {
     "name": "stderr",
     "output_type": "stream",
     "text": [
      "11/14/2023 09:31:59 PM - Article `download()` failed with 403 Client Error: Forbidden for url: https://febs.onlinelibrary.wiley.com/doi/full/10.1002/1873-3468.14173 on URL https://news.google.com/rss/articles/CBMiRWh0dHBzOi8vZmVicy5vbmxpbmVsaWJyYXJ5LndpbGV5LmNvbS9kb2kvZnVsbC8xMC4xMDAyLzE4NzMtMzQ2OC4xNDE3M9IBAA?oc=5&hl=en-US&gl=US&ceid=US:en\n"
     ]
    },
    {
     "name": "stdout",
     "output_type": "stream",
     "text": [
      "-- None\n",
      "-- <newspaper.article.Article object at 0x0000022FEA29AE30>\n",
      "-- <newspaper.article.Article object at 0x0000022FEA2F2C20>\n",
      "-- <newspaper.article.Article object at 0x0000022FEA2A2FE0>\n",
      "-- <newspaper.article.Article object at 0x0000022FEA2A0BE0>\n",
      "-- <newspaper.article.Article object at 0x0000022FE91AFBB0>\n",
      "-- <newspaper.article.Article object at 0x0000022FEA2F6F80>\n"
     ]
    },
    {
     "name": "stderr",
     "output_type": "stream",
     "text": [
      "11/14/2023 09:32:28 PM - Article `download()` failed with 403 Client Error: Forbidden for url: https://www.theladders.com/career-advice/10-companies-for-scientists-that-hire-for-remote-science-jobs on URL https://news.google.com/rss/articles/CBMiZmh0dHBzOi8vd3d3LnRoZWxhZGRlcnMuY29tL2NhcmVlci1hZHZpY2UvMTAtY29tcGFuaWVzLWZvci1zY2llbnRpc3RzLXRoYXQtaGlyZS1mb3ItcmVtb3RlLXNjaWVuY2Utam9ic9IBamh0dHBzOi8vd3d3LnRoZWxhZGRlcnMuY29tL2NhcmVlci1hZHZpY2UvMTAtY29tcGFuaWVzLWZvci1zY2llbnRpc3RzLXRoYXQtaGlyZS1mb3ItcmVtb3RlLXNjaWVuY2Utam9icy9hbXA?oc=5&hl=en-US&gl=US&ceid=US:en\n"
     ]
    },
    {
     "name": "stdout",
     "output_type": "stream",
     "text": [
      "-- None\n",
      "-- <newspaper.article.Article object at 0x0000022FEA2A0BE0>\n",
      "-- <newspaper.article.Article object at 0x0000022FEA2F7AC0>\n",
      "-- <newspaper.article.Article object at 0x0000022FE91F33A0>\n",
      "-- <newspaper.article.Article object at 0x0000022FEA2DFB50>\n",
      "-- <newspaper.article.Article object at 0x0000022FEA2F7CD0>\n",
      "-- <newspaper.article.Article object at 0x0000022FEA2A3070>\n",
      "-- <newspaper.article.Article object at 0x0000022FEA2DE680>\n",
      "-- <newspaper.article.Article object at 0x0000022FEA2F7CD0>\n",
      "-- <newspaper.article.Article object at 0x0000022FEA2F6E90>\n",
      "-- <newspaper.article.Article object at 0x0000022FEA29B2E0>\n",
      "-- <newspaper.article.Article object at 0x0000022FEA2A2FE0>\n",
      "-- <newspaper.article.Article object at 0x0000022FEA2F3FD0>\n",
      "-- <newspaper.article.Article object at 0x0000022FE8D461D0>\n"
     ]
    },
    {
     "name": "stderr",
     "output_type": "stream",
     "text": [
      "11/14/2023 09:33:39 PM - Article `download()` failed with 403 Client Error: Forbidden for url: https://www.360dx.com/business-news/bioreference-labs-acquires-us-ariosa-lab-nipt-business-roche on URL https://news.google.com/rss/articles/CBMiYGh0dHBzOi8vd3d3LjM2MGR4LmNvbS9idXNpbmVzcy1uZXdzL2Jpb3JlZmVyZW5jZS1sYWJzLWFjcXVpcmVzLXVzLWFyaW9zYS1sYWItbmlwdC1idXNpbmVzcy1yb2NoZdIBAA?oc=5&hl=en-US&gl=US&ceid=US:en\n"
     ]
    },
    {
     "name": "stdout",
     "output_type": "stream",
     "text": [
      "-- None\n",
      "-- <newspaper.article.Article object at 0x0000022FEA2A2EC0>\n",
      "-- <newspaper.article.Article object at 0x0000022FEA2A2FE0>\n",
      "-- <newspaper.article.Article object at 0x0000022FEA358970>\n",
      "-- <newspaper.article.Article object at 0x0000022FE91F39D0>\n",
      "-- <newspaper.article.Article object at 0x0000022FEA2A2EC0>\n",
      "-- <newspaper.article.Article object at 0x0000022FE8D461D0>\n",
      "-- <newspaper.article.Article object at 0x0000022FEA35B010>\n",
      "-- <newspaper.article.Article object at 0x0000022FEA2DD780>\n",
      "-- <newspaper.article.Article object at 0x0000022FEA2DE290>\n",
      "-- <newspaper.article.Article object at 0x0000022FEA29AE30>\n",
      "-- <newspaper.article.Article object at 0x0000022FEA2A3070>\n",
      "-- <newspaper.article.Article object at 0x0000022FEA2DD780>\n",
      "-- <newspaper.article.Article object at 0x0000022FEA2F7AC0>\n",
      "-- <newspaper.article.Article object at 0x0000022FEA2A3070>\n",
      "-- <newspaper.article.Article object at 0x0000022FEA29B2E0>\n",
      "-- <newspaper.article.Article object at 0x0000022FE91F2FE0>\n",
      "-- <newspaper.article.Article object at 0x0000022FE8E6B9D0>\n",
      "-- <newspaper.article.Article object at 0x0000022FEA29AE30>\n",
      "-- <newspaper.article.Article object at 0x0000022FEA29B2E0>\n",
      "-- <newspaper.article.Article object at 0x0000022FEA2F3310>\n",
      "-- <newspaper.article.Article object at 0x0000022FE8E6B9D0>\n",
      "-- <newspaper.article.Article object at 0x0000022FE91AFBB0>\n",
      "-- <newspaper.article.Article object at 0x0000022FEA2DE770>\n",
      "-- <newspaper.article.Article object at 0x0000022FEA2F3F70>\n",
      "-- <newspaper.article.Article object at 0x0000022FE91AFBB0>\n",
      "-- <newspaper.article.Article object at 0x0000022FEA2F3F40>\n"
     ]
    },
    {
     "name": "stderr",
     "output_type": "stream",
     "text": [
      "11/14/2023 09:35:38 PM - Article `download()` failed with 403 Client Error: Forbidden for url: https://www.mariettatimes.com/obituaries/2021/08/john-d-seyler-sr/ on URL https://news.google.com/rss/articles/CBMiQmh0dHBzOi8vd3d3Lm1hcmlldHRhdGltZXMuY29tL29iaXR1YXJpZXMvMjAyMS8wOC9qb2huLWQtc2V5bGVyLXNyL9IBAA?oc=5&hl=en-US&gl=US&ceid=US:en\n"
     ]
    },
    {
     "name": "stdout",
     "output_type": "stream",
     "text": [
      "-- None\n",
      "-- <newspaper.article.Article object at 0x0000022FE91F3610>\n",
      "-- <newspaper.article.Article object at 0x0000022FE91F23B0>\n",
      "-- <newspaper.article.Article object at 0x0000022FE91AFBB0>\n",
      "-- <newspaper.article.Article object at 0x0000022FEA2F7A00>\n",
      "-- <newspaper.article.Article object at 0x0000022FE91F2FE0>\n",
      "-- <newspaper.article.Article object at 0x0000022FEA2F2C20>\n",
      "-- <newspaper.article.Article object at 0x0000022FEA2DED70>\n",
      "-- <newspaper.article.Article object at 0x0000022FEA2F3310>\n",
      "-- <newspaper.article.Article object at 0x0000022FEA2A2FE0>\n",
      "-- <newspaper.article.Article object at 0x0000022FEA2F7A00>\n",
      "-- <newspaper.article.Article object at 0x0000022FEA2F7130>\n",
      "-- <newspaper.article.Article object at 0x0000022FEA29A9B0>\n",
      "-- <newspaper.article.Article object at 0x0000022FEA2DED70>\n",
      "-- <newspaper.article.Article object at 0x0000022FEA509480>\n",
      "-- <newspaper.article.Article object at 0x0000022FEA2F3310>\n",
      "-- <newspaper.article.Article object at 0x0000022FE91F33D0>\n",
      "-- <newspaper.article.Article object at 0x0000022FEA358970>\n",
      "-- <newspaper.article.Article object at 0x0000022FEA2F30A0>\n",
      "-- <newspaper.article.Article object at 0x0000022FEA2F3310>\n",
      "-- <newspaper.article.Article object at 0x0000022FEA2F6E60>\n",
      "-- <newspaper.article.Article object at 0x0000022FEA2A3070>\n",
      "-- <newspaper.article.Article object at 0x0000022FEA2A2EC0>\n",
      "-- <newspaper.article.Article object at 0x0000022FEA358970>\n",
      "-- <newspaper.article.Article object at 0x0000022FE91F3B80>\n",
      "-- <newspaper.article.Article object at 0x0000022FE914E170>\n",
      "-- <newspaper.article.Article object at 0x0000022FE8E6B820>\n",
      "-- <newspaper.article.Article object at 0x0000022FE91F2740>\n",
      "-- <newspaper.article.Article object at 0x0000022FEA358970>\n",
      "-- <newspaper.article.Article object at 0x0000022FEA2A0BE0>\n",
      "-- <newspaper.article.Article object at 0x0000022FE8E6B820>\n",
      "-- <newspaper.article.Article object at 0x0000022FEA2F6E90>\n",
      "-- <newspaper.article.Article object at 0x0000022FEA2F7490>\n",
      "-- <newspaper.article.Article object at 0x0000022FEA2F2920>\n",
      "-- <newspaper.article.Article object at 0x0000022FEA2F3310>\n",
      "-- <newspaper.article.Article object at 0x0000022FEA29A9B0>\n",
      "-- <newspaper.article.Article object at 0x0000022FEA2F3FD0>\n",
      "-- <newspaper.article.Article object at 0x0000022FE91F3E20>\n",
      "-- <newspaper.article.Article object at 0x0000022FEA29A9B0>\n",
      "-- <newspaper.article.Article object at 0x0000022FEA2A2FE0>\n",
      "-- <newspaper.article.Article object at 0x0000022FE91F2740>\n",
      "-- <newspaper.article.Article object at 0x0000022FEA2F3F40>\n",
      "-- <newspaper.article.Article object at 0x0000022FE91AFBB0>\n",
      "-- <newspaper.article.Article object at 0x0000022FE91F3610>\n",
      "-- <newspaper.article.Article object at 0x0000022FEA2F7280>\n",
      "-- <newspaper.article.Article object at 0x0000022FBEF11B70>\n",
      "-- <newspaper.article.Article object at 0x0000022FEA2DED70>\n",
      "-- <newspaper.article.Article object at 0x0000022FE8E6B9D0>\n",
      "-- <newspaper.article.Article object at 0x0000022FE91F3D60>\n",
      "-- <newspaper.article.Article object at 0x0000022FE91F23B0>\n",
      "-- <newspaper.article.Article object at 0x0000022FEA29B2E0>\n",
      "-- <newspaper.article.Article object at 0x0000022FE91AFBB0>\n",
      "-- <newspaper.article.Article object at 0x0000022FE8E6B820>\n",
      "-- <newspaper.article.Article object at 0x0000022FE91F28C0>\n",
      "-- <newspaper.article.Article object at 0x0000022FEA2DF3D0>\n",
      "-- <newspaper.article.Article object at 0x0000022FE91F28C0>\n",
      "-- <newspaper.article.Article object at 0x0000022FE8E6B820>\n",
      "-- <newspaper.article.Article object at 0x0000022FEA2DF3D0>\n",
      "-- <newspaper.article.Article object at 0x0000022FEA2F2920>\n",
      "-- <newspaper.article.Article object at 0x0000022FEA29A9B0>\n",
      "-- <newspaper.article.Article object at 0x0000022FEA29AE30>\n",
      "-- <newspaper.article.Article object at 0x0000022FEA2F2920>\n",
      "-- <newspaper.article.Article object at 0x0000022FE91F3D90>\n",
      "-- <newspaper.article.Article object at 0x0000022FBEF11B70>\n",
      "-- <newspaper.article.Article object at 0x0000022FEA358970>\n",
      "-- <newspaper.article.Article object at 0x0000022FE8D461D0>\n",
      "-- <newspaper.article.Article object at 0x0000022FEA2A3070>\n",
      "-- <newspaper.article.Article object at 0x0000022FEA29A9B0>\n",
      "-- <newspaper.article.Article object at 0x0000022FEA2A2FE0>\n",
      "-- <newspaper.article.Article object at 0x0000022FEA2A3070>\n"
     ]
    },
    {
     "name": "stderr",
     "output_type": "stream",
     "text": [
      "11/14/2023 09:41:08 PM - Article `download()` failed with 403 Client Error: Forbidden for url: https://www.pnas.org/doi/10.1073/pnas.2101258118 on URL https://news.google.com/rss/articles/CBMiMGh0dHBzOi8vd3d3LnBuYXMub3JnL2RvaS8xMC4xMDczL3BuYXMuMjEwMTI1ODExONIBAA?oc=5&hl=en-US&gl=US&ceid=US:en\n"
     ]
    },
    {
     "name": "stdout",
     "output_type": "stream",
     "text": [
      "-- None\n",
      "-- <newspaper.article.Article object at 0x0000022FEA2DFCA0>\n",
      "-- <newspaper.article.Article object at 0x0000022FEA2A0BE0>\n",
      "-- <newspaper.article.Article object at 0x0000022FEA35B010>\n",
      "-- <newspaper.article.Article object at 0x0000022FE914E170>\n",
      "-- <newspaper.article.Article object at 0x0000022FBEF11B70>\n",
      "-- <newspaper.article.Article object at 0x0000022FEA2F78E0>\n",
      "-- <newspaper.article.Article object at 0x0000022FEA35B010>\n",
      "-- <newspaper.article.Article object at 0x0000022FE8E6B9D0>\n",
      "-- <newspaper.article.Article object at 0x0000022FEA2DEFB0>\n",
      "-- <newspaper.article.Article object at 0x0000022FE8E6B820>\n",
      "-- <newspaper.article.Article object at 0x0000022FEA2F30A0>\n"
     ]
    },
    {
     "name": "stderr",
     "output_type": "stream",
     "text": [
      "11/14/2023 09:42:25 PM - Article `download()` failed with 403 Client Error: Forbidden for url: https://www.pnas.org/doi/full/10.1073/pnas.2106630118 on URL https://news.google.com/rss/articles/CBMiNWh0dHBzOi8vd3d3LnBuYXMub3JnL2RvaS9mdWxsLzEwLjEwNzMvcG5hcy4yMTA2NjMwMTE40gEA?oc=5&hl=en-US&gl=US&ceid=US:en\n"
     ]
    },
    {
     "name": "stdout",
     "output_type": "stream",
     "text": [
      "-- <newspaper.article.Article object at 0x0000022FEA2F6EC0>\n",
      "-- None\n",
      "-- <newspaper.article.Article object at 0x0000022FE8D461D0>\n",
      "-- <newspaper.article.Article object at 0x0000022FEA2F6EC0>\n",
      "-- <newspaper.article.Article object at 0x0000022FBEF11B70>\n",
      "-- <newspaper.article.Article object at 0x0000022FE91AFBB0>\n",
      "-- <newspaper.article.Article object at 0x0000022FEA2DE170>\n",
      "-- <newspaper.article.Article object at 0x0000022FEA29A9B0>\n",
      "-- <newspaper.article.Article object at 0x0000022FE8D461D0>\n",
      "-- <newspaper.article.Article object at 0x0000022FE91AFBB0>\n",
      "-- <newspaper.article.Article object at 0x0000022FE8E6B820>\n",
      "-- <newspaper.article.Article object at 0x0000022FEA2F3FD0>\n",
      "-- <newspaper.article.Article object at 0x0000022FEA2A3070>\n",
      "-- <newspaper.article.Article object at 0x0000022FE91F2740>\n",
      "-- <newspaper.article.Article object at 0x0000022FEA29A9B0>\n",
      "-- <newspaper.article.Article object at 0x0000022FE91AFBB0>\n",
      "-- <newspaper.article.Article object at 0x0000022FE8D461D0>\n",
      "-- <newspaper.article.Article object at 0x0000022FEA35B010>\n",
      "-- <newspaper.article.Article object at 0x0000022FEA29AE30>\n",
      "-- <newspaper.article.Article object at 0x0000022FE8E6B9D0>\n",
      "-- <newspaper.article.Article object at 0x0000022FEA2DEE30>\n",
      "-- <newspaper.article.Article object at 0x0000022FEA2F6EC0>\n",
      "-- <newspaper.article.Article object at 0x0000022FEA2DF3D0>\n",
      "-- <newspaper.article.Article object at 0x0000022FE914E170>\n"
     ]
    },
    {
     "name": "stderr",
     "output_type": "stream",
     "text": [
      "11/14/2023 09:44:32 PM - Article `download()` failed with 403 Client Error: Forbidden for url: https://www.pnas.org/doi/10.1073/pnas.2102715118 on URL https://news.google.com/rss/articles/CBMiMGh0dHBzOi8vd3d3LnBuYXMub3JnL2RvaS8xMC4xMDczL3BuYXMuMjEwMjcxNTExONIBAA?oc=5&hl=en-US&gl=US&ceid=US:en\n"
     ]
    },
    {
     "name": "stdout",
     "output_type": "stream",
     "text": [
      "-- None\n",
      "-- <newspaper.article.Article object at 0x0000022FEA2A2EC0>\n",
      "-- <newspaper.article.Article object at 0x0000022FE91F23B0>\n"
     ]
    },
    {
     "name": "stderr",
     "output_type": "stream",
     "text": [
      "11/14/2023 09:44:45 PM - Article `download()` failed with 403 Client Error: Forbidden for url: https://www.360dx.com/pcr/canadas-spartan-bioscience-reemerges-genomadix-eye-toward-near-patient-covid-19-testing on URL https://news.google.com/rss/articles/CBMicWh0dHBzOi8vd3d3LjM2MGR4LmNvbS9wY3IvY2FuYWRhcy1zcGFydGFuLWJpb3NjaWVuY2UtcmVlbWVyZ2VzLWdlbm9tYWRpeC1leWUtdG93YXJkLW5lYXItcGF0aWVudC1jb3ZpZC0xOS10ZXN0aW5n0gEA?oc=5&hl=en-US&gl=US&ceid=US:en\n"
     ]
    },
    {
     "name": "stdout",
     "output_type": "stream",
     "text": [
      "-- <newspaper.article.Article object at 0x0000022FEA29A9B0>\n",
      "-- None\n",
      "-- <newspaper.article.Article object at 0x0000022FEA2F6EF0>\n",
      "-- <newspaper.article.Article object at 0x0000022FEA2F79D0>\n"
     ]
    },
    {
     "name": "stderr",
     "output_type": "stream",
     "text": [
      "11/14/2023 09:44:59 PM - Article `download()` failed with 403 Client Error: Forbidden for url: https://www.pnas.org/doi/10.1073/pnas.2106947118 on URL https://news.google.com/rss/articles/CBMiMGh0dHBzOi8vd3d3LnBuYXMub3JnL2RvaS8xMC4xMDczL3BuYXMuMjEwNjk0NzExONIBAA?oc=5&hl=en-US&gl=US&ceid=US:en\n"
     ]
    },
    {
     "name": "stdout",
     "output_type": "stream",
     "text": [
      "-- None\n",
      "-- <newspaper.article.Article object at 0x0000022FEA29AE30>\n",
      "-- <newspaper.article.Article object at 0x0000022FE8D461D0>\n",
      "-- <newspaper.article.Article object at 0x0000022FEA2DEFB0>\n"
     ]
    },
    {
     "name": "stderr",
     "output_type": "stream",
     "text": [
      "11/14/2023 09:45:15 PM - Article `download()` failed with 403 Client Error: Forbidden for url: https://www.pnas.org/doi/10.1073/pnas.2101591118 on URL https://news.google.com/rss/articles/CBMiMGh0dHBzOi8vd3d3LnBuYXMub3JnL2RvaS8xMC4xMDczL3BuYXMuMjEwMTU5MTExONIBAA?oc=5&hl=en-US&gl=US&ceid=US:en\n"
     ]
    },
    {
     "name": "stdout",
     "output_type": "stream",
     "text": [
      "-- <newspaper.article.Article object at 0x0000022FEA2A2FE0>\n",
      "-- None\n",
      "-- <newspaper.article.Article object at 0x0000022FEA2F7370>\n"
     ]
    },
    {
     "name": "stderr",
     "output_type": "stream",
     "text": [
      "11/14/2023 09:45:16 PM - Article `download()` failed with 403 Client Error: Forbidden for url: https://www.360dx.com/pcr/id-genomics-developing-covid-variant-test-using-handheld-system-dipstick-detection on URL https://news.google.com/rss/articles/CBMibGh0dHBzOi8vd3d3LjM2MGR4LmNvbS9wY3IvaWQtZ2Vub21pY3MtZGV2ZWxvcGluZy1jb3ZpZC12YXJpYW50LXRlc3QtdXNpbmctaGFuZGhlbGQtc3lzdGVtLWRpcHN0aWNrLWRldGVjdGlvbtIBAA?oc=5&hl=en-US&gl=US&ceid=US:en\n"
     ]
    },
    {
     "name": "stdout",
     "output_type": "stream",
     "text": [
      "-- None\n",
      "-- <newspaper.article.Article object at 0x0000022FEA29B2E0>\n",
      "-- <newspaper.article.Article object at 0x0000022FE91F33D0>\n",
      "-- <newspaper.article.Article object at 0x0000022FEA358970>\n",
      "-- <newspaper.article.Article object at 0x0000022FEA29AE30>\n",
      "-- <newspaper.article.Article object at 0x0000022FEA29B2E0>\n",
      "-- <newspaper.article.Article object at 0x0000022FEA2DD4E0>\n",
      "-- <newspaper.article.Article object at 0x0000022FE91F2410>\n",
      "-- <newspaper.article.Article object at 0x0000022FEA35B010>\n",
      "-- <newspaper.article.Article object at 0x0000022FEA2DED70>\n",
      "-- <newspaper.article.Article object at 0x0000022FEA2DD4E0>\n",
      "-- <newspaper.article.Article object at 0x0000022FEA29AE30>\n",
      "-- <newspaper.article.Article object at 0x0000022FEA35B010>\n",
      "-- <newspaper.article.Article object at 0x0000022FEA29AE30>\n",
      "-- <newspaper.article.Article object at 0x0000022FE914E170>\n",
      "-- <newspaper.article.Article object at 0x0000022FBEF11B70>\n",
      "-- <newspaper.article.Article object at 0x0000022FEA2F2920>\n",
      "-- <newspaper.article.Article object at 0x0000022FE91F2740>\n",
      "-- <newspaper.article.Article object at 0x0000022FEA2F6E60>\n",
      "-- <newspaper.article.Article object at 0x0000022FBEF11B70>\n",
      "-- <newspaper.article.Article object at 0x0000022FE91AFBB0>\n",
      "-- <newspaper.article.Article object at 0x0000022FEA2DEE30>\n",
      "-- <newspaper.article.Article object at 0x0000022FEA2F3FD0>\n",
      "-- <newspaper.article.Article object at 0x0000022FEA2DFCA0>\n",
      "-- <newspaper.article.Article object at 0x0000022FEA358970>\n",
      "-- <newspaper.article.Article object at 0x0000022FBEF11B70>\n",
      "-- <newspaper.article.Article object at 0x0000022FE91F3E20>\n",
      "-- <newspaper.article.Article object at 0x0000022FEA2DFCA0>\n",
      "-- <newspaper.article.Article object at 0x0000022FEA2F7460>\n",
      "-- <newspaper.article.Article object at 0x0000022FEA2A0BE0>\n",
      "-- <newspaper.article.Article object at 0x0000022FEA358970>\n",
      "-- <newspaper.article.Article object at 0x0000022FEA29B2E0>\n",
      "-- <newspaper.article.Article object at 0x0000022FBEF11B70>\n",
      "-- <newspaper.article.Article object at 0x0000022FEA2F7760>\n",
      "-- <newspaper.article.Article object at 0x0000022FEA358970>\n",
      "-- <newspaper.article.Article object at 0x0000022FEA2F2C20>\n",
      "-- <newspaper.article.Article object at 0x0000022FEA2DFCA0>\n",
      "-- <newspaper.article.Article object at 0x0000022FEA508AF0>\n"
     ]
    },
    {
     "name": "stderr",
     "output_type": "stream",
     "text": [
      "11/14/2023 11:33:48 PM - Article `download()` failed with 403 Client Error: Max restarts limit reached for url: https://www.forbes.com/sites/teakvetenadze/2021/10/04/henrietta-lacks-estate-sues-thermo-fisher-over-use-of-stolen-cells-hints-more-suits-may-follow/ on URL https://news.google.com/rss/articles/CBMilQFodHRwczovL3d3dy5mb3JiZXMuY29tL3NpdGVzL3RlYWt2ZXRlbmFkemUvMjAyMS8xMC8wNC9oZW5yaWV0dGEtbGFja3MtZXN0YXRlLXN1ZXMtdGhlcm1vLWZpc2hlci1vdmVyLXVzZS1vZi1zdG9sZW4tY2VsbHMtaGludHMtbW9yZS1zdWl0cy1tYXktZm9sbG93L9IBmQFodHRwczovL3d3dy5mb3JiZXMuY29tL3NpdGVzL3RlYWt2ZXRlbmFkemUvMjAyMS8xMC8wNC9oZW5yaWV0dGEtbGFja3MtZXN0YXRlLXN1ZXMtdGhlcm1vLWZpc2hlci1vdmVyLXVzZS1vZi1zdG9sZW4tY2VsbHMtaGludHMtbW9yZS1zdWl0cy1tYXktZm9sbG93L2FtcC8?oc=5&hl=en-US&gl=US&ceid=US:en\n"
     ]
    },
    {
     "name": "stdout",
     "output_type": "stream",
     "text": [
      "-- None\n",
      "-- <newspaper.article.Article object at 0x0000022FE91F33A0>\n",
      "-- <newspaper.article.Article object at 0x0000022FE91F32E0>\n",
      "-- <newspaper.article.Article object at 0x0000022FEA2DED70>\n",
      "-- <newspaper.article.Article object at 0x0000022FEA2F75E0>\n",
      "-- <newspaper.article.Article object at 0x0000022FE91F33A0>\n",
      "-- <newspaper.article.Article object at 0x0000022FBEF11B70>\n",
      "-- <newspaper.article.Article object at 0x0000022FEA2DED70>\n",
      "-- <newspaper.article.Article object at 0x0000022FEA2F7760>\n",
      "-- <newspaper.article.Article object at 0x0000022FEA35B010>\n",
      "-- <newspaper.article.Article object at 0x0000022FEA358970>\n",
      "-- <newspaper.article.Article object at 0x0000022FEA29AE30>\n",
      "-- <newspaper.article.Article object at 0x0000022FEA2F2920>\n",
      "-- <newspaper.article.Article object at 0x0000022FEA2DF3D0>\n",
      "-- <newspaper.article.Article object at 0x0000022FEA2DE170>\n",
      "-- <newspaper.article.Article object at 0x0000022FEA2DED70>\n",
      "-- <newspaper.article.Article object at 0x0000022FEA2F2920>\n",
      "-- <newspaper.article.Article object at 0x0000022FEA2DF3D0>\n",
      "-- <newspaper.article.Article object at 0x0000022FE914E170>\n",
      "-- <newspaper.article.Article object at 0x0000022FEA2DED70>\n",
      "-- <newspaper.article.Article object at 0x0000022FEA2F2C20>\n",
      "-- <newspaper.article.Article object at 0x0000022FEA299C00>\n",
      "-- <newspaper.article.Article object at 0x0000022FEA2A0BE0>\n",
      "-- <newspaper.article.Article object at 0x0000022FEA2F7C70>\n",
      "-- <newspaper.article.Article object at 0x0000022FEA2DF3D0>\n",
      "-- <newspaper.article.Article object at 0x0000022FE91F3610>\n",
      "-- <newspaper.article.Article object at 0x0000022FEA2A0BE0>\n",
      "-- <newspaper.article.Article object at 0x0000022FEA2F3F70>\n",
      "-- <newspaper.article.Article object at 0x0000022FEA35B010>\n",
      "-- <newspaper.article.Article object at 0x0000022FEA2F7BE0>\n",
      "-- <newspaper.article.Article object at 0x0000022FEA2A0BE0>\n"
     ]
    },
    {
     "name": "stderr",
     "output_type": "stream",
     "text": [
      "11/14/2023 11:36:10 PM - Article `download()` failed with 403 Client Error: Max restarts limit reached for url: https://www.forbes.com/sites/marybethgasman/2021/10/11/a-just-covid-19-testing-and-jobs-partnership--for-hbcus/ on URL https://news.google.com/rss/articles/CBMib2h0dHBzOi8vd3d3LmZvcmJlcy5jb20vc2l0ZXMvbWFyeWJldGhnYXNtYW4vMjAyMS8xMC8xMS9hLWp1c3QtY292aWQtMTktdGVzdGluZy1hbmQtam9icy1wYXJ0bmVyc2hpcC0tZm9yLWhiY3VzL9IBAA?oc=5&hl=en-US&gl=US&ceid=US:en\n"
     ]
    },
    {
     "name": "stdout",
     "output_type": "stream",
     "text": [
      "-- None\n",
      "-- <newspaper.article.Article object at 0x0000022FEA2F7BE0>\n",
      "-- <newspaper.article.Article object at 0x0000022FEA2F75E0>\n",
      "-- <newspaper.article.Article object at 0x0000022FEA29AE30>\n",
      "-- <newspaper.article.Article object at 0x0000022FE8D461D0>\n",
      "-- <newspaper.article.Article object at 0x0000022FEA2F3FD0>\n",
      "-- <newspaper.article.Article object at 0x0000022FE91F3610>\n",
      "-- <newspaper.article.Article object at 0x0000022FEA2DF3D0>\n",
      "-- <newspaper.article.Article object at 0x0000022FEA2A2FE0>\n",
      "-- <newspaper.article.Article object at 0x0000022FEA2F2920>\n",
      "-- <newspaper.article.Article object at 0x0000022FEA2F78E0>\n",
      "-- <newspaper.article.Article object at 0x0000022FE914E170>\n",
      "-- <newspaper.article.Article object at 0x0000022FEA358970>\n",
      "-- <newspaper.article.Article object at 0x0000022FEA2A2EC0>\n",
      "-- <newspaper.article.Article object at 0x0000022FE91AFBB0>\n",
      "-- <newspaper.article.Article object at 0x0000022FEA299C00>\n",
      "-- <newspaper.article.Article object at 0x0000022FEA29AE30>\n",
      "-- <newspaper.article.Article object at 0x0000022FEA2DD4E0>\n",
      "-- <newspaper.article.Article object at 0x0000022FBEF11B70>\n",
      "-- <newspaper.article.Article object at 0x0000022FEA2DFCA0>\n",
      "-- <newspaper.article.Article object at 0x0000022FEA2F75E0>\n",
      "-- <newspaper.article.Article object at 0x0000022FBEF11B70>\n",
      "-- <newspaper.article.Article object at 0x0000022FEA358970>\n",
      "-- <newspaper.article.Article object at 0x0000022FE8D461D0>\n",
      "-- <newspaper.article.Article object at 0x0000022FEA2DFD00>\n",
      "-- <newspaper.article.Article object at 0x0000022FEA2F3FD0>\n",
      "-- <newspaper.article.Article object at 0x0000022FE8D461D0>\n",
      "-- <newspaper.article.Article object at 0x0000022FE91AFBB0>\n",
      "-- <newspaper.article.Article object at 0x0000022FEA2F3F70>\n",
      "-- <newspaper.article.Article object at 0x0000022FEA2F6EF0>\n",
      "-- <newspaper.article.Article object at 0x0000022FE91F3D90>\n",
      "-- <newspaper.article.Article object at 0x0000022FEA2F7EE0>\n",
      "-- <newspaper.article.Article object at 0x0000022FEA2A2EC0>\n",
      "-- <newspaper.article.Article object at 0x0000022FE91AFBB0>\n",
      "-- <newspaper.article.Article object at 0x0000022FEA2DEFB0>\n",
      "-- <newspaper.article.Article object at 0x0000022FEA29B2E0>\n",
      "-- <newspaper.article.Article object at 0x0000022FEA29AE30>\n",
      "-- <newspaper.article.Article object at 0x0000022FE91F33D0>\n",
      "-- <newspaper.article.Article object at 0x0000022FEA2F2BF0>\n",
      "-- <newspaper.article.Article object at 0x0000022FEA2F7BB0>\n",
      "-- <newspaper.article.Article object at 0x0000022FEA2F3F40>\n",
      "-- <newspaper.article.Article object at 0x0000022FEA299C00>\n",
      "-- <newspaper.article.Article object at 0x0000022FEA2DEFB0>\n"
     ]
    },
    {
     "name": "stderr",
     "output_type": "stream",
     "text": [
      "11/14/2023 11:38:30 PM - Article `download()` failed with 403 Client Error: Forbidden for url: https://www.pnas.org/doi/10.1073/pnas.2110817118 on URL https://news.google.com/rss/articles/CBMiMGh0dHBzOi8vd3d3LnBuYXMub3JnL2RvaS8xMC4xMDczL3BuYXMuMjExMDgxNzExONIBAA?oc=5&hl=en-US&gl=US&ceid=US:en\n"
     ]
    },
    {
     "name": "stdout",
     "output_type": "stream",
     "text": [
      "-- None\n",
      "-- <newspaper.article.Article object at 0x0000022FEA2F2C20>\n",
      "-- <newspaper.article.Article object at 0x0000022FEA2F7520>\n",
      "-- <newspaper.article.Article object at 0x0000022FEA299C00>\n"
     ]
    },
    {
     "name": "stderr",
     "output_type": "stream",
     "text": [
      "11/14/2023 11:38:51 PM - Article `download()` failed with HTTPSConnectionPool(host='www.miamiherald.com', port=443): Read timed out. (read timeout=7) on URL https://news.google.com/rss/articles/CBMiUWh0dHBzOi8vd3d3Lm1pYW1paGVyYWxkLmNvbS9uZXdzL2xvY2FsL2NvbW11bml0eS9taWFtaS1kYWRlL2FydGljbGUyNTUxNjMyMjcuaHRtbNIBUWh0dHBzOi8vYW1wLm1pYW1paGVyYWxkLmNvbS9uZXdzL2xvY2FsL2NvbW11bml0eS9taWFtaS1kYWRlL2FydGljbGUyNTUxNjMyMjcuaHRtbA?oc=5&hl=en-US&gl=US&ceid=US:en\n"
     ]
    },
    {
     "name": "stdout",
     "output_type": "stream",
     "text": [
      "-- None\n",
      "-- <newspaper.article.Article object at 0x0000022FEA2F2C20>\n",
      "-- <newspaper.article.Article object at 0x0000022FEA2A2EC0>\n",
      "-- <newspaper.article.Article object at 0x0000022FEA2A0BE0>\n",
      "-- <newspaper.article.Article object at 0x0000022FEA2F2BF0>\n",
      "-- <newspaper.article.Article object at 0x0000022FEA2A3070>\n",
      "-- <newspaper.article.Article object at 0x0000022FEA2F2C20>\n"
     ]
    },
    {
     "name": "stderr",
     "output_type": "stream",
     "text": [
      "11/14/2023 11:39:09 PM - Article `download()` failed with 403 Client Error: Forbidden for url: https://www.pnas.org/doi/10.1073/pnas.2109225118 on URL https://news.google.com/rss/articles/CBMiMGh0dHBzOi8vd3d3LnBuYXMub3JnL2RvaS8xMC4xMDczL3BuYXMuMjEwOTIyNTExONIBAA?oc=5&hl=en-US&gl=US&ceid=US:en\n"
     ]
    },
    {
     "name": "stdout",
     "output_type": "stream",
     "text": [
      "-- <newspaper.article.Article object at 0x0000022FEA2A0BE0>\n",
      "-- None\n",
      "-- <newspaper.article.Article object at 0x0000022FEA29B2E0>\n",
      "-- <newspaper.article.Article object at 0x0000022FEA299C00>\n",
      "-- <newspaper.article.Article object at 0x0000022FEA358970>\n",
      "-- <newspaper.article.Article object at 0x0000022FE91F3D60>\n",
      "-- <newspaper.article.Article object at 0x0000022FEA299C00>\n",
      "-- <newspaper.article.Article object at 0x0000022FEA2F30A0>\n",
      "-- <newspaper.article.Article object at 0x0000022FEA358970>\n",
      "-- <newspaper.article.Article object at 0x0000022FEA2F2C20>\n",
      "-- <newspaper.article.Article object at 0x0000022FEA35B010>\n",
      "-- <newspaper.article.Article object at 0x0000022FEA2F3310>\n",
      "-- <newspaper.article.Article object at 0x0000022FEA2F2C20>\n",
      "-- <newspaper.article.Article object at 0x0000022FE91F3B80>\n",
      "-- <newspaper.article.Article object at 0x0000022FEA2F2920>\n",
      "-- <newspaper.article.Article object at 0x0000022FBEF11B70>\n",
      "-- <newspaper.article.Article object at 0x0000022FEA2F6FE0>\n"
     ]
    },
    {
     "name": "stderr",
     "output_type": "stream",
     "text": [
      "11/14/2023 11:40:48 PM - Article `download()` failed with HTTPSConnectionPool(host='www.vz.lt', port=443): Read timed out. (read timeout=7) on URL https://news.google.com/rss/articles/CBMilgFodHRwczovL3d3dy52ei5sdC9maW5hbnNhaS1hcHNrYWl0YS8yMDIxLzEwLzI2L2RhdWdpYXVzaWEtbW9rZXNjaXUtaS1wdXNtZXRpLXN1bW9rZWpvLW9ybGVuLWxpZXR1dmEtYmUtcHZtLWlyLWFrY2l6dS0tdGhlcm1vLWZpc2hlci1zY2llbnRpZmljLWJhbHRpY3PSAQA?oc=5&hl=en-US&gl=US&ceid=US:en\n"
     ]
    },
    {
     "name": "stdout",
     "output_type": "stream",
     "text": [
      "-- None\n",
      "-- <newspaper.article.Article object at 0x0000022FEA2A2FE0>\n",
      "-- <newspaper.article.Article object at 0x0000022FE91F3B80>\n",
      "-- <newspaper.article.Article object at 0x0000022FEA358970>\n",
      "-- <newspaper.article.Article object at 0x0000022FEA2F3F40>\n",
      "-- <newspaper.article.Article object at 0x0000022FEA2A2FE0>\n",
      "-- <newspaper.article.Article object at 0x0000022FEA35B010>\n",
      "-- <newspaper.article.Article object at 0x0000022FEA2DD4E0>\n",
      "-- <newspaper.article.Article object at 0x0000022FEA2F7760>\n",
      "-- <newspaper.article.Article object at 0x0000022FEA2A2FE0>\n",
      "-- <newspaper.article.Article object at 0x0000022FEA35B010>\n"
     ]
    },
    {
     "name": "stderr",
     "output_type": "stream",
     "text": [
      "11/14/2023 11:41:34 PM - Article `download()` failed with 403 Client Error: Forbidden for url: https://www.pnas.org/doi/10.1073/pnas.2102420118 on URL https://news.google.com/rss/articles/CBMiMGh0dHBzOi8vd3d3LnBuYXMub3JnL2RvaS8xMC4xMDczL3BuYXMuMjEwMjQyMDExONIBAA?oc=5&hl=en-US&gl=US&ceid=US:en\n"
     ]
    },
    {
     "name": "stdout",
     "output_type": "stream",
     "text": [
      "-- None\n",
      "-- <newspaper.article.Article object at 0x0000022FE91AFBB0>\n",
      "-- <newspaper.article.Article object at 0x0000022FEA29AE30>\n",
      "-- <newspaper.article.Article object at 0x0000022FEA35B010>\n"
     ]
    },
    {
     "name": "stderr",
     "output_type": "stream",
     "text": [
      "11/14/2023 11:41:37 PM - Article `download()` failed with 403 Client Error: Forbidden for url: https://www.pnas.org/doi/10.1073/pnas.2112237118 on URL https://news.google.com/rss/articles/CBMiMGh0dHBzOi8vd3d3LnBuYXMub3JnL2RvaS8xMC4xMDczL3BuYXMuMjExMjIzNzExONIBAA?oc=5&hl=en-US&gl=US&ceid=US:en\n"
     ]
    },
    {
     "name": "stdout",
     "output_type": "stream",
     "text": [
      "-- None\n",
      "-- <newspaper.article.Article object at 0x0000022FE91F32E0>\n",
      "-- <newspaper.article.Article object at 0x0000022FEA2DED70>\n",
      "-- <newspaper.article.Article object at 0x0000022FEA2F2BF0>\n",
      "-- <newspaper.article.Article object at 0x0000022FE91F3B80>\n",
      "-- <newspaper.article.Article object at 0x0000022FEA2F77F0>\n",
      "-- <newspaper.article.Article object at 0x0000022FEA2DED70>\n",
      "-- <newspaper.article.Article object at 0x0000022FEA2F7880>\n",
      "-- <newspaper.article.Article object at 0x0000022FEA358970>\n",
      "-- <newspaper.article.Article object at 0x0000022FEA35B010>\n",
      "-- <newspaper.article.Article object at 0x0000022FEA2F7F70>\n",
      "-- <newspaper.article.Article object at 0x0000022FEA29B2E0>\n",
      "-- <newspaper.article.Article object at 0x0000022FEA358970>\n",
      "-- <newspaper.article.Article object at 0x0000022FEA2F75E0>\n",
      "-- <newspaper.article.Article object at 0x0000022FE91F39D0>\n",
      "-- <newspaper.article.Article object at 0x0000022FE91F3D90>\n",
      "-- <newspaper.article.Article object at 0x0000022FEA2F7B20>\n"
     ]
    },
    {
     "name": "stderr",
     "output_type": "stream",
     "text": [
      "11/14/2023 11:42:58 PM - Article `download()` failed with 403 Client Error: Forbidden for url: https://www.pnas.org/doi/10.1073/pnas.2103377118 on URL https://news.google.com/rss/articles/CBMiMGh0dHBzOi8vd3d3LnBuYXMub3JnL2RvaS8xMC4xMDczL3BuYXMuMjEwMzM3NzExONIBAA?oc=5&hl=en-US&gl=US&ceid=US:en\n"
     ]
    },
    {
     "name": "stdout",
     "output_type": "stream",
     "text": [
      "-- <newspaper.article.Article object at 0x0000022FEA358970>\n",
      "-- None\n",
      "-- <newspaper.article.Article object at 0x0000022FE91F3D90>\n",
      "-- <newspaper.article.Article object at 0x0000022FE91F3E20>\n"
     ]
    },
    {
     "name": "stderr",
     "output_type": "stream",
     "text": [
      "11/14/2023 11:43:16 PM - Article `download()` failed with 403 Client Error: Forbidden for url: https://www.pnas.org/doi/10.1073/pnas.2110996118 on URL https://news.google.com/rss/articles/CBMiMGh0dHBzOi8vd3d3LnBuYXMub3JnL2RvaS8xMC4xMDczL3BuYXMuMjExMDk5NjExONIBAA?oc=5&hl=en-US&gl=US&ceid=US:en\n"
     ]
    },
    {
     "name": "stdout",
     "output_type": "stream",
     "text": [
      "-- None\n",
      "-- <newspaper.article.Article object at 0x0000022FEA2F7B20>\n",
      "-- <newspaper.article.Article object at 0x0000022FE91F3D90>\n",
      "-- <newspaper.article.Article object at 0x0000022FE91F3E20>\n",
      "-- <newspaper.article.Article object at 0x0000022FEA2F6EF0>\n",
      "-- <newspaper.article.Article object at 0x0000022FE91F33D0>\n",
      "-- <newspaper.article.Article object at 0x0000022FEA2F6F50>\n",
      "-- <newspaper.article.Article object at 0x0000022FE91F3E20>\n",
      "-- <newspaper.article.Article object at 0x0000022FEA2F7520>\n",
      "-- <newspaper.article.Article object at 0x0000022FEA35B010>\n",
      "-- <newspaper.article.Article object at 0x0000022FEA2A2FE0>\n",
      "-- <newspaper.article.Article object at 0x0000022FEA2A0BE0>\n",
      "-- <newspaper.article.Article object at 0x0000022FEA29AE30>\n",
      "-- <newspaper.article.Article object at 0x0000022FE91F33A0>\n",
      "-- <newspaper.article.Article object at 0x0000022FE91F3D90>\n",
      "-- <newspaper.article.Article object at 0x0000022FEA35B010>\n",
      "-- <newspaper.article.Article object at 0x0000022FEA299C00>\n",
      "-- <newspaper.article.Article object at 0x0000022FE914E170>\n",
      "-- <newspaper.article.Article object at 0x0000022FEA2F3F70>\n",
      "-- <newspaper.article.Article object at 0x0000022FEA2F2C20>\n",
      "-- <newspaper.article.Article object at 0x0000022FEA35B010>\n",
      "-- <newspaper.article.Article object at 0x0000022FEA2DD4E0>\n",
      "-- <newspaper.article.Article object at 0x0000022FEA2F7880>\n",
      "-- <newspaper.article.Article object at 0x0000022FEA358970>\n",
      "-- <newspaper.article.Article object at 0x0000022FEA2F3F70>\n",
      "-- <newspaper.article.Article object at 0x0000022FEA2A3010>\n",
      "-- <newspaper.article.Article object at 0x0000022FEA2A3C70>\n",
      "-- <newspaper.article.Article object at 0x0000022FEA2DEE30>\n",
      "-- <newspaper.article.Article object at 0x0000022FEA2DD4E0>\n",
      "-- <newspaper.article.Article object at 0x0000022FE91F3D90>\n",
      "-- <newspaper.article.Article object at 0x0000022FE91F28C0>\n",
      "-- <newspaper.article.Article object at 0x0000022FEA2DEE30>\n",
      "-- <newspaper.article.Article object at 0x0000022FEA2DD4E0>\n",
      "-- <newspaper.article.Article object at 0x0000022FE91AFBB0>\n",
      "-- <newspaper.article.Article object at 0x0000022FEA2DEE30>\n",
      "-- <newspaper.article.Article object at 0x0000022FEA2F6EF0>\n",
      "-- <newspaper.article.Article object at 0x0000022FE91F33D0>\n",
      "-- <newspaper.article.Article object at 0x0000022FEA2DFD00>\n",
      "-- <newspaper.article.Article object at 0x0000022FEA2A2EC0>\n",
      "-- <newspaper.article.Article object at 0x0000022FE91F33D0>\n",
      "-- <newspaper.article.Article object at 0x0000022FEA2F7EB0>\n",
      "-- <newspaper.article.Article object at 0x0000022FE91F3640>\n",
      "-- <newspaper.article.Article object at 0x0000022FEA2F2C20>\n",
      "-- <newspaper.article.Article object at 0x0000022FE8D461D0>\n",
      "-- <newspaper.article.Article object at 0x0000022FBEF11B70>\n",
      "-- <newspaper.article.Article object at 0x0000022FEA2F3FD0>\n",
      "-- <newspaper.article.Article object at 0x0000022FEA2F2920>\n"
     ]
    },
    {
     "name": "stderr",
     "output_type": "stream",
     "text": [
      "11/14/2023 11:46:18 PM - Article `download()` failed with 403 Client Error: Forbidden for url: https://www.bizjournals.com/boston/news/2021/11/15/thermo-fisher-to-build-new-manufacturing-facility.html on URL https://news.google.com/rss/articles/CBMiaWh0dHBzOi8vd3d3LmJpempvdXJuYWxzLmNvbS9ib3N0b24vbmV3cy8yMDIxLzExLzE1L3RoZXJtby1maXNoZXItdG8tYnVpbGQtbmV3LW1hbnVmYWN0dXJpbmctZmFjaWxpdHkuaHRtbNIBAA?oc=5&hl=en-US&gl=US&ceid=US:en\n"
     ]
    },
    {
     "name": "stdout",
     "output_type": "stream",
     "text": [
      "-- None\n",
      "-- <newspaper.article.Article object at 0x0000022FEA29BCD0>\n"
     ]
    },
    {
     "name": "stderr",
     "output_type": "stream",
     "text": [
      "11/14/2023 11:46:20 PM - Article `download()` failed with 403 Client Error: Forbidden for url: https://www.360dx.com/infectious-disease/selux-diagnostics-eyes-first-half-2022-next-gen-ast-platform-launch on URL https://news.google.com/rss/articles/CBMibGh0dHBzOi8vd3d3LjM2MGR4LmNvbS9pbmZlY3Rpb3VzLWRpc2Vhc2Uvc2VsdXgtZGlhZ25vc3RpY3MtZXllcy1maXJzdC1oYWxmLTIwMjItbmV4dC1nZW4tYXN0LXBsYXRmb3JtLWxhdW5jaNIBAA?oc=5&hl=en-US&gl=US&ceid=US:en\n"
     ]
    },
    {
     "name": "stdout",
     "output_type": "stream",
     "text": [
      "-- None\n",
      "-- <newspaper.article.Article object at 0x0000022FEA29BD60>\n",
      "-- <newspaper.article.Article object at 0x0000022FEA2A3C70>\n",
      "-- <newspaper.article.Article object at 0x0000022FEA2F7910>\n",
      "-- <newspaper.article.Article object at 0x0000022FEA2F7DF0>\n",
      "-- <newspaper.article.Article object at 0x0000022FE8D461D0>\n",
      "-- <newspaper.article.Article object at 0x0000022FEA2DF3D0>\n",
      "-- <newspaper.article.Article object at 0x0000022FE91AFBB0>\n",
      "-- <newspaper.article.Article object at 0x0000022FE91F3D60>\n",
      "-- <newspaper.article.Article object at 0x0000022FE8D461D0>\n",
      "-- <newspaper.article.Article object at 0x0000022FEA2DFD00>\n",
      "-- <newspaper.article.Article object at 0x0000022FEA2A3D90>\n",
      "-- <newspaper.article.Article object at 0x0000022FEA2F7F70>\n",
      "-- <newspaper.article.Article object at 0x0000022FE8D461D0>\n",
      "-- <newspaper.article.Article object at 0x0000022FEA2DFD00>\n",
      "-- <newspaper.article.Article object at 0x0000022FE91AFBB0>\n",
      "-- <newspaper.article.Article object at 0x0000022FEA2F3F40>\n",
      "-- <newspaper.article.Article object at 0x0000022FEA2F2920>\n",
      "-- <newspaper.article.Article object at 0x0000022FBEF11B70>\n",
      "-- <newspaper.article.Article object at 0x0000022FE91F3D60>\n"
     ]
    },
    {
     "name": "stderr",
     "output_type": "stream",
     "text": [
      "11/14/2023 11:47:34 PM - Article `download()` failed with 403 Client Error: Forbidden for url: https://de.investing.com/news/stock-market-news/2-unaufhaltsame-aktien-die-man-kaufen-und-liegen-lassen-kann-2186093 on URL https://news.google.com/rss/articles/CBMidGh0dHBzOi8vZGUuaW52ZXN0aW5nLmNvbS9uZXdzL3N0b2NrLW1hcmtldC1uZXdzLzItdW5hdWZoYWx0c2FtZS1ha3RpZW4tZGllLW1hbi1rYXVmZW4tdW5kLWxpZWdlbi1sYXNzZW4ta2Fubi0yMTg2MDkz0gGAAWh0dHBzOi8vbS5kZS5pbnZlc3RpbmcuY29tL25ld3Mvc3RvY2stbWFya2V0LW5ld3MvMi11bmF1ZmhhbHRzYW1lLWFrdGllbi1kaWUtbWFuLWthdWZlbi11bmQtbGllZ2VuLWxhc3Nlbi1rYW5uLTIxODYwOTM_YW1wTW9kZT0x?oc=5&hl=en-US&gl=US&ceid=US:en\n"
     ]
    },
    {
     "name": "stdout",
     "output_type": "stream",
     "text": [
      "-- None\n",
      "-- <newspaper.article.Article object at 0x0000022FEA358970>\n",
      "-- <newspaper.article.Article object at 0x0000022FEA2F79A0>\n",
      "-- <newspaper.article.Article object at 0x0000022FE914E170>\n",
      "-- <newspaper.article.Article object at 0x0000022FBEF11B70>\n",
      "-- <newspaper.article.Article object at 0x0000022FEA358970>\n",
      "-- <newspaper.article.Article object at 0x0000022FEA29A7A0>\n",
      "-- <newspaper.article.Article object at 0x0000022FEA2DE170>\n",
      "-- <newspaper.article.Article object at 0x0000022FBEF11B70>\n",
      "-- <newspaper.article.Article object at 0x0000022FEA2DEFB0>\n"
     ]
    },
    {
     "name": "stderr",
     "output_type": "stream",
     "text": [
      "11/14/2023 11:48:40 PM - Article `download()` failed with 403 Client Error: Forbidden for url: https://www.bizjournals.com/nashville/news/2021/11/23/walmart-new-balance-lebanon-leases.html on URL https://news.google.com/rss/articles/CBMiXWh0dHBzOi8vd3d3LmJpempvdXJuYWxzLmNvbS9uYXNodmlsbGUvbmV3cy8yMDIxLzExLzIzL3dhbG1hcnQtbmV3LWJhbGFuY2UtbGViYW5vbi1sZWFzZXMuaHRtbNIBAA?oc=5&hl=en-US&gl=US&ceid=US:en\n"
     ]
    },
    {
     "name": "stdout",
     "output_type": "stream",
     "text": [
      "-- None\n",
      "-- <newspaper.article.Article object at 0x0000022FBEF11B70>\n",
      "-- <newspaper.article.Article object at 0x0000022FE91F32E0>\n",
      "-- <newspaper.article.Article object at 0x0000022FEA29A7A0>\n",
      "-- <newspaper.article.Article object at 0x0000022FEA2F78E0>\n",
      "-- <newspaper.article.Article object at 0x0000022FEA2DFD00>\n",
      "-- <newspaper.article.Article object at 0x0000022FEA358970>\n",
      "-- <newspaper.article.Article object at 0x0000022FE91AFBB0>\n",
      "-- <newspaper.article.Article object at 0x0000022FEA29A7A0>\n",
      "-- <newspaper.article.Article object at 0x0000022FEA2A2FE0>\n",
      "-- <newspaper.article.Article object at 0x0000022FEA2DF3D0>\n",
      "-- <newspaper.article.Article object at 0x0000022FEA2F7460>\n",
      "-- <newspaper.article.Article object at 0x0000022FEA29A7A0>\n",
      "-- <newspaper.article.Article object at 0x0000022FEA299C00>\n",
      "-- <newspaper.article.Article object at 0x0000022FEA2F3F40>\n",
      "-- <newspaper.article.Article object at 0x0000022FEA2F3FD0>\n",
      "-- <newspaper.article.Article object at 0x0000022FEA2F3F70>\n",
      "-- <newspaper.article.Article object at 0x0000022FEA29A7A0>\n",
      "-- <newspaper.article.Article object at 0x0000022FEA2DEE30>\n",
      "-- <newspaper.article.Article object at 0x0000022FEA2F3F70>\n",
      "-- <newspaper.article.Article object at 0x0000022FEA2F77C0>\n",
      "-- <newspaper.article.Article object at 0x0000022FEA29BCD0>\n",
      "-- <newspaper.article.Article object at 0x0000022FEA29BD60>\n",
      "-- <newspaper.article.Article object at 0x0000022FEA2F7520>\n",
      "-- <newspaper.article.Article object at 0x0000022FEA2F7700>\n",
      "-- <newspaper.article.Article object at 0x0000022FEA29BCD0>\n",
      "-- <newspaper.article.Article object at 0x0000022FEA358970>\n",
      "-- <newspaper.article.Article object at 0x0000022FEA2F70D0>\n",
      "-- <newspaper.article.Article object at 0x0000022FEA2A3010>\n",
      "-- <newspaper.article.Article object at 0x0000022FEA2F2920>\n",
      "-- <newspaper.article.Article object at 0x0000022FEA2DF910>\n",
      "-- <newspaper.article.Article object at 0x0000022FEA2A3010>\n",
      "-- <newspaper.article.Article object at 0x0000022FE91F3E20>\n",
      "-- <newspaper.article.Article object at 0x0000022FEA2A2FE0>\n",
      "-- <newspaper.article.Article object at 0x0000022FE91AFBB0>\n",
      "-- <newspaper.article.Article object at 0x0000022FEA2DEFB0>\n",
      "-- <newspaper.article.Article object at 0x0000022FEA2A3D90>\n",
      "-- <newspaper.article.Article object at 0x0000022FEA2A2EC0>\n",
      "-- <newspaper.article.Article object at 0x0000022FEA2A3010>\n",
      "-- <newspaper.article.Article object at 0x0000022FEA2F7190>\n",
      "-- <newspaper.article.Article object at 0x0000022FEA2A2FE0>\n",
      "-- <newspaper.article.Article object at 0x0000022FEA2A3010>\n",
      "-- <newspaper.article.Article object at 0x0000022FEA29AE30>\n"
     ]
    },
    {
     "name": "stderr",
     "output_type": "stream",
     "text": [
      "11/14/2023 11:51:25 PM - Article `download()` failed with 403 Client Error: Forbidden for url: https://www.mariettatimes.com/news/business/2021/12/group-at-thermo-fisher-helps-angel-tree-program/ on URL https://news.google.com/rss/articles/CBMiZGh0dHBzOi8vd3d3Lm1hcmlldHRhdGltZXMuY29tL25ld3MvYnVzaW5lc3MvMjAyMS8xMi9ncm91cC1hdC10aGVybW8tZmlzaGVyLWhlbHBzLWFuZ2VsLXRyZWUtcHJvZ3JhbS_SAQA?oc=5&hl=en-US&gl=US&ceid=US:en\n"
     ]
    },
    {
     "name": "stdout",
     "output_type": "stream",
     "text": [
      "-- None\n",
      "-- <newspaper.article.Article object at 0x0000022FEA2DD210>\n",
      "-- <newspaper.article.Article object at 0x0000022FE91F3D60>\n",
      "-- <newspaper.article.Article object at 0x0000022FEA2F7910>\n",
      "-- <newspaper.article.Article object at 0x0000022FE91F23B0>\n",
      "-- <newspaper.article.Article object at 0x0000022FEA509C00>\n",
      "-- <newspaper.article.Article object at 0x0000022FEA2F6E60>\n",
      "-- <newspaper.article.Article object at 0x0000022FEA35B010>\n",
      "-- <newspaper.article.Article object at 0x0000022FE8D461D0>\n",
      "-- <newspaper.article.Article object at 0x0000022FEA2DE6B0>\n",
      "-- <newspaper.article.Article object at 0x0000022FEA299C00>\n",
      "-- <newspaper.article.Article object at 0x0000022FEA2DD4E0>\n",
      "-- <newspaper.article.Article object at 0x0000022FEA2F7190>\n",
      "-- <newspaper.article.Article object at 0x0000022FEA2A3C70>\n",
      "-- <newspaper.article.Article object at 0x0000022FBEF11B70>\n",
      "-- <newspaper.article.Article object at 0x0000022FE91F27A0>\n",
      "-- <newspaper.article.Article object at 0x0000022FEA2A2EC0>\n",
      "-- <newspaper.article.Article object at 0x0000022FEA2DE170>\n",
      "-- <newspaper.article.Article object at 0x0000022FEA2F7700>\n",
      "-- <newspaper.article.Article object at 0x0000022FEA2F7130>\n",
      "-- <newspaper.article.Article object at 0x0000022FEA29BD60>\n",
      "-- <newspaper.article.Article object at 0x0000022FEA29B2E0>\n",
      "-- <newspaper.article.Article object at 0x0000022FEA2DEFB0>\n",
      "-- <newspaper.article.Article object at 0x0000022FBEF11B70>\n",
      "-- <newspaper.article.Article object at 0x0000022FEA2DE6B0>\n"
     ]
    },
    {
     "name": "stderr",
     "output_type": "stream",
     "text": [
      "11/14/2023 11:53:15 PM - Article `download()` failed with HTTPSConnectionPool(host='www.bio-itworld.com', port=443): Max retries exceeded with url: /news/2021/12/10/why-mass-spectrometry-is-taking-over-affinity-based-approaches-in-plasma-proteomics (Caused by SSLError(SSLCertVerificationError(1, '[SSL: CERTIFICATE_VERIFY_FAILED] certificate verify failed: unable to get local issuer certificate (_ssl.c:997)'))) on URL https://news.google.com/rss/articles/CBMif2h0dHBzOi8vd3d3LmJpby1pdHdvcmxkLmNvbS9uZXdzLzIwMjEvMTIvMTAvd2h5LW1hc3Mtc3BlY3Ryb21ldHJ5LWlzLXRha2luZy1vdmVyLWFmZmluaXR5LWJhc2VkLWFwcHJvYWNoZXMtaW4tcGxhc21hLXByb3Rlb21pY3PSAQA?oc=5&hl=en-US&gl=US&ceid=US:en\n"
     ]
    },
    {
     "name": "stdout",
     "output_type": "stream",
     "text": [
      "-- None\n",
      "-- <newspaper.article.Article object at 0x0000022FEA358970>\n",
      "-- <newspaper.article.Article object at 0x0000022FEA29BD60>\n",
      "-- <newspaper.article.Article object at 0x0000022FEA2A3070>\n",
      "-- <newspaper.article.Article object at 0x0000022FEA2F2920>\n",
      "-- <newspaper.article.Article object at 0x0000022FEA358970>\n",
      "-- <newspaper.article.Article object at 0x0000022FEA2A3010>\n"
     ]
    },
    {
     "name": "stderr",
     "output_type": "stream",
     "text": [
      "11/14/2023 11:53:44 PM - Article `download()` failed with 403 Client Error: Forbidden for url: https://www.mariettatimes.com/obituaries/2021/12/bradford-charles-brad-burke/ on URL https://news.google.com/rss/articles/CBMiTWh0dHBzOi8vd3d3Lm1hcmlldHRhdGltZXMuY29tL29iaXR1YXJpZXMvMjAyMS8xMi9icmFkZm9yZC1jaGFybGVzLWJyYWQtYnVya2Uv0gEA?oc=5&hl=en-US&gl=US&ceid=US:en\n"
     ]
    },
    {
     "name": "stdout",
     "output_type": "stream",
     "text": [
      "-- None\n",
      "-- <newspaper.article.Article object at 0x0000022FEA29BD60>\n",
      "-- <newspaper.article.Article object at 0x0000022FEA29B2E0>\n",
      "-- <newspaper.article.Article object at 0x0000022FE91F33A0>\n",
      "-- <newspaper.article.Article object at 0x0000022FEA2F3310>\n",
      "-- <newspaper.article.Article object at 0x0000022FEA29BD60>\n",
      "-- <newspaper.article.Article object at 0x0000022FEA2F7AC0>\n",
      "-- <newspaper.article.Article object at 0x0000022FE91F33A0>\n",
      "-- <newspaper.article.Article object at 0x0000022FEA2F7730>\n",
      "-- <newspaper.article.Article object at 0x0000022FEA2F7EE0>\n",
      "-- <newspaper.article.Article object at 0x0000022FE91F3E20>\n",
      "-- <newspaper.article.Article object at 0x0000022FE91F33A0>\n"
     ]
    },
    {
     "name": "stderr",
     "output_type": "stream",
     "text": [
      "11/14/2023 11:55:09 PM - Article `download()` failed with 403 Client Error: Forbidden for url: https://www.pnas.org/doi/10.1073/pnas.2112836118 on URL https://news.google.com/rss/articles/CBMiMGh0dHBzOi8vd3d3LnBuYXMub3JnL2RvaS8xMC4xMDczL3BuYXMuMjExMjgzNjExONIBAA?oc=5&hl=en-US&gl=US&ceid=US:en\n"
     ]
    },
    {
     "name": "stdout",
     "output_type": "stream",
     "text": [
      "-- None\n",
      "-- <newspaper.article.Article object at 0x0000022FE8D461D0>\n"
     ]
    },
    {
     "name": "stderr",
     "output_type": "stream",
     "text": [
      "11/14/2023 11:55:30 PM - Article `download()` failed with HTTPSConnectionPool(host='www.swindonadvertiser.co.uk', port=443): Max retries exceeded with url: /news/19783572.fury-bad-parking-near-key-covid-vaccine-site-thermo-fisher/ (Caused by ConnectTimeoutError(<urllib3.connection.HTTPSConnection object at 0x0000022FEA508F10>, 'Connection to www.swindonadvertiser.co.uk timed out. (connect timeout=7)')) on URL https://news.google.com/rss/articles/CBMibWh0dHBzOi8vd3d3LnN3aW5kb25hZHZlcnRpc2VyLmNvLnVrL25ld3MvMTk3ODM1NzIuZnVyeS1iYWQtcGFya2luZy1uZWFyLWtleS1jb3ZpZC12YWNjaW5lLXNpdGUtdGhlcm1vLWZpc2hlci_SAQA?oc=5&hl=en-US&gl=US&ceid=US:en\n"
     ]
    },
    {
     "name": "stdout",
     "output_type": "stream",
     "text": [
      "-- None\n",
      "-- <newspaper.article.Article object at 0x0000022FEA2F3F40>\n",
      "-- <newspaper.article.Article object at 0x0000022FEA2F3310>\n",
      "-- <newspaper.article.Article object at 0x0000022FEA2F2C20>\n",
      "-- <newspaper.article.Article object at 0x0000022FE914E170>\n",
      "-- <newspaper.article.Article object at 0x0000022FEA2DED70>\n",
      "-- <newspaper.article.Article object at 0x0000022FEA2F77C0>\n",
      "-- <newspaper.article.Article object at 0x0000022FEA2F7EE0>\n",
      "-- <newspaper.article.Article object at 0x0000022FEA35B010>\n",
      "-- <newspaper.article.Article object at 0x0000022FE91F3D60>\n",
      "-- <newspaper.article.Article object at 0x0000022FE91F3E20>\n",
      "-- <newspaper.article.Article object at 0x0000022FEA2F2BF0>\n",
      "-- <newspaper.article.Article object at 0x0000022FE91F2FE0>\n",
      "-- <newspaper.article.Article object at 0x0000022FEA29B2E0>\n",
      "-- <newspaper.article.Article object at 0x0000022FE914E170>\n",
      "-- <newspaper.article.Article object at 0x0000022FEA2F79D0>\n",
      "-- <newspaper.article.Article object at 0x0000022FEA2A0BE0>\n",
      "-- <newspaper.article.Article object at 0x0000022FE91F28C0>\n",
      "-- <newspaper.article.Article object at 0x0000022FE914E170>\n",
      "-- <newspaper.article.Article object at 0x0000022FEA2F2920>\n",
      "-- <newspaper.article.Article object at 0x0000022FEA299C00>\n",
      "-- <newspaper.article.Article object at 0x0000022FEA29BD60>\n",
      "-- <newspaper.article.Article object at 0x0000022FEA29AE30>\n",
      "-- <newspaper.article.Article object at 0x0000022FEA2DE6B0>\n",
      "-- <newspaper.article.Article object at 0x0000022FEA2DFD00>\n",
      "-- <newspaper.article.Article object at 0x0000022FEA2F7E50>\n",
      "-- <newspaper.article.Article object at 0x0000022FEA2F2BF0>\n",
      "-- <newspaper.article.Article object at 0x0000022FEA2A3D90>\n",
      "-- <newspaper.article.Article object at 0x0000022FE8D461D0>\n",
      "-- <newspaper.article.Article object at 0x0000022FEA29A7A0>\n",
      "-- <newspaper.article.Article object at 0x0000022FEA2F3F40>\n",
      "-- <newspaper.article.Article object at 0x0000022FEA2A3D90>\n",
      "-- <newspaper.article.Article object at 0x0000022FEA2DE6B0>\n"
     ]
    },
    {
     "name": "stderr",
     "output_type": "stream",
     "text": [
      "11/14/2023 11:58:24 PM - Article `download()` failed with 403 Client Error: Forbidden for url: https://www.360dx.com/molecular-diagnostics/co-diagnostics-acquire-idaho-molecular-advanced-conceptions-50m on URL https://news.google.com/rss/articles/CBMia2h0dHBzOi8vd3d3LjM2MGR4LmNvbS9tb2xlY3VsYXItZGlhZ25vc3RpY3MvY28tZGlhZ25vc3RpY3MtYWNxdWlyZS1pZGFoby1tb2xlY3VsYXItYWR2YW5jZWQtY29uY2VwdGlvbnMtNTBt0gEA?oc=5&hl=en-US&gl=US&ceid=US:en\n"
     ]
    },
    {
     "name": "stdout",
     "output_type": "stream",
     "text": [
      "-- None\n",
      "-- <newspaper.article.Article object at 0x0000022FEA358970>\n",
      "-- <newspaper.article.Article object at 0x0000022FE914E170>\n",
      "-- <newspaper.article.Article object at 0x0000022FEA2DE170>\n",
      "-- <newspaper.article.Article object at 0x0000022FEA2F7CD0>\n"
     ]
    },
    {
     "name": "stderr",
     "output_type": "stream",
     "text": [
      "11/14/2023 11:58:38 PM - Article `download()` failed with 403 Client Error: Forbidden for url: https://www.360dx.com/cancer/labcorp-acquire-personal-genome-diagnostics-575m-cash on URL https://news.google.com/rss/articles/CBMiUmh0dHBzOi8vd3d3LjM2MGR4LmNvbS9jYW5jZXIvbGFiY29ycC1hY3F1aXJlLXBlcnNvbmFsLWdlbm9tZS1kaWFnbm9zdGljcy01NzVtLWNhc2jSAQA?oc=5&hl=en-US&gl=US&ceid=US:en\n"
     ]
    },
    {
     "name": "stdout",
     "output_type": "stream",
     "text": [
      "-- None\n",
      "-- <newspaper.article.Article object at 0x0000022FEA2A3D90>\n",
      "-- <newspaper.article.Article object at 0x0000022FE91F3D90>\n",
      "-- <newspaper.article.Article object at 0x0000022FEA35B010>\n",
      "-- <newspaper.article.Article object at 0x0000022FEA2F79A0>\n",
      "-- <newspaper.article.Article object at 0x0000022FEA2F7040>\n",
      "-- <newspaper.article.Article object at 0x0000022FEA2F7B20>\n",
      "-- <newspaper.article.Article object at 0x0000022FEA29BD60>\n",
      "-- <newspaper.article.Article object at 0x0000022FEA2F2BF0>\n",
      "-- <newspaper.article.Article object at 0x0000022FE91AFBB0>\n",
      "-- <newspaper.article.Article object at 0x0000022FEA2F7460>\n",
      "-- <newspaper.article.Article object at 0x0000022FEA2F7730>\n",
      "-- <newspaper.article.Article object at 0x0000022FEA2F2BF0>\n",
      "-- <newspaper.article.Article object at 0x0000022FE8D461D0>\n",
      "-- <newspaper.article.Article object at 0x0000022FEA2F2C20>\n",
      "-- <newspaper.article.Article object at 0x0000022FEA2F2BF0>\n",
      "-- <newspaper.article.Article object at 0x0000022FE914E170>\n",
      "-- <newspaper.article.Article object at 0x0000022FE91F3D60>\n",
      "-- <newspaper.article.Article object at 0x0000022FEA29B2E0>\n",
      "-- <newspaper.article.Article object at 0x0000022FE91AFBB0>\n",
      "-- <newspaper.article.Article object at 0x0000022FEA2F7700>\n",
      "-- <newspaper.article.Article object at 0x0000022FEA2DED70>\n",
      "-- <newspaper.article.Article object at 0x0000022FEA2DE6B0>\n",
      "-- <newspaper.article.Article object at 0x0000022FEA2A2EC0>\n",
      "-- <newspaper.article.Article object at 0x0000022FEA2DD4E0>\n",
      "-- <newspaper.article.Article object at 0x0000022FEA29B2E0>\n",
      "-- <newspaper.article.Article object at 0x0000022FEA29BCD0>\n",
      "-- <newspaper.article.Article object at 0x0000022FE91F28C0>\n",
      "-- <newspaper.article.Article object at 0x0000022FEA2A0BE0>\n",
      "-- <newspaper.article.Article object at 0x0000022FEA2A3C70>\n",
      "-- <newspaper.article.Article object at 0x0000022FE91F28C0>\n",
      "-- <newspaper.article.Article object at 0x0000022FEA2F7910>\n"
     ]
    },
    {
     "name": "stderr",
     "output_type": "stream",
     "text": [
      "11/15/2023 12:00:55 AM - Article `download()` failed with 403 Client Error: Forbidden for url: https://www.pnas.org/doi/10.1073/pnas.2112491119 on URL https://news.google.com/rss/articles/CBMiMGh0dHBzOi8vd3d3LnBuYXMub3JnL2RvaS8xMC4xMDczL3BuYXMuMjExMjQ5MTExOdIBAA?oc=5&hl=en-US&gl=US&ceid=US:en\n"
     ]
    },
    {
     "name": "stdout",
     "output_type": "stream",
     "text": [
      "-- None\n",
      "-- <newspaper.article.Article object at 0x0000022FEA2F7F70>\n",
      "-- <newspaper.article.Article object at 0x0000022FE91F3D90>\n",
      "-- <newspaper.article.Article object at 0x0000022FEA2A0BE0>\n",
      "-- <newspaper.article.Article object at 0x0000022FE91F28C0>\n",
      "-- <newspaper.article.Article object at 0x0000022FEA2DFD00>\n",
      "-- <newspaper.article.Article object at 0x0000022FEA2F2920>\n",
      "-- <newspaper.article.Article object at 0x0000022FEA2DD210>\n",
      "-- <newspaper.article.Article object at 0x0000022FEA29A7A0>\n",
      "-- <newspaper.article.Article object at 0x0000022FEA29BCD0>\n",
      "-- <newspaper.article.Article object at 0x0000022FE91F3D60>\n",
      "-- <newspaper.article.Article object at 0x0000022FEA2F6EF0>\n",
      "-- <newspaper.article.Article object at 0x0000022FEA2DD210>\n",
      "-- <newspaper.article.Article object at 0x0000022FEA2F7880>\n",
      "-- <newspaper.article.Article object at 0x0000022FEA2DEE30>\n",
      "-- <newspaper.article.Article object at 0x0000022FEA2F7BE0>\n",
      "-- <newspaper.article.Article object at 0x0000022FEA2F7490>\n",
      "-- <newspaper.article.Article object at 0x0000022FEA2DD4E0>\n",
      "-- <newspaper.article.Article object at 0x0000022FEA2F7BE0>\n",
      "-- <newspaper.article.Article object at 0x0000022FE91F28C0>\n",
      "-- <newspaper.article.Article object at 0x0000022FEA2F6F80>\n"
     ]
    },
    {
     "name": "stderr",
     "output_type": "stream",
     "text": [
      "11/15/2023 12:03:05 AM - Article `download()` failed with 403 Client Error: Forbidden for url: https://www.fiercebiotech.com/medtech/thermo-fisher-nets-protein-producer-peprotech-for-1-85b on URL https://news.google.com/rss/articles/CBMiXWh0dHBzOi8vd3d3LmZpZXJjZWJpb3RlY2guY29tL21lZHRlY2gvdGhlcm1vLWZpc2hlci1uZXRzLXByb3RlaW4tcHJvZHVjZXItcGVwcm90ZWNoLWZvci0xLTg1YtIBAA?oc=5&hl=en-US&gl=US&ceid=US:en\n"
     ]
    },
    {
     "name": "stdout",
     "output_type": "stream",
     "text": [
      "-- None\n"
     ]
    },
    {
     "name": "stderr",
     "output_type": "stream",
     "text": [
      "11/15/2023 12:03:06 AM - Article `download()` failed with 403 Client Error: Forbidden for url: https://www.pnas.org/doi/10.1073/pnas.2114884119 on URL https://news.google.com/rss/articles/CBMiMGh0dHBzOi8vd3d3LnBuYXMub3JnL2RvaS8xMC4xMDczL3BuYXMuMjExNDg4NDExOdIBAA?oc=5&hl=en-US&gl=US&ceid=US:en\n"
     ]
    },
    {
     "name": "stdout",
     "output_type": "stream",
     "text": [
      "-- <newspaper.article.Article object at 0x0000022FEA2DD210>\n",
      "-- None\n",
      "-- <newspaper.article.Article object at 0x0000022FEA2F2C20>\n",
      "-- <newspaper.article.Article object at 0x0000022FEA2F77C0>\n",
      "-- <newspaper.article.Article object at 0x0000022FEA2DD210>\n",
      "-- <newspaper.article.Article object at 0x0000022FEA2F30A0>\n",
      "-- <newspaper.article.Article object at 0x0000022FEA2F7280>\n",
      "-- <newspaper.article.Article object at 0x0000022FEA2F3F40>\n",
      "-- <newspaper.article.Article object at 0x0000022FBEF11B70>\n",
      "-- <newspaper.article.Article object at 0x0000022FE8D461D0>\n",
      "-- <newspaper.article.Article object at 0x0000022FBEF11B70>\n",
      "-- <newspaper.article.Article object at 0x0000022FEA2DEFB0>\n",
      "-- <newspaper.article.Article object at 0x0000022FEA2F3FD0>\n",
      "-- <newspaper.article.Article object at 0x0000022FEA50BCD0>\n",
      "-- <newspaper.article.Article object at 0x0000022FBEF11B70>\n",
      "-- <newspaper.article.Article object at 0x0000022FEA29BCD0>\n",
      "-- <newspaper.article.Article object at 0x0000022FEA50AF80>\n",
      "-- <newspaper.article.Article object at 0x0000022FEA2DE170>\n",
      "-- <newspaper.article.Article object at 0x0000022FEA299C00>\n"
     ]
    },
    {
     "name": "stderr",
     "output_type": "stream",
     "text": [
      "11/15/2023 12:04:20 AM - Article `download()` failed with 403 Client Error: Forbidden for url: https://www.360dx.com/business-news/diagnostics-ma-deals-skyrocket-2021-companies-have-covid-19-cash-burn on URL https://news.google.com/rss/articles/CBMiaWh0dHBzOi8vd3d3LjM2MGR4LmNvbS9idXNpbmVzcy1uZXdzL2RpYWdub3N0aWNzLW1hLWRlYWxzLXNreXJvY2tldC0yMDIxLWNvbXBhbmllcy1oYXZlLWNvdmlkLTE5LWNhc2gtYnVybtIBAA?oc=5&hl=en-US&gl=US&ceid=US:en\n"
     ]
    },
    {
     "name": "stdout",
     "output_type": "stream",
     "text": [
      "-- None\n"
     ]
    },
    {
     "name": "stderr",
     "output_type": "stream",
     "text": [
      "11/15/2023 12:04:20 AM - Article `download()` failed with 403 Client Error: Forbidden for url: https://www.axios.com/2022/01/10/jpm-2022-pandemic-preview on URL https://news.google.com/rss/articles/CBMiOmh0dHBzOi8vd3d3LmF4aW9zLmNvbS8yMDIyLzAxLzEwL2pwbS0yMDIyLXBhbmRlbWljLXByZXZpZXfSAQA?oc=5&hl=en-US&gl=US&ceid=US:en\n"
     ]
    },
    {
     "name": "stdout",
     "output_type": "stream",
     "text": [
      "-- None\n",
      "-- <newspaper.article.Article object at 0x0000022FEA29B2E0>\n",
      "-- <newspaper.article.Article object at 0x0000022FEA29A7A0>\n",
      "-- <newspaper.article.Article object at 0x0000022FEA2A3C70>\n"
     ]
    },
    {
     "name": "stderr",
     "output_type": "stream",
     "text": [
      "11/15/2023 12:04:37 AM - Article `download()` failed with 403 Client Error: Forbidden for url: https://charlotte.axios.com/284444/exclusive-a-day-with-starmeds-ceo-during-the-omicron-surge/ on URL https://news.google.com/rss/articles/CBMiXmh0dHBzOi8vY2hhcmxvdHRlLmF4aW9zLmNvbS8yODQ0NDQvZXhjbHVzaXZlLWEtZGF5LXdpdGgtc3Rhcm1lZHMtY2VvLWR1cmluZy10aGUtb21pY3Jvbi1zdXJnZS_SAQA?oc=5&hl=en-US&gl=US&ceid=US:en\n"
     ]
    },
    {
     "name": "stdout",
     "output_type": "stream",
     "text": [
      "-- None\n",
      "-- <newspaper.article.Article object at 0x0000022FEA2F3310>\n"
     ]
    },
    {
     "name": "stderr",
     "output_type": "stream",
     "text": [
      "11/15/2023 12:04:50 AM - Article `download()` failed with 403 Client Error: Forbidden for url: https://www.360dx.com/business-news/jp-morgan-healthcare-conference-day-2-labcorp-thermo-fisher-scientific-abbott-danaher on URL https://news.google.com/rss/articles/CBMieWh0dHBzOi8vd3d3LjM2MGR4LmNvbS9idXNpbmVzcy1uZXdzL2pwLW1vcmdhbi1oZWFsdGhjYXJlLWNvbmZlcmVuY2UtZGF5LTItbGFiY29ycC10aGVybW8tZmlzaGVyLXNjaWVudGlmaWMtYWJib3R0LWRhbmFoZXLSAQA?oc=5&hl=en-US&gl=US&ceid=US:en\n"
     ]
    },
    {
     "name": "stdout",
     "output_type": "stream",
     "text": [
      "-- None\n",
      "-- <newspaper.article.Article object at 0x0000022FEA29AE30>\n",
      "-- <newspaper.article.Article object at 0x0000022FE91F33D0>\n",
      "-- <newspaper.article.Article object at 0x0000022FEA2F3310>\n",
      "-- <newspaper.article.Article object at 0x0000022FEA2DEFB0>\n"
     ]
    },
    {
     "name": "stderr",
     "output_type": "stream",
     "text": [
      "11/15/2023 12:05:06 AM - Article `download()` failed with 403 Client Error: Max restarts limit reached for url: https://www.forbes.com/sites/greatspeculations/2022/01/13/this-healthcare-company-is-a-better-pick-over-honeywell-stock/ on URL https://news.google.com/rss/articles/CBMieGh0dHBzOi8vd3d3LmZvcmJlcy5jb20vc2l0ZXMvZ3JlYXRzcGVjdWxhdGlvbnMvMjAyMi8wMS8xMy90aGlzLWhlYWx0aGNhcmUtY29tcGFueS1pcy1hLWJldHRlci1waWNrLW92ZXItaG9uZXl3ZWxsLXN0b2NrL9IBfGh0dHBzOi8vd3d3LmZvcmJlcy5jb20vc2l0ZXMvZ3JlYXRzcGVjdWxhdGlvbnMvMjAyMi8wMS8xMy90aGlzLWhlYWx0aGNhcmUtY29tcGFueS1pcy1hLWJldHRlci1waWNrLW92ZXItaG9uZXl3ZWxsLXN0b2NrL2FtcC8?oc=5&hl=en-US&gl=US&ceid=US:en\n"
     ]
    },
    {
     "name": "stdout",
     "output_type": "stream",
     "text": [
      "-- None\n",
      "-- <newspaper.article.Article object at 0x0000022FE91F33D0>\n",
      "-- <newspaper.article.Article object at 0x0000022FE914E170>\n",
      "-- <newspaper.article.Article object at 0x0000022FEA299C00>\n",
      "-- <newspaper.article.Article object at 0x0000022FEA35B010>\n"
     ]
    },
    {
     "name": "stderr",
     "output_type": "stream",
     "text": [
      "11/15/2023 12:05:23 AM - Article `download()` failed with 403 Client Error: Forbidden for url: https://www.fiercebiotech.com/biotech/jpm22-decentralized-trials-broader-service-offering-and-novel-drugs-key-trends-cro-space on URL https://news.google.com/rss/articles/CBMifmh0dHBzOi8vd3d3LmZpZXJjZWJpb3RlY2guY29tL2Jpb3RlY2gvanBtMjItZGVjZW50cmFsaXplZC10cmlhbHMtYnJvYWRlci1zZXJ2aWNlLW9mZmVyaW5nLWFuZC1ub3ZlbC1kcnVncy1rZXktdHJlbmRzLWNyby1zcGFjZdIBAA?oc=5&hl=en-US&gl=US&ceid=US:en\n"
     ]
    },
    {
     "name": "stdout",
     "output_type": "stream",
     "text": [
      "-- None\n",
      "-- <newspaper.article.Article object at 0x0000022FE914E170>\n",
      "-- <newspaper.article.Article object at 0x0000022FEA2F6F50>\n",
      "-- <newspaper.article.Article object at 0x0000022FEA299C00>\n",
      "-- <newspaper.article.Article object at 0x0000022FEA29BCD0>\n",
      "-- <newspaper.article.Article object at 0x0000022FEA2F7F70>\n",
      "-- <newspaper.article.Article object at 0x0000022FE91F33D0>\n",
      "-- <newspaper.article.Article object at 0x0000022FEA35B010>\n",
      "-- <newspaper.article.Article object at 0x0000022FE8D461D0>\n",
      "-- <newspaper.article.Article object at 0x0000022FE91F33D0>\n",
      "-- <newspaper.article.Article object at 0x0000022FEA2F3310>\n",
      "-- <newspaper.article.Article object at 0x0000022FEA29B2E0>\n",
      "-- <newspaper.article.Article object at 0x0000022FE8D461D0>\n",
      "-- <newspaper.article.Article object at 0x0000022FEA2F77F0>\n",
      "-- <newspaper.article.Article object at 0x0000022FEA2F3310>\n",
      "-- <newspaper.article.Article object at 0x0000022FE91F33D0>\n",
      "-- <newspaper.article.Article object at 0x0000022FE8D461D0>\n",
      "-- <newspaper.article.Article object at 0x0000022FE914E170>\n",
      "-- <newspaper.article.Article object at 0x0000022FEA2F7700>\n",
      "-- <newspaper.article.Article object at 0x0000022FEA2F3310>\n",
      "-- <newspaper.article.Article object at 0x0000022FEA2F7280>\n",
      "-- <newspaper.article.Article object at 0x0000022FE914E170>\n",
      "-- <newspaper.article.Article object at 0x0000022FEA29B2E0>\n",
      "-- <newspaper.article.Article object at 0x0000022FEA29BCD0>\n"
     ]
    },
    {
     "name": "stderr",
     "output_type": "stream",
     "text": [
      "11/15/2023 12:07:20 AM - Article `download()` failed with 403 Client Error: Forbidden for url: https://journals.asm.org/doi/10.1128/JCM.00330-21 on URL https://news.google.com/rss/articles/CBMiMWh0dHBzOi8vam91cm5hbHMuYXNtLm9yZy9kb2kvMTAuMTEyOC9KQ00uMDAzMzAtMjHSAQA?oc=5&hl=en-US&gl=US&ceid=US:en\n"
     ]
    },
    {
     "name": "stdout",
     "output_type": "stream",
     "text": [
      "-- None\n"
     ]
    },
    {
     "name": "stderr",
     "output_type": "stream",
     "text": [
      "11/15/2023 12:07:20 AM - Article `download()` failed with 403 Client Error: Forbidden for url: https://kiss951.com/listicle/25-of-the-best-employers-to-work-for-in-north-carolina/ on URL https://news.google.com/rss/articles/CBMiVGh0dHBzOi8va2lzczk1MS5jb20vbGlzdGljbGUvMjUtb2YtdGhlLWJlc3QtZW1wbG95ZXJzLXRvLXdvcmstZm9yLWluLW5vcnRoLWNhcm9saW5hL9IBAA?oc=5&hl=en-US&gl=US&ceid=US:en\n"
     ]
    },
    {
     "name": "stdout",
     "output_type": "stream",
     "text": [
      "-- None\n",
      "-- <newspaper.article.Article object at 0x0000022FE91F33D0>\n",
      "-- <newspaper.article.Article object at 0x0000022FEA2F6F80>\n",
      "-- <newspaper.article.Article object at 0x0000022FEA2DFCA0>\n",
      "-- <newspaper.article.Article object at 0x0000022FEA2F75B0>\n",
      "-- <newspaper.article.Article object at 0x0000022FEA2F7AF0>\n",
      "-- <newspaper.article.Article object at 0x0000022FEA2DFD00>\n",
      "-- <newspaper.article.Article object at 0x0000022FEA2DFCA0>\n",
      "-- <newspaper.article.Article object at 0x0000022FE8D461D0>\n",
      "-- <newspaper.article.Article object at 0x0000022FE91F33D0>\n"
     ]
    },
    {
     "name": "stderr",
     "output_type": "stream",
     "text": [
      "11/15/2023 12:07:50 AM - Article `download()` failed with 403 Client Error: Forbidden for url: https://www.pnas.org/doi/10.1073/pnas.2118752119 on URL https://news.google.com/rss/articles/CBMiMGh0dHBzOi8vd3d3LnBuYXMub3JnL2RvaS8xMC4xMDczL3BuYXMuMjExODc1MjExOdIBAA?oc=5&hl=en-US&gl=US&ceid=US:en\n"
     ]
    },
    {
     "name": "stdout",
     "output_type": "stream",
     "text": [
      "-- None\n",
      "-- <newspaper.article.Article object at 0x0000022FEA29A7A0>\n",
      "-- <newspaper.article.Article object at 0x0000022FE8D461D0>\n",
      "-- <newspaper.article.Article object at 0x0000022FEA2F3310>\n",
      "-- <newspaper.article.Article object at 0x0000022FE8D461D0>\n",
      "-- <newspaper.article.Article object at 0x0000022FEA2A3C70>\n",
      "-- <newspaper.article.Article object at 0x0000022FEA2DFD00>\n"
     ]
    },
    {
     "name": "stderr",
     "output_type": "stream",
     "text": [
      "11/15/2023 12:08:18 AM - Article `download()` failed with 403 Client Error: Forbidden for url: https://www.barrons.com/articles/roundtable-2022-stock-market-investing-picks-51642816831 on URL https://news.google.com/rss/articles/CBMiWWh0dHBzOi8vd3d3LmJhcnJvbnMuY29tL2FydGljbGVzL3JvdW5kdGFibGUtMjAyMi1zdG9jay1tYXJrZXQtaW52ZXN0aW5nLXBpY2tzLTUxNjQyODE2ODMx0gFdaHR0cHM6Ly93d3cuYmFycm9ucy5jb20vYW1wL2FydGljbGVzL3JvdW5kdGFibGUtMjAyMi1zdG9jay1tYXJrZXQtaW52ZXN0aW5nLXBpY2tzLTUxNjQyODE2ODMx?oc=5&hl=en-US&gl=US&ceid=US:en\n"
     ]
    },
    {
     "name": "stdout",
     "output_type": "stream",
     "text": [
      "-- None\n",
      "-- <newspaper.article.Article object at 0x0000022FEA2F2C20>\n",
      "-- <newspaper.article.Article object at 0x0000022FEA508DC0>\n",
      "-- <newspaper.article.Article object at 0x0000022FEA2DD210>\n",
      "-- <newspaper.article.Article object at 0x0000022FEA29A7A0>\n",
      "-- <newspaper.article.Article object at 0x0000022FEA2F2C20>\n",
      "-- <newspaper.article.Article object at 0x0000022FEA2A3C70>\n",
      "-- <newspaper.article.Article object at 0x0000022FEA2DD4E0>\n",
      "-- <newspaper.article.Article object at 0x0000022FEA29A7A0>\n",
      "-- <newspaper.article.Article object at 0x0000022FEA2A3C70>\n",
      "-- <newspaper.article.Article object at 0x0000022FEA2F2920>\n",
      "-- <newspaper.article.Article object at 0x0000022FEA2F77C0>\n",
      "-- <newspaper.article.Article object at 0x0000022FEA29A7A0>\n",
      "-- <newspaper.article.Article object at 0x0000022FE91F27A0>\n",
      "-- <newspaper.article.Article object at 0x0000022FEA2F2920>\n",
      "-- <newspaper.article.Article object at 0x0000022FEA2F77C0>\n",
      "-- <newspaper.article.Article object at 0x0000022FEA2F2920>\n",
      "-- <newspaper.article.Article object at 0x0000022FE91F27A0>\n"
     ]
    },
    {
     "name": "stderr",
     "output_type": "stream",
     "text": [
      "11/15/2023 12:09:35 AM - Article `download()` failed with 403 Client Error: Forbidden for url: https://kiss951.com/listicle/list-top-50-companies-for-remote-jobs-in-north-carolina/ on URL https://news.google.com/rss/articles/CBMiVWh0dHBzOi8va2lzczk1MS5jb20vbGlzdGljbGUvbGlzdC10b3AtNTAtY29tcGFuaWVzLWZvci1yZW1vdGUtam9icy1pbi1ub3J0aC1jYXJvbGluYS_SAQA?oc=5&hl=en-US&gl=US&ceid=US:en\n"
     ]
    },
    {
     "name": "stdout",
     "output_type": "stream",
     "text": [
      "-- <newspaper.article.Article object at 0x0000022FEA2A2EC0>\n",
      "-- None\n",
      "-- <newspaper.article.Article object at 0x0000022FE91F28C0>\n",
      "-- <newspaper.article.Article object at 0x0000022FE91F33A0>\n",
      "-- <newspaper.article.Article object at 0x0000022FEA2F77C0>\n",
      "-- <newspaper.article.Article object at 0x0000022FEA2F2920>\n",
      "-- <newspaper.article.Article object at 0x0000022FEA2DEFB0>\n",
      "-- <newspaper.article.Article object at 0x0000022FEA29AE30>\n",
      "-- <newspaper.article.Article object at 0x0000022FEA2DEFB0>\n",
      "-- <newspaper.article.Article object at 0x0000022FEA29A7A0>\n",
      "-- <newspaper.article.Article object at 0x0000022FEA2DE6B0>\n",
      "-- <newspaper.article.Article object at 0x0000022FEA29AE30>\n",
      "-- <newspaper.article.Article object at 0x0000022FEA29BCD0>\n",
      "-- <newspaper.article.Article object at 0x0000022FE91F3D90>\n"
     ]
    },
    {
     "name": "stderr",
     "output_type": "stream",
     "text": [
      "11/15/2023 12:10:36 AM - Article `download()` failed with 403 Client Error: Forbidden for url: https://www.fa-mag.com/news/income-is-the-outcome-66040.html on URL https://news.google.com/rss/articles/CBMiPGh0dHBzOi8vd3d3LmZhLW1hZy5jb20vbmV3cy9pbmNvbWUtaXMtdGhlLW91dGNvbWUtNjYwNDAuaHRtbNIBAA?oc=5&hl=en-US&gl=US&ceid=US:en\n"
     ]
    },
    {
     "name": "stdout",
     "output_type": "stream",
     "text": [
      "-- None\n",
      "-- <newspaper.article.Article object at 0x0000022FE91F32E0>\n"
     ]
    },
    {
     "name": "stderr",
     "output_type": "stream",
     "text": [
      "11/15/2023 12:10:38 AM - Article `download()` failed with 403 Client Error: Forbidden for url: https://www.360dx.com/infectious-disease/sorrento-acquires-point-care-diagnostic-technology-firm-virex-health on URL https://news.google.com/rss/articles/CBMibWh0dHBzOi8vd3d3LjM2MGR4LmNvbS9pbmZlY3Rpb3VzLWRpc2Vhc2Uvc29ycmVudG8tYWNxdWlyZXMtcG9pbnQtY2FyZS1kaWFnbm9zdGljLXRlY2hub2xvZ3ktZmlybS12aXJleC1oZWFsdGjSAQA?oc=5&hl=en-US&gl=US&ceid=US:en\n"
     ]
    },
    {
     "name": "stdout",
     "output_type": "stream",
     "text": [
      "-- None\n",
      "-- <newspaper.article.Article object at 0x0000022FEA29BD60>\n"
     ]
    },
    {
     "name": "stderr",
     "output_type": "stream",
     "text": [
      "11/15/2023 12:10:50 AM - Article `download()` failed with 403 Client Error: Forbidden for url: https://www.fiercebiotech.com/medtech/thermo-fisher-logs-22-revenue-growth-for-2021-buoyed-by-product-launches-and-year-s-biggest on URL https://news.google.com/rss/articles/CBMigQFodHRwczovL3d3dy5maWVyY2ViaW90ZWNoLmNvbS9tZWR0ZWNoL3RoZXJtby1maXNoZXItbG9ncy0yMi1yZXZlbnVlLWdyb3d0aC1mb3ItMjAyMS1idW95ZWQtYnktcHJvZHVjdC1sYXVuY2hlcy1hbmQteWVhci1zLWJpZ2dlc3TSAQA?oc=5&hl=en-US&gl=US&ceid=US:en\n"
     ]
    },
    {
     "name": "stdout",
     "output_type": "stream",
     "text": [
      "-- None\n",
      "-- <newspaper.article.Article object at 0x0000022FEA2F3F70>\n",
      "-- <newspaper.article.Article object at 0x0000022FBEF11B70>\n",
      "-- <newspaper.article.Article object at 0x0000022FEA2F3F70>\n",
      "-- <newspaper.article.Article object at 0x0000022FEA29B2E0>\n",
      "-- <newspaper.article.Article object at 0x0000022FEA2F7670>\n",
      "-- <newspaper.article.Article object at 0x0000022FBEF11B70>\n",
      "-- <newspaper.article.Article object at 0x0000022FEA50A650>\n",
      "-- <newspaper.article.Article object at 0x0000022FEA2A3010>\n",
      "-- <newspaper.article.Article object at 0x0000022FEA2A3070>\n",
      "-- <newspaper.article.Article object at 0x0000022FEA35B010>\n",
      "-- <newspaper.article.Article object at 0x0000022FEA358970>\n",
      "-- <newspaper.article.Article object at 0x0000022FEA2A3C70>\n",
      "-- <newspaper.article.Article object at 0x0000022FEA2F3FD0>\n",
      "-- <newspaper.article.Article object at 0x0000022FEA2F2920>\n",
      "-- <newspaper.article.Article object at 0x0000022FEA358970>\n",
      "-- <newspaper.article.Article object at 0x0000022FEA2F7C70>\n",
      "-- <newspaper.article.Article object at 0x0000022FEA2F7BB0>\n",
      "-- <newspaper.article.Article object at 0x0000022FE914E170>\n",
      "-- <newspaper.article.Article object at 0x0000022FEA2F75E0>\n",
      "-- <newspaper.article.Article object at 0x0000022FEA2F7850>\n",
      "-- <newspaper.article.Article object at 0x0000022FE91F33A0>\n",
      "-- <newspaper.article.Article object at 0x0000022FE91F3D90>\n",
      "-- <newspaper.article.Article object at 0x0000022FE91F23B0>\n",
      "-- <newspaper.article.Article object at 0x0000022FEA35B010>\n",
      "-- <newspaper.article.Article object at 0x0000022FEA2F2BF0>\n",
      "-- <newspaper.article.Article object at 0x0000022FE91F23B0>\n",
      "-- <newspaper.article.Article object at 0x0000022FE91F28C0>\n",
      "-- <newspaper.article.Article object at 0x0000022FEA2F3F70>\n",
      "-- <newspaper.article.Article object at 0x0000022FEA2F2BF0>\n",
      "-- <newspaper.article.Article object at 0x0000022FE91F23B0>\n",
      "-- <newspaper.article.Article object at 0x0000022FEA299C00>\n"
     ]
    },
    {
     "name": "stderr",
     "output_type": "stream",
     "text": [
      "11/15/2023 12:13:50 AM - Article `download()` failed with 403 Client Error: Forbidden for url: https://www.360dx.com/business-news/foundation-medicine-eli-lilly-ink-cdx-development-deal-retevmo on URL https://news.google.com/rss/articles/CBMiYmh0dHBzOi8vd3d3LjM2MGR4LmNvbS9idXNpbmVzcy1uZXdzL2ZvdW5kYXRpb24tbWVkaWNpbmUtZWxpLWxpbGx5LWluay1jZHgtZGV2ZWxvcG1lbnQtZGVhbC1yZXRldm1v0gEA?oc=5&hl=en-US&gl=US&ceid=US:en\n"
     ]
    },
    {
     "name": "stdout",
     "output_type": "stream",
     "text": [
      "-- <newspaper.article.Article object at 0x0000022FE91F3640>\n",
      "-- None\n",
      "-- <newspaper.article.Article object at 0x0000022FEA2A2EC0>\n",
      "-- <newspaper.article.Article object at 0x0000022FBEF11B70>\n",
      "-- <newspaper.article.Article object at 0x0000022FEA2F2BF0>\n",
      "-- <newspaper.article.Article object at 0x0000022FEA2DED70>\n",
      "-- <newspaper.article.Article object at 0x0000022FE91F3640>\n"
     ]
    },
    {
     "name": "stderr",
     "output_type": "stream",
     "text": [
      "11/15/2023 12:14:07 AM - Article `download()` failed with 403 Client Error: Forbidden for url: https://www.360dx.com/point-care-testing/swiss-startup-momm-diagnostics-aims-launch-point-care-preeclampsia-test-2024 on URL https://news.google.com/rss/articles/CBMidWh0dHBzOi8vd3d3LjM2MGR4LmNvbS9wb2ludC1jYXJlLXRlc3Rpbmcvc3dpc3Mtc3RhcnR1cC1tb21tLWRpYWdub3N0aWNzLWFpbXMtbGF1bmNoLXBvaW50LWNhcmUtcHJlZWNsYW1wc2lhLXRlc3QtMjAyNNIBAA?oc=5&hl=en-US&gl=US&ceid=US:en\n"
     ]
    },
    {
     "name": "stdout",
     "output_type": "stream",
     "text": [
      "-- None\n",
      "-- <newspaper.article.Article object at 0x0000022FEA2F2BF0>\n",
      "-- <newspaper.article.Article object at 0x0000022FEA2F30A0>\n"
     ]
    },
    {
     "name": "stderr",
     "output_type": "stream",
     "text": [
      "11/15/2023 12:14:21 AM - Article `download()` failed with 403 Client Error: Forbidden for url: https://www.pnas.org/doi/10.1073/pnas.2120540119 on URL https://news.google.com/rss/articles/CBMiMGh0dHBzOi8vd3d3LnBuYXMub3JnL2RvaS8xMC4xMDczL3BuYXMuMjEyMDU0MDExOdIBAA?oc=5&hl=en-US&gl=US&ceid=US:en\n"
     ]
    },
    {
     "name": "stdout",
     "output_type": "stream",
     "text": [
      "-- None\n",
      "-- <newspaper.article.Article object at 0x0000022FBEF11B70>\n",
      "-- <newspaper.article.Article object at 0x0000022FE91F3D90>\n",
      "-- <newspaper.article.Article object at 0x0000022FEA2A2EC0>\n",
      "-- <newspaper.article.Article object at 0x0000022FE91F32E0>\n",
      "-- <newspaper.article.Article object at 0x0000022FEA29BD60>\n",
      "-- <newspaper.article.Article object at 0x0000022FEA2A2EC0>\n",
      "-- <newspaper.article.Article object at 0x0000022FE91F2FE0>\n",
      "-- <newspaper.article.Article object at 0x0000022FEA509B70>\n",
      "-- <newspaper.article.Article object at 0x0000022FEA50BAC0>\n"
     ]
    },
    {
     "name": "stderr",
     "output_type": "stream",
     "text": [
      "11/15/2023 12:15:36 AM - Article `download()` failed with HTTPSConnectionPool(host='www.vz.lt', port=443): Read timed out. (read timeout=7) on URL https://news.google.com/rss/articles/CBMibGh0dHBzOi8vd3d3LnZ6Lmx0L3ZlcnNsby12YWxkeW1hcy8yMDIyLzAyLzE0L25ldGVpc2luZ2FpLXZhbGRvbWktdmVyc2xvLXByb2Nlc2FpLWt1by1yaXppa3VvamEtb3JnYW5pemFjaWpvc9IBAA?oc=5&hl=en-US&gl=US&ceid=US:en\n"
     ]
    },
    {
     "name": "stdout",
     "output_type": "stream",
     "text": [
      "-- None\n",
      "-- <newspaper.article.Article object at 0x0000022FEA50ACB0>\n",
      "-- <newspaper.article.Article object at 0x0000022FEA509960>\n",
      "-- <newspaper.article.Article object at 0x0000022FEA50B820>\n",
      "-- <newspaper.article.Article object at 0x0000022FEA5098A0>\n",
      "-- <newspaper.article.Article object at 0x0000022FEA50A830>\n",
      "-- <newspaper.article.Article object at 0x0000022FEA508880>\n",
      "-- <newspaper.article.Article object at 0x0000022FEA5084C0>\n",
      "-- <newspaper.article.Article object at 0x0000022FEA50A2F0>\n",
      "-- <newspaper.article.Article object at 0x0000022FEA509960>\n",
      "-- <newspaper.article.Article object at 0x0000022FEA508B80>\n",
      "-- <newspaper.article.Article object at 0x0000022FE91F28C0>\n",
      "-- <newspaper.article.Article object at 0x0000022FEA2F2920>\n",
      "-- <newspaper.article.Article object at 0x0000022FEA2F7BB0>\n",
      "-- <newspaper.article.Article object at 0x0000022FEA2F6EC0>\n",
      "-- <newspaper.article.Article object at 0x0000022FE91F28C0>\n",
      "-- <newspaper.article.Article object at 0x0000022FEA2A0BE0>\n",
      "-- <newspaper.article.Article object at 0x0000022FEA2F7CD0>\n",
      "-- <newspaper.article.Article object at 0x0000022FEA2F6EC0>\n",
      "-- <newspaper.article.Article object at 0x0000022FEA2A0BE0>\n",
      "-- <newspaper.article.Article object at 0x0000022FEA2F6EF0>\n",
      "-- <newspaper.article.Article object at 0x0000022FE91F33A0>\n"
     ]
    },
    {
     "name": "stderr",
     "output_type": "stream",
     "text": [
      "11/15/2023 12:17:01 AM - Article `download()` failed with 403 Client Error: Forbidden for url: https://www.bizjournals.com/boston/news/2022/02/18/xr-journey-delivering-3d-content-at-scale.html on URL https://news.google.com/rss/articles/CBMiYWh0dHBzOi8vd3d3LmJpempvdXJuYWxzLmNvbS9ib3N0b24vbmV3cy8yMDIyLzAyLzE4L3hyLWpvdXJuZXktZGVsaXZlcmluZy0zZC1jb250ZW50LWF0LXNjYWxlLmh0bWzSAQA?oc=5&hl=en-US&gl=US&ceid=US:en\n"
     ]
    },
    {
     "name": "stdout",
     "output_type": "stream",
     "text": [
      "-- None\n",
      "-- <newspaper.article.Article object at 0x0000022FE91F33D0>\n"
     ]
    },
    {
     "name": "stderr",
     "output_type": "stream",
     "text": [
      "11/15/2023 12:17:02 AM - Article `download()` failed with 403 Client Error: Forbidden for url: https://www.360dx.com/business-news/cardinal-health-distribute-cue-health-covid-19-tests on URL https://news.google.com/rss/articles/CBMiWGh0dHBzOi8vd3d3LjM2MGR4LmNvbS9idXNpbmVzcy1uZXdzL2NhcmRpbmFsLWhlYWx0aC1kaXN0cmlidXRlLWN1ZS1oZWFsdGgtY292aWQtMTktdGVzdHPSAQA?oc=5&hl=en-US&gl=US&ceid=US:en\n"
     ]
    },
    {
     "name": "stdout",
     "output_type": "stream",
     "text": [
      "-- None\n",
      "-- <newspaper.article.Article object at 0x0000022FEA2A3C70>\n",
      "-- <newspaper.article.Article object at 0x0000022FE91F39D0>\n",
      "-- <newspaper.article.Article object at 0x0000022FEA2A2FE0>\n",
      "-- <newspaper.article.Article object at 0x0000022FEA2F7B20>\n",
      "-- <newspaper.article.Article object at 0x0000022FEA2A3010>\n",
      "-- <newspaper.article.Article object at 0x0000022FEA2DF3D0>\n",
      "-- <newspaper.article.Article object at 0x0000022FEA2F2BF0>\n",
      "-- <newspaper.article.Article object at 0x0000022FEA2A3070>\n",
      "-- <newspaper.article.Article object at 0x0000022FEA50BD30>\n",
      "-- <newspaper.article.Article object at 0x0000022FEA2F2BF0>\n",
      "-- <newspaper.article.Article object at 0x0000022FEA2A0BE0>\n",
      "-- <newspaper.article.Article object at 0x0000022FEA2DED70>\n",
      "-- <newspaper.article.Article object at 0x0000022FEA2F30A0>\n",
      "-- <newspaper.article.Article object at 0x0000022FEA2F2BF0>\n",
      "-- <newspaper.article.Article object at 0x0000022FEA509150>\n",
      "-- <newspaper.article.Article object at 0x0000022FEA2F30A0>\n",
      "-- <newspaper.article.Article object at 0x0000022FEA2F2BF0>\n",
      "-- <newspaper.article.Article object at 0x0000022FE91F33A0>\n",
      "-- <newspaper.article.Article object at 0x0000022FEA2F7F70>\n",
      "-- <newspaper.article.Article object at 0x0000022FEA2DFD00>\n",
      "-- <newspaper.article.Article object at 0x0000022FEA2DF910>\n"
     ]
    },
    {
     "name": "stderr",
     "output_type": "stream",
     "text": [
      "11/15/2023 12:18:40 AM - Article `download()` failed with 403 Client Error: Forbidden for url: https://www.360dx.com/molecular-diagnostics/opgen-looks-ramp-clinical-use-acuitas-amr-gene-panel-wake-fda-clearance on URL https://news.google.com/rss/articles/CBMic2h0dHBzOi8vd3d3LjM2MGR4LmNvbS9tb2xlY3VsYXItZGlhZ25vc3RpY3Mvb3BnZW4tbG9va3MtcmFtcC1jbGluaWNhbC11c2UtYWN1aXRhcy1hbXItZ2VuZS1wYW5lbC13YWtlLWZkYS1jbGVhcmFuY2XSAQA?oc=5&hl=en-US&gl=US&ceid=US:en\n"
     ]
    },
    {
     "name": "stdout",
     "output_type": "stream",
     "text": [
      "-- <newspaper.article.Article object at 0x0000022FEA29BCD0>\n",
      "-- None\n"
     ]
    },
    {
     "name": "stderr",
     "output_type": "stream",
     "text": [
      "11/15/2023 12:18:52 AM - Article `download()` failed with 403 Client Error: Max restarts limit reached for url: https://www.forbes.com/sites/greatspeculations/2022/02/24/heres-why-3m-stock-is-a-better-pick-over-this-industrial-company/ on URL https://news.google.com/rss/articles/CBMie2h0dHBzOi8vd3d3LmZvcmJlcy5jb20vc2l0ZXMvZ3JlYXRzcGVjdWxhdGlvbnMvMjAyMi8wMi8yNC9oZXJlcy13aHktM20tc3RvY2staXMtYS1iZXR0ZXItcGljay1vdmVyLXRoaXMtaW5kdXN0cmlhbC1jb21wYW55L9IBf2h0dHBzOi8vd3d3LmZvcmJlcy5jb20vc2l0ZXMvZ3JlYXRzcGVjdWxhdGlvbnMvMjAyMi8wMi8yNC9oZXJlcy13aHktM20tc3RvY2staXMtYS1iZXR0ZXItcGljay1vdmVyLXRoaXMtaW5kdXN0cmlhbC1jb21wYW55L2FtcC8?oc=5&hl=en-US&gl=US&ceid=US:en\n"
     ]
    },
    {
     "name": "stdout",
     "output_type": "stream",
     "text": [
      "-- <newspaper.article.Article object at 0x0000022FEA29BD60>\n",
      "-- None\n",
      "-- <newspaper.article.Article object at 0x0000022FEA2F2920>\n",
      "-- <newspaper.article.Article object at 0x0000022FEA29BD60>\n",
      "-- <newspaper.article.Article object at 0x0000022FE914E170>\n",
      "-- <newspaper.article.Article object at 0x0000022FEA50BAF0>\n"
     ]
    },
    {
     "name": "stderr",
     "output_type": "stream",
     "text": [
      "11/15/2023 12:19:06 AM - Article `download()` failed with 403 Client Error: Forbidden for url: https://www.pnas.org/doi/full/10.1073/pnas.2105691119 on URL https://news.google.com/rss/articles/CBMiNWh0dHBzOi8vd3d3LnBuYXMub3JnL2RvaS9mdWxsLzEwLjEwNzMvcG5hcy4yMTA1NjkxMTE50gEA?oc=5&hl=en-US&gl=US&ceid=US:en\n"
     ]
    },
    {
     "name": "stdout",
     "output_type": "stream",
     "text": [
      "-- None\n"
     ]
    },
    {
     "name": "stderr",
     "output_type": "stream",
     "text": [
      "11/15/2023 12:19:06 AM - Article `download()` failed with 403 Client Error: Forbidden for url: https://www.science.org/doi/10.1126/sciadv.abd8056 on URL https://news.google.com/rss/articles/CBMiMmh0dHBzOi8vd3d3LnNjaWVuY2Uub3JnL2RvaS8xMC4xMTI2L3NjaWFkdi5hYmQ4MDU20gEA?oc=5&hl=en-US&gl=US&ceid=US:en\n"
     ]
    },
    {
     "name": "stdout",
     "output_type": "stream",
     "text": [
      "-- None\n",
      "-- <newspaper.article.Article object at 0x0000022FEA2DF3D0>\n",
      "-- <newspaper.article.Article object at 0x0000022FEA2F3FD0>\n",
      "-- <newspaper.article.Article object at 0x0000022FE91F33D0>\n",
      "-- <newspaper.article.Article object at 0x0000022FEA2A0BE0>\n",
      "-- <newspaper.article.Article object at 0x0000022FE91F33D0>\n",
      "-- <newspaper.article.Article object at 0x0000022FEA29A7A0>\n",
      "-- <newspaper.article.Article object at 0x0000022FEA2F3F70>\n",
      "-- <newspaper.article.Article object at 0x0000022FEA2F6EC0>\n",
      "-- <newspaper.article.Article object at 0x0000022FEA29BCD0>\n",
      "-- <newspaper.article.Article object at 0x0000022FEA358970>\n",
      "-- <newspaper.article.Article object at 0x0000022FEA2F6E60>\n",
      "-- <newspaper.article.Article object at 0x0000022FEA2F7370>\n",
      "-- <newspaper.article.Article object at 0x0000022FEA29BCD0>\n",
      "-- <newspaper.article.Article object at 0x0000022FE91F3640>\n",
      "-- <newspaper.article.Article object at 0x0000022FEA29BCD0>\n",
      "-- <newspaper.article.Article object at 0x0000022FEA2A3070>\n",
      "-- <newspaper.article.Article object at 0x0000022FEA2F3F70>\n",
      "-- <newspaper.article.Article object at 0x0000022FEA2DE6B0>\n"
     ]
    },
    {
     "name": "stderr",
     "output_type": "stream",
     "text": [
      "11/15/2023 12:21:03 AM - Article `download()` failed with 403 Client Error: Forbidden for url: https://www.360dx.com/business-news/bio-rad-laboratories-closes-12b-senior-notes-offering on URL https://news.google.com/rss/articles/CBMiWWh0dHBzOi8vd3d3LjM2MGR4LmNvbS9idXNpbmVzcy1uZXdzL2Jpby1yYWQtbGFib3JhdG9yaWVzLWNsb3Nlcy0xMmItc2VuaW9yLW5vdGVzLW9mZmVyaW5n0gEA?oc=5&hl=en-US&gl=US&ceid=US:en\n"
     ]
    },
    {
     "name": "stdout",
     "output_type": "stream",
     "text": [
      "-- None\n"
     ]
    },
    {
     "name": "stderr",
     "output_type": "stream",
     "text": [
      "11/15/2023 12:21:05 AM - Article `download()` failed with 403 Client Error: Forbidden for url: https://www.360dx.com/cancer/lucid-diagnostics-acquires-laboratory-assets-researchdx-62m on URL https://news.google.com/rss/articles/CBMiWGh0dHBzOi8vd3d3LjM2MGR4LmNvbS9jYW5jZXIvbHVjaWQtZGlhZ25vc3RpY3MtYWNxdWlyZXMtbGFib3JhdG9yeS1hc3NldHMtcmVzZWFyY2hkeC02Mm3SAQA?oc=5&hl=en-US&gl=US&ceid=US:en\n"
     ]
    },
    {
     "name": "stdout",
     "output_type": "stream",
     "text": [
      "-- <newspaper.article.Article object at 0x0000022FEA2F3F70>\n",
      "-- None\n",
      "-- <newspaper.article.Article object at 0x0000022FEA29B2E0>\n",
      "-- <newspaper.article.Article object at 0x0000022FEA358970>\n",
      "-- <newspaper.article.Article object at 0x0000022FEA2F2920>\n",
      "-- <newspaper.article.Article object at 0x0000022FEA2F2BF0>\n",
      "-- <newspaper.article.Article object at 0x0000022FEA2DFD00>\n",
      "-- <newspaper.article.Article object at 0x0000022FEA2F3F70>\n",
      "-- <newspaper.article.Article object at 0x0000022FEA29BCD0>\n",
      "-- <newspaper.article.Article object at 0x0000022FEA358970>\n",
      "-- <newspaper.article.Article object at 0x0000022FEA2DEFB0>\n",
      "-- <newspaper.article.Article object at 0x0000022FEA29BCD0>\n",
      "-- <newspaper.article.Article object at 0x0000022FE91F3640>\n",
      "-- <newspaper.article.Article object at 0x0000022FE91AFBB0>\n",
      "-- <newspaper.article.Article object at 0x0000022FEA2A2FE0>\n",
      "-- <newspaper.article.Article object at 0x0000022FEA2DEFB0>\n",
      "-- <newspaper.article.Article object at 0x0000022FEA2A3D90>\n",
      "-- <newspaper.article.Article object at 0x0000022FEA2DFCA0>\n",
      "-- <newspaper.article.Article object at 0x0000022FE91F3E20>\n",
      "-- <newspaper.article.Article object at 0x0000022FEA35B010>\n",
      "-- <newspaper.article.Article object at 0x0000022FEA2F6EC0>\n",
      "-- <newspaper.article.Article object at 0x0000022FEA358970>\n",
      "-- <newspaper.article.Article object at 0x0000022FEA2A3D90>\n",
      "-- <newspaper.article.Article object at 0x0000022FEA2A2FE0>\n"
     ]
    },
    {
     "name": "stderr",
     "output_type": "stream",
     "text": [
      "11/15/2023 12:22:43 AM - Article `download()` failed with 403 Client Error: Forbidden for url: https://www.360dx.com/covid-19/benefits-widespread-rapid-antigen-testing-unclear-uk-winds-down-covid-19-testing-program on URL https://news.google.com/rss/articles/CBMid2h0dHBzOi8vd3d3LjM2MGR4LmNvbS9jb3ZpZC0xOS9iZW5lZml0cy13aWRlc3ByZWFkLXJhcGlkLWFudGlnZW4tdGVzdGluZy11bmNsZWFyLXVrLXdpbmRzLWRvd24tY292aWQtMTktdGVzdGluZy1wcm9ncmFt0gEA?oc=5&hl=en-US&gl=US&ceid=US:en\n"
     ]
    },
    {
     "name": "stdout",
     "output_type": "stream",
     "text": [
      "-- None\n",
      "-- <newspaper.article.Article object at 0x0000022FEA358970>\n",
      "-- <newspaper.article.Article object at 0x0000022FEA2A0BE0>\n",
      "-- <newspaper.article.Article object at 0x0000022FEA50A7D0>\n",
      "-- <newspaper.article.Article object at 0x0000022FEA508580>\n",
      "-- <newspaper.article.Article object at 0x0000022FE91AFBB0>\n"
     ]
    },
    {
     "name": "stderr",
     "output_type": "stream",
     "text": [
      "11/15/2023 12:23:12 AM - Article `download()` failed with 403 Client Error: Forbidden for url: https://www.360dx.com/business-news/brief-week-quest-diagnostics-labcorp-perkinelmer-quantumdx-immunovia-more on URL https://news.google.com/rss/articles/CBMibWh0dHBzOi8vd3d3LjM2MGR4LmNvbS9idXNpbmVzcy1uZXdzL2JyaWVmLXdlZWstcXVlc3QtZGlhZ25vc3RpY3MtbGFiY29ycC1wZXJraW5lbG1lci1xdWFudHVtZHgtaW1tdW5vdmlhLW1vcmXSAQA?oc=5&hl=en-US&gl=US&ceid=US:en\n"
     ]
    },
    {
     "name": "stdout",
     "output_type": "stream",
     "text": [
      "-- <newspaper.article.Article object at 0x0000022FE91F39D0>\n",
      "-- None\n",
      "-- <newspaper.article.Article object at 0x0000022FEA358970>\n",
      "-- <newspaper.article.Article object at 0x0000022FE91AFBB0>\n",
      "-- <newspaper.article.Article object at 0x0000022FE91F3610>\n",
      "-- <newspaper.article.Article object at 0x0000022FEA2DEFB0>\n",
      "-- <newspaper.article.Article object at 0x0000022FEA2DF3D0>\n",
      "-- <newspaper.article.Article object at 0x0000022FE8D461D0>\n",
      "-- <newspaper.article.Article object at 0x0000022FEA2DD4E0>\n",
      "-- <newspaper.article.Article object at 0x0000022FEA2F3F70>\n",
      "-- <newspaper.article.Article object at 0x0000022FE91F23B0>\n",
      "-- <newspaper.article.Article object at 0x0000022FEA2DD4E0>\n",
      "-- <newspaper.article.Article object at 0x0000022FEA2A3C70>\n",
      "-- <newspaper.article.Article object at 0x0000022FEA2DF910>\n",
      "-- <newspaper.article.Article object at 0x0000022FEA50A500>\n",
      "-- <newspaper.article.Article object at 0x0000022FEA2F78E0>\n",
      "-- <newspaper.article.Article object at 0x0000022FEA2F7520>\n",
      "-- <newspaper.article.Article object at 0x0000022FEA2F7AF0>\n",
      "-- <newspaper.article.Article object at 0x0000022FEA35B010>\n",
      "-- <newspaper.article.Article object at 0x0000022FE91F3610>\n",
      "-- <newspaper.article.Article object at 0x0000022FEA2F7670>\n",
      "-- <newspaper.article.Article object at 0x0000022FEA2DFCA0>\n",
      "-- <newspaper.article.Article object at 0x0000022FE91F23B0>\n",
      "-- <newspaper.article.Article object at 0x0000022FEA299C00>\n",
      "-- <newspaper.article.Article object at 0x0000022FE91F3D60>\n",
      "-- <newspaper.article.Article object at 0x0000022FEA29A7A0>\n",
      "-- <newspaper.article.Article object at 0x0000022FEA2DEFB0>\n"
     ]
    },
    {
     "name": "stderr",
     "output_type": "stream",
     "text": [
      "11/15/2023 12:25:11 AM - Article `download()` failed with 403 Client Error: Forbidden for url: https://www.mariettatimes.com/obituaries/2022/03/larry-d-zwick/ on URL https://news.google.com/rss/articles/CBMiP2h0dHBzOi8vd3d3Lm1hcmlldHRhdGltZXMuY29tL29iaXR1YXJpZXMvMjAyMi8wMy9sYXJyeS1kLXp3aWNrL9IBAA?oc=5&hl=en-US&gl=US&ceid=US:en\n"
     ]
    },
    {
     "name": "stdout",
     "output_type": "stream",
     "text": [
      "-- None\n",
      "-- <newspaper.article.Article object at 0x0000022FEA2F3F70>\n",
      "-- <newspaper.article.Article object at 0x0000022FEA2F2920>\n",
      "-- <newspaper.article.Article object at 0x0000022FEA29A7A0>\n",
      "-- <newspaper.article.Article object at 0x0000022FEA2F2BF0>\n",
      "-- <newspaper.article.Article object at 0x0000022FEA2A3070>\n",
      "-- <newspaper.article.Article object at 0x0000022FEA29A7A0>\n"
     ]
    },
    {
     "name": "stderr",
     "output_type": "stream",
     "text": [
      "11/15/2023 12:25:27 AM - Article `download()` failed with 403 Client Error: Forbidden for url: https://www.science.org/doi/10.1126/sciadv.abk1538 on URL https://news.google.com/rss/articles/CBMiMmh0dHBzOi8vd3d3LnNjaWVuY2Uub3JnL2RvaS8xMC4xMTI2L3NjaWFkdi5hYmsxNTM40gEA?oc=5&hl=en-US&gl=US&ceid=US:en\n"
     ]
    },
    {
     "name": "stdout",
     "output_type": "stream",
     "text": [
      "-- None\n",
      "-- <newspaper.article.Article object at 0x0000022FEA29AE30>\n",
      "-- <newspaper.article.Article object at 0x0000022FE91F3640>\n",
      "-- <newspaper.article.Article object at 0x0000022FEA2A3010>\n",
      "-- <newspaper.article.Article object at 0x0000022FEA29AE30>\n",
      "-- <newspaper.article.Article object at 0x0000022FEA358970>\n",
      "-- <newspaper.article.Article object at 0x0000022FE91F23B0>\n",
      "-- <newspaper.article.Article object at 0x0000022FE8D461D0>\n",
      "-- <newspaper.article.Article object at 0x0000022FEA29AE30>\n",
      "-- <newspaper.article.Article object at 0x0000022FEA2F3F40>\n",
      "-- <newspaper.article.Article object at 0x0000022FEA2F2BF0>\n",
      "-- <newspaper.article.Article object at 0x0000022FEA2DF910>\n",
      "-- <newspaper.article.Article object at 0x0000022FE91F3D60>\n",
      "-- <newspaper.article.Article object at 0x0000022FE91F3640>\n",
      "-- <newspaper.article.Article object at 0x0000022FEA3BA860>\n",
      "-- <newspaper.article.Article object at 0x0000022FBEF11B70>\n",
      "-- <newspaper.article.Article object at 0x0000022FEA299C00>\n",
      "-- <newspaper.article.Article object at 0x0000022FEA358970>\n",
      "-- <newspaper.article.Article object at 0x0000022FEA2DD210>\n",
      "-- <newspaper.article.Article object at 0x0000022FEA2F30A0>\n",
      "-- <newspaper.article.Article object at 0x0000022FE91F3610>\n",
      "-- <newspaper.article.Article object at 0x0000022FEA2A0BE0>\n",
      "-- <newspaper.article.Article object at 0x0000022FEA2A2FE0>\n"
     ]
    },
    {
     "name": "stderr",
     "output_type": "stream",
     "text": [
      "11/15/2023 12:27:06 AM - Article `download()` failed with 403 Client Error: Forbidden for url: https://www.science.org/doi/10.1126/sciadv.abh4050 on URL https://news.google.com/rss/articles/CBMiMmh0dHBzOi8vd3d3LnNjaWVuY2Uub3JnL2RvaS8xMC4xMTI2L3NjaWFkdi5hYmg0MDUw0gEA?oc=5&hl=en-US&gl=US&ceid=US:en\n"
     ]
    },
    {
     "name": "stdout",
     "output_type": "stream",
     "text": [
      "-- None\n",
      "-- <newspaper.article.Article object at 0x0000022FEA2F3F70>\n",
      "-- <newspaper.article.Article object at 0x0000022FEA2A2FE0>\n",
      "-- <newspaper.article.Article object at 0x0000022FE91F3640>\n",
      "-- <newspaper.article.Article object at 0x0000022FEA2F7100>\n"
     ]
    },
    {
     "name": "stderr",
     "output_type": "stream",
     "text": [
      "11/15/2023 12:27:24 AM - Article `download()` failed with 403 Client Error: Forbidden for url: https://www.pharmalogisticsiq.com/supply-chain-security/news/this-weeks-big-story-new-animated-map-reveals-potential-drug-shortages on URL https://news.google.com/rss/articles/CBMigwFodHRwczovL3d3dy5waGFybWFsb2dpc3RpY3NpcS5jb20vc3VwcGx5LWNoYWluLXNlY3VyaXR5L25ld3MvdGhpcy13ZWVrcy1iaWctc3RvcnktbmV3LWFuaW1hdGVkLW1hcC1yZXZlYWxzLXBvdGVudGlhbC1kcnVnLXNob3J0YWdlc9IBhwFodHRwczovL3d3dy5waGFybWFsb2dpc3RpY3NpcS5jb20vc3VwcGx5LWNoYWluLXNlY3VyaXR5L25ld3MvdGhpcy13ZWVrcy1iaWctc3RvcnktbmV3LWFuaW1hdGVkLW1hcC1yZXZlYWxzLXBvdGVudGlhbC1kcnVnLXNob3J0YWdlcy9hbXA?oc=5&hl=en-US&gl=US&ceid=US:en\n"
     ]
    },
    {
     "name": "stdout",
     "output_type": "stream",
     "text": [
      "-- None\n",
      "-- <newspaper.article.Article object at 0x0000022FEA2A2FE0>\n",
      "-- <newspaper.article.Article object at 0x0000022FEA2F7A00>\n",
      "-- <newspaper.article.Article object at 0x0000022FEA2A3C70>\n",
      "-- <newspaper.article.Article object at 0x0000022FE91F3610>\n",
      "-- <newspaper.article.Article object at 0x0000022FE91F2FE0>\n",
      "-- <newspaper.article.Article object at 0x0000022FEA50BF10>\n",
      "-- <newspaper.article.Article object at 0x0000022FEA2A2EC0>\n",
      "-- <newspaper.article.Article object at 0x0000022FEA2F7760>\n",
      "-- <newspaper.article.Article object at 0x0000022FEA2F3FD0>\n",
      "-- <newspaper.article.Article object at 0x0000022FEA2F3F70>\n",
      "-- <newspaper.article.Article object at 0x0000022FBEF11B70>\n",
      "-- <newspaper.article.Article object at 0x0000022FEA508880>\n",
      "-- <newspaper.article.Article object at 0x0000022FE91F3E20>\n",
      "-- <newspaper.article.Article object at 0x0000022FEA2F7F70>\n",
      "-- <newspaper.article.Article object at 0x0000022FEA29AE30>\n",
      "-- <newspaper.article.Article object at 0x0000022FEA29BD60>\n",
      "-- <newspaper.article.Article object at 0x0000022FE8D461D0>\n",
      "-- <newspaper.article.Article object at 0x0000022FEA29BD60>\n",
      "-- <newspaper.article.Article object at 0x0000022FEA2DEFB0>\n",
      "-- <newspaper.article.Article object at 0x0000022FEA2DEE30>\n"
     ]
    },
    {
     "name": "stderr",
     "output_type": "stream",
     "text": [
      "11/15/2023 12:28:55 AM - Article `download()` failed with 403 Client Error: Forbidden for url: https://www.science.org/doi/10.1126/sciadv.abj8360 on URL https://news.google.com/rss/articles/CBMiMmh0dHBzOi8vd3d3LnNjaWVuY2Uub3JnL2RvaS8xMC4xMTI2L3NjaWFkdi5hYmo4MzYw0gEA?oc=5&hl=en-US&gl=US&ceid=US:en\n"
     ]
    },
    {
     "name": "stdout",
     "output_type": "stream",
     "text": [
      "-- <newspaper.article.Article object at 0x0000022FEA2F30A0>\n",
      "-- None\n",
      "-- <newspaper.article.Article object at 0x0000022FEA2DFD00>\n",
      "-- <newspaper.article.Article object at 0x0000022FEA2F30A0>\n",
      "-- <newspaper.article.Article object at 0x0000022FEA2A3070>\n",
      "-- <newspaper.article.Article object at 0x0000022FEA29BCD0>\n",
      "-- <newspaper.article.Article object at 0x0000022FEA2DE170>\n",
      "-- <newspaper.article.Article object at 0x0000022FEA358970>\n",
      "-- <newspaper.article.Article object at 0x0000022FEA2A3D90>\n",
      "-- <newspaper.article.Article object at 0x0000022FEA2A3070>\n",
      "-- <newspaper.article.Article object at 0x0000022FE91AFBB0>\n",
      "-- <newspaper.article.Article object at 0x0000022FEA2F30A0>\n",
      "-- <newspaper.article.Article object at 0x0000022FE914E170>\n",
      "-- <newspaper.article.Article object at 0x0000022FEA29BCD0>\n",
      "-- <newspaper.article.Article object at 0x0000022FEA2A3010>\n",
      "-- <newspaper.article.Article object at 0x0000022FEA2DE6B0>\n"
     ]
    },
    {
     "name": "stderr",
     "output_type": "stream",
     "text": [
      "11/15/2023 12:30:04 AM - Article `download()` failed with HTTPSConnectionPool(host='www.vz.lt', port=443): Read timed out. (read timeout=7) on URL https://news.google.com/rss/articles/CBMifmh0dHBzOi8vd3d3LnZ6Lmx0L3ZlcnNsby12YWxkeW1hcy9pcy10YXJueWJvcy1pLzIwMjIvMDQvMDQvYXBsaW5rb3MtdmljZW1pbmlzdHJhLWQta3ZlZGFyYXZpY2l1LXBha2Vpcy1kLXZlbGlja2FpdGUtbWF0dXNldmljZdIBAA?oc=5&hl=en-US&gl=US&ceid=US:en\n"
     ]
    },
    {
     "name": "stdout",
     "output_type": "stream",
     "text": [
      "-- None\n",
      "-- <newspaper.article.Article object at 0x0000022FEA2A2EC0>\n",
      "-- <newspaper.article.Article object at 0x0000022FE91F23B0>\n",
      "-- <newspaper.article.Article object at 0x0000022FEA2A0BE0>\n",
      "-- <newspaper.article.Article object at 0x0000022FEA2A2EC0>\n"
     ]
    },
    {
     "name": "stderr",
     "output_type": "stream",
     "text": [
      "11/15/2023 12:30:31 AM - Article `download()` failed with 403 Client Error: Forbidden for url: https://www.pnas.org/doi/10.1073/pnas.2122512119 on URL https://news.google.com/rss/articles/CBMiMGh0dHBzOi8vd3d3LnBuYXMub3JnL2RvaS8xMC4xMDczL3BuYXMuMjEyMjUxMjExOdIBAA?oc=5&hl=en-US&gl=US&ceid=US:en\n"
     ]
    },
    {
     "name": "stdout",
     "output_type": "stream",
     "text": [
      "-- None\n",
      "-- <newspaper.article.Article object at 0x0000022FE91F23B0>\n",
      "-- <newspaper.article.Article object at 0x0000022FEA5083D0>\n",
      "-- <newspaper.article.Article object at 0x0000022FEA2F3F70>\n",
      "-- <newspaper.article.Article object at 0x0000022FEA2A0BE0>\n"
     ]
    },
    {
     "name": "stderr",
     "output_type": "stream",
     "text": [
      "11/15/2023 12:30:46 AM - Article `download()` failed with 403 Client Error: Forbidden for url: https://www.science.org/doi/10.1126/sciadv.abj4928 on URL https://news.google.com/rss/articles/CBMiMmh0dHBzOi8vd3d3LnNjaWVuY2Uub3JnL2RvaS8xMC4xMTI2L3NjaWFkdi5hYmo0OTI40gEA?oc=5&hl=en-US&gl=US&ceid=US:en\n"
     ]
    },
    {
     "name": "stdout",
     "output_type": "stream",
     "text": [
      "-- None\n",
      "-- <newspaper.article.Article object at 0x0000022FEA2A2FE0>\n",
      "-- <newspaper.article.Article object at 0x0000022FEA2F3F70>\n",
      "-- <newspaper.article.Article object at 0x0000022FEA2F7550>\n",
      "-- <newspaper.article.Article object at 0x0000022FEA508F10>\n",
      "-- <newspaper.article.Article object at 0x0000022FE91AFBB0>\n",
      "-- <newspaper.article.Article object at 0x0000022FEA2F7550>\n",
      "-- <newspaper.article.Article object at 0x0000022FEA2F6FE0>\n",
      "-- <newspaper.article.Article object at 0x0000022FEA2DEFB0>\n",
      "-- <newspaper.article.Article object at 0x0000022FEA2F7550>\n",
      "-- <newspaper.article.Article object at 0x0000022FE91F3E20>\n",
      "-- <newspaper.article.Article object at 0x0000022FEA2A3D90>\n",
      "-- <newspaper.article.Article object at 0x0000022FEA29BD60>\n",
      "-- <newspaper.article.Article object at 0x0000022FEA29A7A0>\n",
      "-- <newspaper.article.Article object at 0x0000022FEA2DF910>\n",
      "-- <newspaper.article.Article object at 0x0000022FBEF11B70>\n",
      "-- <newspaper.article.Article object at 0x0000022FEA2DD210>\n",
      "-- <newspaper.article.Article object at 0x0000022FE91F3D60>\n",
      "-- <newspaper.article.Article object at 0x0000022FEA358970>\n",
      "-- <newspaper.article.Article object at 0x0000022FEA35B010>\n",
      "-- <newspaper.article.Article object at 0x0000022FEA358970>\n",
      "-- <newspaper.article.Article object at 0x0000022FEA29AE30>\n",
      "-- <newspaper.article.Article object at 0x0000022FEA2DD210>\n",
      "-- <newspaper.article.Article object at 0x0000022FEA2DFD00>\n",
      "-- <newspaper.article.Article object at 0x0000022FEA299C00>\n",
      "-- <newspaper.article.Article object at 0x0000022FEA2F3F70>\n",
      "-- <newspaper.article.Article object at 0x0000022FEA35B010>\n",
      "-- <newspaper.article.Article object at 0x0000022FEA299C00>\n",
      "-- <newspaper.article.Article object at 0x0000022FEA2F7700>\n",
      "-- <newspaper.article.Article object at 0x0000022FEA2A0BE0>\n",
      "-- <newspaper.article.Article object at 0x0000022FEA2F2BF0>\n",
      "-- <newspaper.article.Article object at 0x0000022FEA299C00>\n",
      "-- <newspaper.article.Article object at 0x0000022FEA29AE30>\n",
      "-- <newspaper.article.Article object at 0x0000022FEA2DFCA0>\n",
      "-- <newspaper.article.Article object at 0x0000022FBEF11B70>\n",
      "-- <newspaper.article.Article object at 0x0000022FEA2DEFB0>\n",
      "-- <newspaper.article.Article object at 0x0000022FEA2DD210>\n",
      "-- <newspaper.article.Article object at 0x0000022FEA2F2C20>\n",
      "-- <newspaper.article.Article object at 0x0000022FEA29BD60>\n",
      "-- <newspaper.article.Article object at 0x0000022FEA2DEFB0>\n",
      "-- <newspaper.article.Article object at 0x0000022FEA2F7EE0>\n"
     ]
    },
    {
     "name": "stderr",
     "output_type": "stream",
     "text": [
      "11/15/2023 12:33:13 AM - Article `download()` failed with 403 Client Error: Max restarts limit reached for url: https://www.forbes.com/sites/michaelfoster/2022/04/15/4-of-the-best-monthly-dividend-funds-available-now/ on URL https://news.google.com/rss/articles/CBMiaWh0dHBzOi8vd3d3LmZvcmJlcy5jb20vc2l0ZXMvbWljaGFlbGZvc3Rlci8yMDIyLzA0LzE1LzQtb2YtdGhlLWJlc3QtbW9udGhseS1kaXZpZGVuZC1mdW5kcy1hdmFpbGFibGUtbm93L9IBbWh0dHBzOi8vd3d3LmZvcmJlcy5jb20vc2l0ZXMvbWljaGFlbGZvc3Rlci8yMDIyLzA0LzE1LzQtb2YtdGhlLWJlc3QtbW9udGhseS1kaXZpZGVuZC1mdW5kcy1hdmFpbGFibGUtbm93L2FtcC8?oc=5&hl=en-US&gl=US&ceid=US:en\n"
     ]
    },
    {
     "name": "stdout",
     "output_type": "stream",
     "text": [
      "-- <newspaper.article.Article object at 0x0000022FEA35B010>\n",
      "-- None\n",
      "-- <newspaper.article.Article object at 0x0000022FBEF11B70>\n",
      "-- <newspaper.article.Article object at 0x0000022FEA35B010>\n",
      "-- <newspaper.article.Article object at 0x0000022FEA3B81C0>\n",
      "-- <newspaper.article.Article object at 0x0000022FEA2DEE30>\n",
      "-- <newspaper.article.Article object at 0x0000022FEA2F3FD0>\n",
      "-- <newspaper.article.Article object at 0x0000022FEA2F7760>\n",
      "-- <newspaper.article.Article object at 0x0000022FEA2A0BE0>\n",
      "-- <newspaper.article.Article object at 0x0000022FEA2DE6B0>\n",
      "-- <newspaper.article.Article object at 0x0000022FE914E170>\n",
      "-- <newspaper.article.Article object at 0x0000022FE91F23B0>\n",
      "-- <newspaper.article.Article object at 0x0000022FEA2F2BF0>\n",
      "-- <newspaper.article.Article object at 0x0000022FEA2F7910>\n",
      "-- <newspaper.article.Article object at 0x0000022FEA508E80>\n"
     ]
    },
    {
     "name": "stderr",
     "output_type": "stream",
     "text": [
      "11/15/2023 12:34:14 AM - Article `download()` failed with 403 Client Error: Forbidden for url: https://www.360dx.com/reimbursement-news/four-years-foundational-lcds-broader-reimbursement-coverage-mixed-bag on URL https://news.google.com/rss/articles/CBMibmh0dHBzOi8vd3d3LjM2MGR4LmNvbS9yZWltYnVyc2VtZW50LW5ld3MvZm91ci15ZWFycy1mb3VuZGF0aW9uYWwtbGNkcy1icm9hZGVyLXJlaW1idXJzZW1lbnQtY292ZXJhZ2UtbWl4ZWQtYmFn0gEA?oc=5&hl=en-US&gl=US&ceid=US:en\n"
     ]
    },
    {
     "name": "stdout",
     "output_type": "stream",
     "text": [
      "-- None\n",
      "-- <newspaper.article.Article object at 0x0000022FEA5099F0>\n",
      "-- <newspaper.article.Article object at 0x0000022FEA2A0BE0>\n"
     ]
    },
    {
     "name": "stderr",
     "output_type": "stream",
     "text": [
      "11/15/2023 12:34:17 AM - Article `download()` failed with 403 Client Error: Forbidden for url: https://www.pnas.org/doi/10.1073/pnas.2106902119 on URL https://news.google.com/rss/articles/CBMiMGh0dHBzOi8vd3d3LnBuYXMub3JnL2RvaS8xMC4xMDczL3BuYXMuMjEwNjkwMjExOdIBAA?oc=5&hl=en-US&gl=US&ceid=US:en\n"
     ]
    },
    {
     "name": "stdout",
     "output_type": "stream",
     "text": [
      "-- None\n",
      "-- <newspaper.article.Article object at 0x0000022FE91F23B0>\n",
      "-- <newspaper.article.Article object at 0x0000022FE91AFBB0>\n",
      "-- <newspaper.article.Article object at 0x0000022FEA2F2C20>\n",
      "-- <newspaper.article.Article object at 0x0000022FE914E170>\n",
      "-- <newspaper.article.Article object at 0x0000022FEA29B2E0>\n",
      "-- <newspaper.article.Article object at 0x0000022FE91F23B0>\n",
      "-- <newspaper.article.Article object at 0x0000022FE91F39D0>\n",
      "-- <newspaper.article.Article object at 0x0000022FEA2F3F40>\n",
      "-- <newspaper.article.Article object at 0x0000022FEA29B2E0>\n",
      "-- <newspaper.article.Article object at 0x0000022FE91F23B0>\n",
      "-- <newspaper.article.Article object at 0x0000022FE91AFBB0>\n",
      "-- <newspaper.article.Article object at 0x0000022FEA2F3F40>\n",
      "-- <newspaper.article.Article object at 0x0000022FEA508130>\n",
      "-- <newspaper.article.Article object at 0x0000022FE91AFBB0>\n",
      "-- <newspaper.article.Article object at 0x0000022FEA50B5B0>\n",
      "-- <newspaper.article.Article object at 0x0000022FEA2DF3D0>\n",
      "-- <newspaper.article.Article object at 0x0000022FEA2DF910>\n",
      "-- <newspaper.article.Article object at 0x0000022FE91F3D60>\n",
      "-- <newspaper.article.Article object at 0x0000022FEA35B010>\n",
      "-- <newspaper.article.Article object at 0x0000022FEA29B2E0>\n",
      "-- <newspaper.article.Article object at 0x0000022FEA2F3F70>\n",
      "-- <newspaper.article.Article object at 0x0000022FE91AFBB0>\n",
      "-- <newspaper.article.Article object at 0x0000022FEA2DF910>\n",
      "-- <newspaper.article.Article object at 0x0000022FEA2DF3D0>\n",
      "-- <newspaper.article.Article object at 0x0000022FE91F23B0>\n",
      "-- <newspaper.article.Article object at 0x0000022FEA3FC6D0>\n",
      "-- <newspaper.article.Article object at 0x0000022FEA3FE050>\n",
      "-- <newspaper.article.Article object at 0x0000022FEA3FC040>\n",
      "-- <newspaper.article.Article object at 0x0000022FEA35B010>\n",
      "-- <newspaper.article.Article object at 0x0000022FEA2F2920>\n",
      "-- <newspaper.article.Article object at 0x0000022FEA3FE110>\n",
      "-- <newspaper.article.Article object at 0x0000022FEA2DFD00>\n",
      "-- <newspaper.article.Article object at 0x0000022FEA2F2BF0>\n",
      "-- <newspaper.article.Article object at 0x0000022FEA2DD4E0>\n",
      "-- <newspaper.article.Article object at 0x0000022FEA2F6F50>\n",
      "-- <newspaper.article.Article object at 0x0000022FEA2DD4E0>\n",
      "-- <newspaper.article.Article object at 0x0000022FE91AFBB0>\n",
      "-- <newspaper.article.Article object at 0x0000022FE91F3D60>\n",
      "-- <newspaper.article.Article object at 0x0000022FEA29B2E0>\n",
      "-- <newspaper.article.Article object at 0x0000022FEA2A0BE0>\n",
      "-- <newspaper.article.Article object at 0x0000022FE91F23B0>\n",
      "-- <newspaper.article.Article object at 0x0000022FE91F39D0>\n",
      "-- <newspaper.article.Article object at 0x0000022FE91F3D60>\n"
     ]
    },
    {
     "name": "stderr",
     "output_type": "stream",
     "text": [
      "11/15/2023 12:37:04 AM - Article `download()` failed with 403 Client Error: Forbidden for url: https://www.pnas.org/doi/10.1073/pnas.2117310119 on URL https://news.google.com/rss/articles/CBMiMGh0dHBzOi8vd3d3LnBuYXMub3JnL2RvaS8xMC4xMDczL3BuYXMuMjExNzMxMDExOdIBAA?oc=5&hl=en-US&gl=US&ceid=US:en\n"
     ]
    },
    {
     "name": "stdout",
     "output_type": "stream",
     "text": [
      "-- None\n",
      "-- <newspaper.article.Article object at 0x0000022FEA2F3F40>\n",
      "-- <newspaper.article.Article object at 0x0000022FEA2A0BE0>\n",
      "-- <newspaper.article.Article object at 0x0000022FEA29B2E0>\n",
      "-- <newspaper.article.Article object at 0x0000022FBEF11B70>\n",
      "-- <newspaper.article.Article object at 0x0000022FEA2DF910>\n",
      "-- <newspaper.article.Article object at 0x0000022FE91F3D60>\n",
      "-- <newspaper.article.Article object at 0x0000022FEA2F7130>\n",
      "-- <newspaper.article.Article object at 0x0000022FEA5096C0>\n",
      "-- <newspaper.article.Article object at 0x0000022FEA2A0BE0>\n",
      "-- <newspaper.article.Article object at 0x0000022FEA2F3FD0>\n",
      "-- <newspaper.article.Article object at 0x0000022FEA2DD4E0>\n",
      "-- <newspaper.article.Article object at 0x0000022FEA35B010>\n",
      "-- <newspaper.article.Article object at 0x0000022FEA5097B0>\n",
      "-- <newspaper.article.Article object at 0x0000022FEA2F3FD0>\n",
      "-- <newspaper.article.Article object at 0x0000022FEA509BD0>\n",
      "-- <newspaper.article.Article object at 0x0000022FEA35B010>\n"
     ]
    },
    {
     "name": "stderr",
     "output_type": "stream",
     "text": [
      "11/15/2023 12:38:13 AM - Article `download()` failed with HTTPSConnectionPool(host='rew-online.com', port=443): Max retries exceeded with url: /corenet-new-england-announce-2022-board-members/ (Caused by SSLError(SSLCertVerificationError(1, '[SSL: CERTIFICATE_VERIFY_FAILED] certificate verify failed: certificate has expired (_ssl.c:997)'))) on URL https://news.google.com/rss/articles/CBMiR2h0dHBzOi8vcmV3LW9ubGluZS5jb20vY29yZW5ldC1uZXctZW5nbGFuZC1hbm5vdW5jZS0yMDIyLWJvYXJkLW1lbWJlcnMv0gEA?oc=5&hl=en-US&gl=US&ceid=US:en\n"
     ]
    },
    {
     "name": "stdout",
     "output_type": "stream",
     "text": [
      "-- None\n",
      "-- <newspaper.article.Article object at 0x0000022FEA2F3F70>\n",
      "-- <newspaper.article.Article object at 0x0000022FEA2F2C20>\n",
      "-- <newspaper.article.Article object at 0x0000022FEA2F7760>\n",
      "-- <newspaper.article.Article object at 0x0000022FEA2F3FD0>\n",
      "-- <newspaper.article.Article object at 0x0000022FEA2F2BF0>\n",
      "-- <newspaper.article.Article object at 0x0000022FEA29B2E0>\n",
      "-- <newspaper.article.Article object at 0x0000022FE91AFBB0>\n",
      "-- <newspaper.article.Article object at 0x0000022FE91F23B0>\n",
      "-- <newspaper.article.Article object at 0x0000022FEA2F7760>\n",
      "-- <newspaper.article.Article object at 0x0000022FEA2F2BF0>\n",
      "-- <newspaper.article.Article object at 0x0000022FEA50B280>\n",
      "-- <newspaper.article.Article object at 0x0000022FEA2F2920>\n",
      "-- <newspaper.article.Article object at 0x0000022FEA2F3310>\n",
      "-- <newspaper.article.Article object at 0x0000022FEA2A0BE0>\n",
      "-- <newspaper.article.Article object at 0x0000022FEA2F3F40>\n",
      "-- <newspaper.article.Article object at 0x0000022FEA2F2920>\n",
      "-- <newspaper.article.Article object at 0x0000022FEA50BD30>\n"
     ]
    },
    {
     "name": "stderr",
     "output_type": "stream",
     "text": [
      "11/15/2023 12:40:08 AM - Article `download()` failed with 403 Client Error: Forbidden for url: https://www.barrons.com/articles/strong-dollar-stock-market-profits-51651873978 on URL https://news.google.com/rss/articles/CBMiT2h0dHBzOi8vd3d3LmJhcnJvbnMuY29tL2FydGljbGVzL3N0cm9uZy1kb2xsYXItc3RvY2stbWFya2V0LXByb2ZpdHMtNTE2NTE4NzM5NzjSAQA?oc=5&hl=en-US&gl=US&ceid=US:en\n"
     ]
    },
    {
     "name": "stdout",
     "output_type": "stream",
     "text": [
      "-- None\n",
      "-- <newspaper.article.Article object at 0x0000022FEA508D30>\n",
      "-- <newspaper.article.Article object at 0x0000022FEA2DEE30>\n",
      "-- <newspaper.article.Article object at 0x0000022FEA2DD4E0>\n",
      "-- <newspaper.article.Article object at 0x0000022FBEF11B70>\n",
      "-- <newspaper.article.Article object at 0x0000022FEA2A0BE0>\n",
      "-- <newspaper.article.Article object at 0x0000022FEA50B460>\n",
      "-- <newspaper.article.Article object at 0x0000022FE91F23B0>\n",
      "-- <newspaper.article.Article object at 0x0000022FEA2DE6B0>\n",
      "-- <newspaper.article.Article object at 0x0000022FEA2F2C20>\n",
      "-- <newspaper.article.Article object at 0x0000022FEA2F3F40>\n"
     ]
    },
    {
     "name": "stderr",
     "output_type": "stream",
     "text": [
      "11/15/2023 12:40:56 AM - Article `download()` failed with 403 Client Error: Max restarts limit reached for url: https://www.forbes.com/sites/forbesstaff/2022/05/12/forbes-global-2000-list-2022-the-top-200/ on URL https://news.google.com/rss/articles/CBMiXWh0dHBzOi8vd3d3LmZvcmJlcy5jb20vc2l0ZXMvZm9yYmVzc3RhZmYvMjAyMi8wNS8xMi9mb3JiZXMtZ2xvYmFsLTIwMDAtbGlzdC0yMDIyLXRoZS10b3AtMjAwL9IBAA?oc=5&hl=en-US&gl=US&ceid=US:en\n"
     ]
    },
    {
     "name": "stdout",
     "output_type": "stream",
     "text": [
      "-- <newspaper.article.Article object at 0x0000022FEA2DE6B0>\n",
      "-- None\n",
      "-- <newspaper.article.Article object at 0x0000022FEA2F3F40>\n",
      "-- <newspaper.article.Article object at 0x0000022FEA2F2BF0>\n",
      "-- <newspaper.article.Article object at 0x0000022FE91F39D0>\n",
      "-- <newspaper.article.Article object at 0x0000022FE8D461D0>\n",
      "-- <newspaper.article.Article object at 0x0000022FEA2A0BE0>\n",
      "-- <newspaper.article.Article object at 0x0000022FEA2F6F50>\n",
      "-- <newspaper.article.Article object at 0x0000022FE8D461D0>\n",
      "-- <newspaper.article.Article object at 0x0000022FEA2A0BE0>\n",
      "-- <newspaper.article.Article object at 0x0000022FEA2F3FD0>\n",
      "-- <newspaper.article.Article object at 0x0000022FEA2DEE30>\n",
      "-- <newspaper.article.Article object at 0x0000022FE91F3D60>\n",
      "-- <newspaper.article.Article object at 0x0000022FEA50BD30>\n",
      "-- <newspaper.article.Article object at 0x0000022FEA2DFD00>\n",
      "-- <newspaper.article.Article object at 0x0000022FEA2DE6B0>\n",
      "-- <newspaper.article.Article object at 0x0000022FEA2F7760>\n",
      "-- <newspaper.article.Article object at 0x0000022FEA2DEE30>\n"
     ]
    },
    {
     "name": "stderr",
     "output_type": "stream",
     "text": [
      "11/15/2023 12:41:59 AM - Article `download()` failed with 403 Client Error: Forbidden for url: https://www.fastcompany.com/90751685/fast-company-surveys-nearly-200-companies-about-abortion-access on URL https://news.google.com/rss/articles/CBMiZGh0dHBzOi8vd3d3LmZhc3Rjb21wYW55LmNvbS85MDc1MTY4NS9mYXN0LWNvbXBhbnktc3VydmV5cy1uZWFybHktMjAwLWNvbXBhbmllcy1hYm91dC1hYm9ydGlvbi1hY2Nlc3PSAQA?oc=5&hl=en-US&gl=US&ceid=US:en\n"
     ]
    },
    {
     "name": "stdout",
     "output_type": "stream",
     "text": [
      "-- None\n",
      "-- <newspaper.article.Article object at 0x0000022FEA2DE6B0>\n",
      "-- <newspaper.article.Article object at 0x0000022FE91F23B0>\n",
      "-- <newspaper.article.Article object at 0x0000022FEA2F3F70>\n",
      "-- <newspaper.article.Article object at 0x0000022FEA2F2920>\n",
      "-- <newspaper.article.Article object at 0x0000022FEA2F7760>\n",
      "-- <newspaper.article.Article object at 0x0000022FEA2F3310>\n",
      "-- <newspaper.article.Article object at 0x0000022FE91AFBB0>\n"
     ]
    },
    {
     "name": "stderr",
     "output_type": "stream",
     "text": [
      "11/15/2023 12:42:29 AM - Article `download()` failed with 403 Client Error: Forbidden for url: https://www.360dx.com/clinical-lab-management/new-home-phlebotomy-offerings-following-broader-economys-trend-toward on URL https://news.google.com/rss/articles/CBMic2h0dHBzOi8vd3d3LjM2MGR4LmNvbS9jbGluaWNhbC1sYWItbWFuYWdlbWVudC9uZXctaG9tZS1waGxlYm90b215LW9mZmVyaW5ncy1mb2xsb3dpbmctYnJvYWRlci1lY29ub215cy10cmVuZC10b3dhcmTSAQA?oc=5&hl=en-US&gl=US&ceid=US:en\n"
     ]
    },
    {
     "name": "stdout",
     "output_type": "stream",
     "text": [
      "-- None\n",
      "-- <newspaper.article.Article object at 0x0000022FEA2F2BF0>\n",
      "-- <newspaper.article.Article object at 0x0000022FBEF11B70>\n",
      "-- <newspaper.article.Article object at 0x0000022FE91AFBB0>\n",
      "-- <newspaper.article.Article object at 0x0000022FE8D461D0>\n",
      "-- <newspaper.article.Article object at 0x0000022FE914E170>\n",
      "-- <newspaper.article.Article object at 0x0000022FEA2F7910>\n",
      "-- <newspaper.article.Article object at 0x0000022FEA2F7760>\n",
      "-- <newspaper.article.Article object at 0x0000022FBEF11B70>\n",
      "-- <newspaper.article.Article object at 0x0000022FEA2F3FD0>\n",
      "-- <newspaper.article.Article object at 0x0000022FE914E170>\n",
      "-- <newspaper.article.Article object at 0x0000022FEA2DEE30>\n",
      "-- <newspaper.article.Article object at 0x0000022FE91F39D0>\n",
      "-- <newspaper.article.Article object at 0x0000022FEA29B2E0>\n",
      "-- <newspaper.article.Article object at 0x0000022FEA2F7130>\n",
      "-- <newspaper.article.Article object at 0x0000022FEA2F3310>\n",
      "-- <newspaper.article.Article object at 0x0000022FEA508880>\n",
      "-- <newspaper.article.Article object at 0x0000022FEA29B2E0>\n",
      "-- <newspaper.article.Article object at 0x0000022FEA2F3F40>\n",
      "-- <newspaper.article.Article object at 0x0000022FEA2DEE30>\n",
      "-- <newspaper.article.Article object at 0x0000022FEA2A0BE0>\n",
      "-- <newspaper.article.Article object at 0x0000022FEA2F3F40>\n",
      "-- <newspaper.article.Article object at 0x0000022FEA509B70>\n",
      "-- <newspaper.article.Article object at 0x0000022FE91F3D60>\n",
      "-- <newspaper.article.Article object at 0x0000022FE914E170>\n",
      "-- <newspaper.article.Article object at 0x0000022FE91F3D60>\n",
      "-- <newspaper.article.Article object at 0x0000022FEA2DF910>\n",
      "-- <newspaper.article.Article object at 0x0000022FEA29B2E0>\n",
      "-- <newspaper.article.Article object at 0x0000022FEA2DFCA0>\n",
      "-- <newspaper.article.Article object at 0x0000022FEA509600>\n",
      "-- <newspaper.article.Article object at 0x0000022FEA2DF910>\n",
      "-- <newspaper.article.Article object at 0x0000022FEA35B010>\n",
      "-- <newspaper.article.Article object at 0x0000022FEA2DFCA0>\n",
      "-- <newspaper.article.Article object at 0x0000022FE91F3D60>\n"
     ]
    },
    {
     "name": "stderr",
     "output_type": "stream",
     "text": [
      "11/15/2023 12:44:33 AM - Article `download()` failed with 403 Client Error: Forbidden for url: https://www.science.org/doi/10.1126/sciadv.abl5032 on URL https://news.google.com/rss/articles/CBMiMmh0dHBzOi8vd3d3LnNjaWVuY2Uub3JnL2RvaS8xMC4xMTI2L3NjaWFkdi5hYmw1MDMy0gEA?oc=5&hl=en-US&gl=US&ceid=US:en\n"
     ]
    },
    {
     "name": "stdout",
     "output_type": "stream",
     "text": [
      "-- None\n",
      "-- <newspaper.article.Article object at 0x0000022FEA29B2E0>\n",
      "-- <newspaper.article.Article object at 0x0000022FE91F3D60>\n",
      "-- <newspaper.article.Article object at 0x0000022FEA2F3F70>\n",
      "-- <newspaper.article.Article object at 0x0000022FEA35B010>\n",
      "-- <newspaper.article.Article object at 0x0000022FEA2F2920>\n",
      "-- <newspaper.article.Article object at 0x0000022FEA2DE6B0>\n",
      "-- <newspaper.article.Article object at 0x0000022FEA2F6F50>\n",
      "-- <newspaper.article.Article object at 0x0000022FBEF11B70>\n",
      "-- <newspaper.article.Article object at 0x0000022FEA2DF910>\n",
      "-- <newspaper.article.Article object at 0x0000022FEA2DF3D0>\n",
      "-- <newspaper.article.Article object at 0x0000022FEA2DFD00>\n",
      "-- <newspaper.article.Article object at 0x0000022FEA2F3F40>\n",
      "-- <newspaper.article.Article object at 0x0000022FE91F3D60>\n",
      "-- <newspaper.article.Article object at 0x0000022FEA2DE6B0>\n",
      "-- <newspaper.article.Article object at 0x0000022FE91F23B0>\n",
      "-- <newspaper.article.Article object at 0x0000022FEA29B2E0>\n",
      "-- <newspaper.article.Article object at 0x0000022FEA2A0BE0>\n",
      "-- <newspaper.article.Article object at 0x0000022FEA2DFCA0>\n",
      "-- <newspaper.article.Article object at 0x0000022FE91AFBB0>\n",
      "-- <newspaper.article.Article object at 0x0000022FEA2DEE30>\n",
      "-- <newspaper.article.Article object at 0x0000022FEA2DE6B0>\n",
      "-- <newspaper.article.Article object at 0x0000022FE91AFBB0>\n",
      "-- <newspaper.article.Article object at 0x0000022FEA2F3F70>\n",
      "-- <newspaper.article.Article object at 0x0000022FEA2DF910>\n"
     ]
    },
    {
     "name": "stderr",
     "output_type": "stream",
     "text": [
      "11/15/2023 12:46:23 AM - Article `download()` failed with 403 Client Error: Forbidden for url: https://www.360dx.com/clinical-lab-management/ceo-defunct-lab-sentenced-two-years-jail-pay-76m-restitution-kickback on URL https://news.google.com/rss/articles/CBMic2h0dHBzOi8vd3d3LjM2MGR4LmNvbS9jbGluaWNhbC1sYWItbWFuYWdlbWVudC9jZW8tZGVmdW5jdC1sYWItc2VudGVuY2VkLXR3by15ZWFycy1qYWlsLXBheS03Nm0tcmVzdGl0dXRpb24ta2lja2JhY2vSAQA?oc=5&hl=en-US&gl=US&ceid=US:en\n"
     ]
    },
    {
     "name": "stdout",
     "output_type": "stream",
     "text": [
      "-- <newspaper.article.Article object at 0x0000022FEA2DD4E0>\n",
      "-- None\n",
      "-- <newspaper.article.Article object at 0x0000022FEA50BB50>\n",
      "-- <newspaper.article.Article object at 0x0000022FEA2F7760>\n",
      "-- <newspaper.article.Article object at 0x0000022FE91AFBB0>\n",
      "-- <newspaper.article.Article object at 0x0000022FEA2F3F70>\n",
      "-- <newspaper.article.Article object at 0x0000022FEA3FE350>\n",
      "-- <newspaper.article.Article object at 0x0000022FEA2F7760>\n",
      "-- <newspaper.article.Article object at 0x0000022FE91AFBB0>\n",
      "-- <newspaper.article.Article object at 0x0000022FEA509810>\n",
      "-- <newspaper.article.Article object at 0x0000022FEA2F2920>\n",
      "-- <newspaper.article.Article object at 0x0000022FEA2F3310>\n",
      "-- <newspaper.article.Article object at 0x0000022FEA2F3FD0>\n",
      "-- <newspaper.article.Article object at 0x0000022FEA2DFCA0>\n",
      "-- <newspaper.article.Article object at 0x0000022FE914E170>\n",
      "-- <newspaper.article.Article object at 0x0000022FEA2A0BE0>\n",
      "-- <newspaper.article.Article object at 0x0000022FEA2F2920>\n",
      "-- <newspaper.article.Article object at 0x0000022FEA2DD4E0>\n",
      "-- <newspaper.article.Article object at 0x0000022FEA29B2E0>\n",
      "-- <newspaper.article.Article object at 0x0000022FE914E170>\n",
      "-- <newspaper.article.Article object at 0x0000022FE91F23B0>\n",
      "-- <newspaper.article.Article object at 0x0000022FEA2F2920>\n"
     ]
    },
    {
     "name": "stderr",
     "output_type": "stream",
     "text": [
      "11/15/2023 12:48:14 AM - Article `download()` failed with 403 Client Error: Forbidden for url: https://www.pnas.org/doi/10.1073/pnas.2121804119 on URL https://news.google.com/rss/articles/CBMiMGh0dHBzOi8vd3d3LnBuYXMub3JnL2RvaS8xMC4xMDczL3BuYXMuMjEyMTgwNDExOdIBAA?oc=5&hl=en-US&gl=US&ceid=US:en\n"
     ]
    },
    {
     "name": "stdout",
     "output_type": "stream",
     "text": [
      "-- None\n",
      "-- <newspaper.article.Article object at 0x0000022FEA2F3FD0>\n",
      "-- <newspaper.article.Article object at 0x0000022FEA29B2E0>\n",
      "-- <newspaper.article.Article object at 0x0000022FEA50BEE0>\n",
      "-- <newspaper.article.Article object at 0x0000022FEA2A0BE0>\n",
      "-- <newspaper.article.Article object at 0x0000022FEA2F3FD0>\n",
      "-- <newspaper.article.Article object at 0x0000022FEA2DD4E0>\n",
      "-- <newspaper.article.Article object at 0x0000022FEA2F7B80>\n",
      "-- <newspaper.article.Article object at 0x0000022FEA2A0BE0>\n",
      "-- <newspaper.article.Article object at 0x0000022FEA2F7B80>\n",
      "-- <newspaper.article.Article object at 0x0000022FBEF11B70>\n",
      "-- <newspaper.article.Article object at 0x0000022FE91F39D0>\n"
     ]
    },
    {
     "name": "stderr",
     "output_type": "stream",
     "text": [
      "11/15/2023 12:49:00 AM - Article `download()` failed with 403 Client Error: Forbidden for url: https://www.360dx.com/business-news/sophia-genetics-teams-spanish-diagnostics-firm-institute-chronic-lymphocytic-leukemia on URL https://news.google.com/rss/articles/CBMieWh0dHBzOi8vd3d3LjM2MGR4LmNvbS9idXNpbmVzcy1uZXdzL3NvcGhpYS1nZW5ldGljcy10ZWFtcy1zcGFuaXNoLWRpYWdub3N0aWNzLWZpcm0taW5zdGl0dXRlLWNocm9uaWMtbHltcGhvY3l0aWMtbGV1a2VtaWHSAQA?oc=5&hl=en-US&gl=US&ceid=US:en\n"
     ]
    },
    {
     "name": "stdout",
     "output_type": "stream",
     "text": [
      "-- None\n",
      "-- <newspaper.article.Article object at 0x0000022FEA50BA60>\n",
      "-- <newspaper.article.Article object at 0x0000022FE914E170>\n"
     ]
    },
    {
     "name": "stderr",
     "output_type": "stream",
     "text": [
      "11/15/2023 09:33:36 AM - Article `download()` failed with HTTPSConnectionPool(host='www.cleanroomtechnology.com', port=443): Read timed out. (read timeout=7) on URL https://news.google.com/rss/articles/CBMicWh0dHBzOi8vd3d3LmNsZWFucm9vbXRlY2hub2xvZ3kuY29tL25ld3MvYXJ0aWNsZV9wYWdlL0NsZWFucm9vbS1jb21wYXRpYmxlX0NPMl9pbmN1YmF0b3JzX2Zvcl9jZWxsX3RoZXJhcHkvMjAxNDIz0gEA?oc=5&hl=en-US&gl=US&ceid=US:en\n"
     ]
    },
    {
     "name": "stdout",
     "output_type": "stream",
     "text": [
      "-- None\n",
      "-- <newspaper.article.Article object at 0x0000022FEA2F7B80>\n"
     ]
    },
    {
     "name": "stderr",
     "output_type": "stream",
     "text": [
      "11/15/2023 09:33:46 AM - Article `download()` failed with HTTPSConnectionPool(host='www.businesswire.com', port=443): Read timed out. (read timeout=7) on URL https://news.google.com/rss/articles/CBMiogFodHRwczovL3d3dy5idXNpbmVzc3dpcmUuY29tL25ld3MvaG9tZS8yMDIyMDYxMDAwNTA2MC9lbi9UaGUtQmF0dGVyeS1TaG93LWFuZC1FbGVjdHJpYy1IeWJyaWQtVmVoaWNsZS1UZWNobm9sb2d5LUV4cG8tTm9ydGgtQW1lcmljYS1TZWxscy1PdXQtMjAyMi1FeHBvLVNob3ctRmxvb3LSAQA?oc=5&hl=en-US&gl=US&ceid=US:en\n"
     ]
    },
    {
     "name": "stdout",
     "output_type": "stream",
     "text": [
      "-- None\n"
     ]
    },
    {
     "name": "stderr",
     "output_type": "stream",
     "text": [
      "11/15/2023 09:33:46 AM - Article `download()` failed with 403 Client Error: Forbidden for url: https://uk.investing.com/news/stock-market-news/a-look-at-former-stock-superstars-jumia-peloton-and-virgin-galactic-are-there-any-signs-of-life-2667022 on URL https://news.google.com/rss/articles/CBMilwFodHRwczovL3VrLmludmVzdGluZy5jb20vbmV3cy9zdG9jay1tYXJrZXQtbmV3cy9hLWxvb2stYXQtZm9ybWVyLXN0b2NrLXN1cGVyc3RhcnMtanVtaWEtcGVsb3Rvbi1hbmQtdmlyZ2luLWdhbGFjdGljLWFyZS10aGVyZS1hbnktc2lnbnMtb2YtbGlmZS0yNjY3MDIy0gGjAWh0dHBzOi8vbS51ay5pbnZlc3RpbmcuY29tL25ld3Mvc3RvY2stbWFya2V0LW5ld3MvYS1sb29rLWF0LWZvcm1lci1zdG9jay1zdXBlcnN0YXJzLWp1bWlhLXBlbG90b24tYW5kLXZpcmdpbi1nYWxhY3RpYy1hcmUtdGhlcmUtYW55LXNpZ25zLW9mLWxpZmUtMjY2NzAyMj9hbXBNb2RlPTE?oc=5&hl=en-US&gl=US&ceid=US:en\n"
     ]
    },
    {
     "name": "stdout",
     "output_type": "stream",
     "text": [
      "-- None\n",
      "-- <newspaper.article.Article object at 0x0000022FEA2F7760>\n",
      "-- <newspaper.article.Article object at 0x0000022FEA2A0BE0>\n",
      "-- <newspaper.article.Article object at 0x0000022FEA29B2E0>\n",
      "-- <newspaper.article.Article object at 0x0000022FEA2DEE30>\n"
     ]
    },
    {
     "name": "stderr",
     "output_type": "stream",
     "text": [
      "11/15/2023 09:34:20 AM - 2\n"
     ]
    },
    {
     "name": "stdout",
     "output_type": "stream",
     "text": [
      "-- None\n"
     ]
    },
    {
     "name": "stderr",
     "output_type": "stream",
     "text": [
      "11/15/2023 09:34:20 AM - 2\n"
     ]
    },
    {
     "name": "stdout",
     "output_type": "stream",
     "text": [
      "-- None\n"
     ]
    },
    {
     "name": "stderr",
     "output_type": "stream",
     "text": [
      "11/15/2023 09:34:22 AM - 2\n"
     ]
    },
    {
     "name": "stdout",
     "output_type": "stream",
     "text": [
      "-- None\n"
     ]
    },
    {
     "name": "stderr",
     "output_type": "stream",
     "text": [
      "11/15/2023 09:34:24 AM - 2\n"
     ]
    },
    {
     "name": "stdout",
     "output_type": "stream",
     "text": [
      "-- None\n"
     ]
    },
    {
     "name": "stderr",
     "output_type": "stream",
     "text": [
      "11/15/2023 09:34:35 AM - Article `download()` failed with 403 Client Error: Forbidden for url: https://www.360dx.com/regulatory-news-fda-approvals/eshg-thermo-fisher-official-predicts-ivdr-will-push-labs-replace-ldts on URL https://news.google.com/rss/articles/CBMieWh0dHBzOi8vd3d3LjM2MGR4LmNvbS9yZWd1bGF0b3J5LW5ld3MtZmRhLWFwcHJvdmFscy9lc2hnLXRoZXJtby1maXNoZXItb2ZmaWNpYWwtcHJlZGljdHMtaXZkci13aWxsLXB1c2gtbGFicy1yZXBsYWNlLWxkdHPSAQA?oc=5&hl=en-US&gl=US&ceid=US:en\n"
     ]
    },
    {
     "name": "stdout",
     "output_type": "stream",
     "text": [
      "-- None\n"
     ]
    },
    {
     "name": "stderr",
     "output_type": "stream",
     "text": [
      "11/15/2023 09:34:37 AM - 2\n"
     ]
    },
    {
     "name": "stdout",
     "output_type": "stream",
     "text": [
      "-- None\n"
     ]
    },
    {
     "name": "stderr",
     "output_type": "stream",
     "text": [
      "11/15/2023 09:34:38 AM - 2\n"
     ]
    },
    {
     "name": "stdout",
     "output_type": "stream",
     "text": [
      "-- None\n"
     ]
    },
    {
     "name": "stderr",
     "output_type": "stream",
     "text": [
      "11/15/2023 09:34:41 AM - 2\n"
     ]
    },
    {
     "name": "stdout",
     "output_type": "stream",
     "text": [
      "-- None\n"
     ]
    },
    {
     "name": "stderr",
     "output_type": "stream",
     "text": [
      "11/15/2023 09:34:42 AM - 2\n"
     ]
    },
    {
     "name": "stdout",
     "output_type": "stream",
     "text": [
      "-- None\n"
     ]
    },
    {
     "name": "stderr",
     "output_type": "stream",
     "text": [
      "11/15/2023 09:34:55 AM - 2\n"
     ]
    },
    {
     "name": "stdout",
     "output_type": "stream",
     "text": [
      "-- None\n"
     ]
    },
    {
     "name": "stderr",
     "output_type": "stream",
     "text": [
      "11/15/2023 09:34:56 AM - 2\n"
     ]
    },
    {
     "name": "stdout",
     "output_type": "stream",
     "text": [
      "-- None\n"
     ]
    },
    {
     "name": "stderr",
     "output_type": "stream",
     "text": [
      "11/15/2023 09:34:58 AM - 2\n"
     ]
    },
    {
     "name": "stdout",
     "output_type": "stream",
     "text": [
      "-- None\n"
     ]
    },
    {
     "name": "stderr",
     "output_type": "stream",
     "text": [
      "11/15/2023 09:34:59 AM - 2\n"
     ]
    },
    {
     "name": "stdout",
     "output_type": "stream",
     "text": [
      "-- None\n"
     ]
    },
    {
     "name": "stderr",
     "output_type": "stream",
     "text": [
      "11/15/2023 09:35:00 AM - 2\n"
     ]
    },
    {
     "name": "stdout",
     "output_type": "stream",
     "text": [
      "-- None\n"
     ]
    },
    {
     "name": "stderr",
     "output_type": "stream",
     "text": [
      "11/15/2023 09:35:13 AM - 2\n"
     ]
    },
    {
     "name": "stdout",
     "output_type": "stream",
     "text": [
      "-- None\n"
     ]
    },
    {
     "name": "stderr",
     "output_type": "stream",
     "text": [
      "11/15/2023 09:35:15 AM - 2\n"
     ]
    },
    {
     "name": "stdout",
     "output_type": "stream",
     "text": [
      "-- None\n"
     ]
    },
    {
     "name": "stderr",
     "output_type": "stream",
     "text": [
      "11/15/2023 09:35:19 AM - 2\n"
     ]
    },
    {
     "name": "stdout",
     "output_type": "stream",
     "text": [
      "-- None\n"
     ]
    },
    {
     "name": "stderr",
     "output_type": "stream",
     "text": [
      "11/15/2023 09:35:20 AM - 2\n"
     ]
    },
    {
     "name": "stdout",
     "output_type": "stream",
     "text": [
      "-- None\n"
     ]
    },
    {
     "name": "stderr",
     "output_type": "stream",
     "text": [
      "11/15/2023 09:35:32 AM - 2\n"
     ]
    },
    {
     "name": "stdout",
     "output_type": "stream",
     "text": [
      "-- None\n"
     ]
    },
    {
     "name": "stderr",
     "output_type": "stream",
     "text": [
      "11/15/2023 09:35:33 AM - 2\n"
     ]
    },
    {
     "name": "stdout",
     "output_type": "stream",
     "text": [
      "-- None\n"
     ]
    },
    {
     "name": "stderr",
     "output_type": "stream",
     "text": [
      "11/15/2023 09:35:33 AM - Article `download()` failed with 403 Client Error: Forbidden for url: https://www.bizjournals.com/boston/news/2022/06/16/boston-scientific-synergy-m-i-tech-acquisition.html on URL https://news.google.com/rss/articles/CBMiZmh0dHBzOi8vd3d3LmJpempvdXJuYWxzLmNvbS9ib3N0b24vbmV3cy8yMDIyLzA2LzE2L2Jvc3Rvbi1zY2llbnRpZmljLXN5bmVyZ3ktbS1pLXRlY2gtYWNxdWlzaXRpb24uaHRtbNIBAA?oc=5&hl=en-US&gl=US&ceid=US:en\n"
     ]
    },
    {
     "name": "stdout",
     "output_type": "stream",
     "text": [
      "-- None\n"
     ]
    },
    {
     "name": "stderr",
     "output_type": "stream",
     "text": [
      "11/15/2023 09:35:35 AM - 2\n"
     ]
    },
    {
     "name": "stdout",
     "output_type": "stream",
     "text": [
      "-- None\n"
     ]
    },
    {
     "name": "stderr",
     "output_type": "stream",
     "text": [
      "11/15/2023 09:35:48 AM - 2\n"
     ]
    },
    {
     "name": "stdout",
     "output_type": "stream",
     "text": [
      "-- None\n"
     ]
    },
    {
     "name": "stderr",
     "output_type": "stream",
     "text": [
      "11/15/2023 09:35:48 AM - Article `download()` failed with 403 Client Error: Forbidden for url: https://www.businessweekly.co.uk/news/recruitment/new-ceo-evonetix-company-prepares-commercialise-dna-synthesis-platform on URL https://news.google.com/rss/articles/CBMieGh0dHBzOi8vd3d3LmJ1c2luZXNzd2Vla2x5LmNvLnVrL25ld3MvcmVjcnVpdG1lbnQvbmV3LWNlby1ldm9uZXRpeC1jb21wYW55LXByZXBhcmVzLWNvbW1lcmNpYWxpc2UtZG5hLXN5bnRoZXNpcy1wbGF0Zm9ybdIBAA?oc=5&hl=en-US&gl=US&ceid=US:en\n"
     ]
    },
    {
     "name": "stdout",
     "output_type": "stream",
     "text": [
      "-- None\n"
     ]
    },
    {
     "name": "stderr",
     "output_type": "stream",
     "text": [
      "11/15/2023 09:35:49 AM - 2\n"
     ]
    },
    {
     "name": "stdout",
     "output_type": "stream",
     "text": [
      "-- None\n"
     ]
    },
    {
     "name": "stderr",
     "output_type": "stream",
     "text": [
      "11/15/2023 09:35:51 AM - 2\n"
     ]
    },
    {
     "name": "stdout",
     "output_type": "stream",
     "text": [
      "-- None\n"
     ]
    },
    {
     "name": "stderr",
     "output_type": "stream",
     "text": [
      "11/15/2023 09:35:53 AM - 2\n"
     ]
    },
    {
     "name": "stdout",
     "output_type": "stream",
     "text": [
      "-- None\n"
     ]
    },
    {
     "name": "stderr",
     "output_type": "stream",
     "text": [
      "11/15/2023 09:36:06 AM - 2\n"
     ]
    },
    {
     "name": "stdout",
     "output_type": "stream",
     "text": [
      "-- None\n"
     ]
    },
    {
     "name": "stderr",
     "output_type": "stream",
     "text": [
      "11/15/2023 09:36:09 AM - 2\n"
     ]
    },
    {
     "name": "stdout",
     "output_type": "stream",
     "text": [
      "-- None\n"
     ]
    },
    {
     "name": "stderr",
     "output_type": "stream",
     "text": [
      "11/15/2023 09:36:20 AM - 2\n"
     ]
    },
    {
     "name": "stdout",
     "output_type": "stream",
     "text": [
      "-- None\n"
     ]
    },
    {
     "name": "stderr",
     "output_type": "stream",
     "text": [
      "11/15/2023 09:36:27 AM - 2\n"
     ]
    },
    {
     "name": "stdout",
     "output_type": "stream",
     "text": [
      "-- None\n"
     ]
    },
    {
     "name": "stderr",
     "output_type": "stream",
     "text": [
      "11/15/2023 09:36:42 AM - 2\n"
     ]
    },
    {
     "name": "stdout",
     "output_type": "stream",
     "text": [
      "-- None\n"
     ]
    },
    {
     "name": "stderr",
     "output_type": "stream",
     "text": [
      "11/15/2023 09:36:44 AM - 2\n"
     ]
    },
    {
     "name": "stdout",
     "output_type": "stream",
     "text": [
      "-- None\n"
     ]
    },
    {
     "name": "stderr",
     "output_type": "stream",
     "text": [
      "11/15/2023 09:36:46 AM - 2\n"
     ]
    },
    {
     "name": "stdout",
     "output_type": "stream",
     "text": [
      "-- None\n"
     ]
    },
    {
     "name": "stderr",
     "output_type": "stream",
     "text": [
      "11/15/2023 09:36:47 AM - 2\n"
     ]
    },
    {
     "name": "stdout",
     "output_type": "stream",
     "text": [
      "-- None\n"
     ]
    },
    {
     "name": "stderr",
     "output_type": "stream",
     "text": [
      "11/15/2023 09:36:49 AM - 2\n"
     ]
    },
    {
     "name": "stdout",
     "output_type": "stream",
     "text": [
      "-- None\n"
     ]
    },
    {
     "name": "stderr",
     "output_type": "stream",
     "text": [
      "11/15/2023 09:37:02 AM - 2\n"
     ]
    },
    {
     "name": "stdout",
     "output_type": "stream",
     "text": [
      "-- None\n"
     ]
    },
    {
     "name": "stderr",
     "output_type": "stream",
     "text": [
      "11/15/2023 09:37:04 AM - 2\n"
     ]
    },
    {
     "name": "stdout",
     "output_type": "stream",
     "text": [
      "-- None\n"
     ]
    },
    {
     "name": "stderr",
     "output_type": "stream",
     "text": [
      "11/15/2023 09:37:06 AM - 2\n"
     ]
    },
    {
     "name": "stdout",
     "output_type": "stream",
     "text": [
      "-- None\n"
     ]
    },
    {
     "name": "stderr",
     "output_type": "stream",
     "text": [
      "11/15/2023 09:37:08 AM - 2\n"
     ]
    },
    {
     "name": "stdout",
     "output_type": "stream",
     "text": [
      "-- None\n"
     ]
    },
    {
     "name": "stderr",
     "output_type": "stream",
     "text": [
      "11/15/2023 09:37:21 AM - 2\n"
     ]
    },
    {
     "name": "stdout",
     "output_type": "stream",
     "text": [
      "-- None\n"
     ]
    },
    {
     "name": "stderr",
     "output_type": "stream",
     "text": [
      "11/15/2023 09:37:21 AM - Article `download()` failed with 403 Client Error: Forbidden for url: https://www.science.org/doi/10.1126/sciadv.abl7882 on URL https://news.google.com/rss/articles/CBMiMmh0dHBzOi8vd3d3LnNjaWVuY2Uub3JnL2RvaS8xMC4xMTI2L3NjaWFkdi5hYmw3ODgy0gEA?oc=5&hl=en-US&gl=US&ceid=US:en\n"
     ]
    },
    {
     "name": "stdout",
     "output_type": "stream",
     "text": [
      "-- None\n"
     ]
    },
    {
     "name": "stderr",
     "output_type": "stream",
     "text": [
      "11/15/2023 09:37:23 AM - 2\n"
     ]
    },
    {
     "name": "stdout",
     "output_type": "stream",
     "text": [
      "-- None\n"
     ]
    },
    {
     "name": "stderr",
     "output_type": "stream",
     "text": [
      "11/15/2023 09:37:24 AM - 2\n"
     ]
    },
    {
     "name": "stdout",
     "output_type": "stream",
     "text": [
      "-- None\n"
     ]
    },
    {
     "name": "stderr",
     "output_type": "stream",
     "text": [
      "11/15/2023 09:37:26 AM - 2\n"
     ]
    },
    {
     "name": "stdout",
     "output_type": "stream",
     "text": [
      "-- None\n"
     ]
    },
    {
     "name": "stderr",
     "output_type": "stream",
     "text": [
      "11/15/2023 09:37:37 AM - Article `download()` failed with 403 Client Error: Forbidden for url: https://www.360dx.com/clinical-lab-management/commercial-academic-labs-ramping-monkeypox-testing-efforts on URL https://news.google.com/rss/articles/CBMiaGh0dHBzOi8vd3d3LjM2MGR4LmNvbS9jbGluaWNhbC1sYWItbWFuYWdlbWVudC9jb21tZXJjaWFsLWFjYWRlbWljLWxhYnMtcmFtcGluZy1tb25rZXlwb3gtdGVzdGluZy1lZmZvcnRz0gEA?oc=5&hl=en-US&gl=US&ceid=US:en\n"
     ]
    },
    {
     "name": "stdout",
     "output_type": "stream",
     "text": [
      "-- None\n"
     ]
    },
    {
     "name": "stderr",
     "output_type": "stream",
     "text": [
      "11/15/2023 09:37:39 AM - 2\n"
     ]
    },
    {
     "name": "stdout",
     "output_type": "stream",
     "text": [
      "-- None\n"
     ]
    },
    {
     "name": "stderr",
     "output_type": "stream",
     "text": [
      "11/15/2023 09:37:40 AM - 2\n"
     ]
    },
    {
     "name": "stdout",
     "output_type": "stream",
     "text": [
      "-- None\n"
     ]
    },
    {
     "name": "stderr",
     "output_type": "stream",
     "text": [
      "11/15/2023 09:37:44 AM - 2\n"
     ]
    },
    {
     "name": "stdout",
     "output_type": "stream",
     "text": [
      "-- None\n"
     ]
    },
    {
     "name": "stderr",
     "output_type": "stream",
     "text": [
      "11/15/2023 09:37:57 AM - 2\n"
     ]
    },
    {
     "name": "stdout",
     "output_type": "stream",
     "text": [
      "-- None\n"
     ]
    },
    {
     "name": "stderr",
     "output_type": "stream",
     "text": [
      "11/15/2023 09:37:58 AM - 2\n"
     ]
    },
    {
     "name": "stdout",
     "output_type": "stream",
     "text": [
      "-- None\n"
     ]
    },
    {
     "name": "stderr",
     "output_type": "stream",
     "text": [
      "11/15/2023 09:38:00 AM - 2\n"
     ]
    },
    {
     "name": "stdout",
     "output_type": "stream",
     "text": [
      "-- None\n"
     ]
    },
    {
     "name": "stderr",
     "output_type": "stream",
     "text": [
      "11/15/2023 09:38:02 AM - 2\n"
     ]
    },
    {
     "name": "stdout",
     "output_type": "stream",
     "text": [
      "-- None\n"
     ]
    },
    {
     "name": "stderr",
     "output_type": "stream",
     "text": [
      "11/15/2023 09:38:04 AM - 2\n"
     ]
    },
    {
     "name": "stdout",
     "output_type": "stream",
     "text": [
      "-- None\n"
     ]
    },
    {
     "name": "stderr",
     "output_type": "stream",
     "text": [
      "11/15/2023 09:38:17 AM - 2\n"
     ]
    },
    {
     "name": "stdout",
     "output_type": "stream",
     "text": [
      "-- None\n"
     ]
    },
    {
     "name": "stderr",
     "output_type": "stream",
     "text": [
      "11/15/2023 09:38:18 AM - 2\n"
     ]
    },
    {
     "name": "stdout",
     "output_type": "stream",
     "text": [
      "-- None\n"
     ]
    },
    {
     "name": "stderr",
     "output_type": "stream",
     "text": [
      "11/15/2023 09:38:21 AM - 2\n"
     ]
    },
    {
     "name": "stdout",
     "output_type": "stream",
     "text": [
      "-- None\n"
     ]
    },
    {
     "name": "stderr",
     "output_type": "stream",
     "text": [
      "11/15/2023 09:38:22 AM - 2\n"
     ]
    },
    {
     "name": "stdout",
     "output_type": "stream",
     "text": [
      "-- None\n"
     ]
    },
    {
     "name": "stderr",
     "output_type": "stream",
     "text": [
      "11/15/2023 09:38:24 AM - 2\n"
     ]
    },
    {
     "name": "stdout",
     "output_type": "stream",
     "text": [
      "-- None\n"
     ]
    },
    {
     "name": "stderr",
     "output_type": "stream",
     "text": [
      "11/15/2023 09:38:36 AM - 2\n"
     ]
    },
    {
     "name": "stdout",
     "output_type": "stream",
     "text": [
      "-- None\n"
     ]
    },
    {
     "name": "stderr",
     "output_type": "stream",
     "text": [
      "11/15/2023 09:38:40 AM - 2\n"
     ]
    },
    {
     "name": "stdout",
     "output_type": "stream",
     "text": [
      "-- None\n"
     ]
    },
    {
     "name": "stderr",
     "output_type": "stream",
     "text": [
      "11/15/2023 09:38:53 AM - 2\n"
     ]
    },
    {
     "name": "stdout",
     "output_type": "stream",
     "text": [
      "-- None\n"
     ]
    },
    {
     "name": "stderr",
     "output_type": "stream",
     "text": [
      "11/15/2023 09:39:00 AM - 2\n"
     ]
    },
    {
     "name": "stdout",
     "output_type": "stream",
     "text": [
      "-- None\n"
     ]
    },
    {
     "name": "stderr",
     "output_type": "stream",
     "text": [
      "11/15/2023 09:39:01 AM - 2\n"
     ]
    },
    {
     "name": "stdout",
     "output_type": "stream",
     "text": [
      "-- None\n"
     ]
    },
    {
     "name": "stderr",
     "output_type": "stream",
     "text": [
      "11/15/2023 09:39:03 AM - 2\n"
     ]
    },
    {
     "name": "stdout",
     "output_type": "stream",
     "text": [
      "-- None\n"
     ]
    },
    {
     "name": "stderr",
     "output_type": "stream",
     "text": [
      "11/15/2023 09:39:03 AM - Article `download()` failed with 403 Client Error: Forbidden for url: https://www.360dx.com/microarrays-multiplexing/wyss-institute-licenses-electrochemical-sensing-technology-statadx on URL https://news.google.com/rss/articles/CBMicWh0dHBzOi8vd3d3LjM2MGR4LmNvbS9taWNyb2FycmF5cy1tdWx0aXBsZXhpbmcvd3lzcy1pbnN0aXR1dGUtbGljZW5zZXMtZWxlY3Ryb2NoZW1pY2FsLXNlbnNpbmctdGVjaG5vbG9neS1zdGF0YWR40gEA?oc=5&hl=en-US&gl=US&ceid=US:en\n"
     ]
    },
    {
     "name": "stdout",
     "output_type": "stream",
     "text": [
      "-- None\n"
     ]
    },
    {
     "name": "stderr",
     "output_type": "stream",
     "text": [
      "11/15/2023 09:39:15 AM - 2\n"
     ]
    },
    {
     "name": "stdout",
     "output_type": "stream",
     "text": [
      "-- None\n"
     ]
    },
    {
     "name": "stderr",
     "output_type": "stream",
     "text": [
      "11/15/2023 09:39:17 AM - 2\n"
     ]
    },
    {
     "name": "stdout",
     "output_type": "stream",
     "text": [
      "-- None\n"
     ]
    },
    {
     "name": "stderr",
     "output_type": "stream",
     "text": [
      "11/15/2023 09:39:18 AM - 2\n"
     ]
    },
    {
     "name": "stdout",
     "output_type": "stream",
     "text": [
      "-- None\n"
     ]
    },
    {
     "name": "stderr",
     "output_type": "stream",
     "text": [
      "11/15/2023 09:39:19 AM - 2\n"
     ]
    },
    {
     "name": "stdout",
     "output_type": "stream",
     "text": [
      "-- None\n"
     ]
    },
    {
     "name": "stderr",
     "output_type": "stream",
     "text": [
      "11/15/2023 09:39:20 AM - 2\n"
     ]
    },
    {
     "name": "stdout",
     "output_type": "stream",
     "text": [
      "-- None\n"
     ]
    },
    {
     "name": "stderr",
     "output_type": "stream",
     "text": [
      "11/15/2023 09:39:32 AM - 2\n"
     ]
    },
    {
     "name": "stdout",
     "output_type": "stream",
     "text": [
      "-- None\n"
     ]
    },
    {
     "name": "stderr",
     "output_type": "stream",
     "text": [
      "11/15/2023 09:39:32 AM - Article `download()` failed with 403 Client Error: Forbidden for url: https://www.legacy.com/us/obituaries/name/steven-montero-blanco-obituary?id=35476170 on URL https://news.google.com/rss/articles/CBMiVGh0dHBzOi8vd3d3LmxlZ2FjeS5jb20vdXMvb2JpdHVhcmllcy9uYW1lL3N0ZXZlbi1tb250ZXJvLWJsYW5jby1vYml0dWFyeT9pZD0zNTQ3NjE3MNIBAA?oc=5&hl=en-US&gl=US&ceid=US:en\n"
     ]
    },
    {
     "name": "stdout",
     "output_type": "stream",
     "text": [
      "-- None\n"
     ]
    },
    {
     "name": "stderr",
     "output_type": "stream",
     "text": [
      "11/15/2023 09:39:34 AM - 2\n"
     ]
    },
    {
     "name": "stdout",
     "output_type": "stream",
     "text": [
      "-- None\n"
     ]
    },
    {
     "name": "stderr",
     "output_type": "stream",
     "text": [
      "11/15/2023 09:39:36 AM - 2\n"
     ]
    },
    {
     "name": "stdout",
     "output_type": "stream",
     "text": [
      "-- None\n"
     ]
    },
    {
     "name": "stderr",
     "output_type": "stream",
     "text": [
      "11/15/2023 09:39:38 AM - 2\n"
     ]
    },
    {
     "name": "stdout",
     "output_type": "stream",
     "text": [
      "-- None\n"
     ]
    },
    {
     "name": "stderr",
     "output_type": "stream",
     "text": [
      "11/15/2023 09:39:49 AM - 2\n"
     ]
    },
    {
     "name": "stdout",
     "output_type": "stream",
     "text": [
      "-- None\n"
     ]
    },
    {
     "name": "stderr",
     "output_type": "stream",
     "text": [
      "11/15/2023 09:39:51 AM - 2\n"
     ]
    },
    {
     "name": "stdout",
     "output_type": "stream",
     "text": [
      "-- None\n"
     ]
    },
    {
     "name": "stderr",
     "output_type": "stream",
     "text": [
      "11/15/2023 09:39:53 AM - 2\n"
     ]
    },
    {
     "name": "stdout",
     "output_type": "stream",
     "text": [
      "-- None\n"
     ]
    },
    {
     "name": "stderr",
     "output_type": "stream",
     "text": [
      "11/15/2023 09:39:54 AM - 2\n"
     ]
    },
    {
     "name": "stdout",
     "output_type": "stream",
     "text": [
      "-- None\n"
     ]
    },
    {
     "name": "stderr",
     "output_type": "stream",
     "text": [
      "11/15/2023 09:39:56 AM - 2\n"
     ]
    },
    {
     "name": "stdout",
     "output_type": "stream",
     "text": [
      "-- None\n"
     ]
    },
    {
     "name": "stderr",
     "output_type": "stream",
     "text": [
      "11/15/2023 09:40:09 AM - 2\n"
     ]
    },
    {
     "name": "stdout",
     "output_type": "stream",
     "text": [
      "-- None\n"
     ]
    },
    {
     "name": "stderr",
     "output_type": "stream",
     "text": [
      "11/15/2023 09:40:09 AM - Article `download()` failed with 403 Client Error: Forbidden for url: https://www.360dx.com/molecular-diagnostics/danish-startup-glx-analytix-prepares-commercialization-seed-investment on URL https://news.google.com/rss/articles/CBMicmh0dHBzOi8vd3d3LjM2MGR4LmNvbS9tb2xlY3VsYXItZGlhZ25vc3RpY3MvZGFuaXNoLXN0YXJ0dXAtZ2x4LWFuYWx5dGl4LXByZXBhcmVzLWNvbW1lcmNpYWxpemF0aW9uLXNlZWQtaW52ZXN0bWVudNIBAA?oc=5&hl=en-US&gl=US&ceid=US:en\n"
     ]
    },
    {
     "name": "stdout",
     "output_type": "stream",
     "text": [
      "-- None\n"
     ]
    },
    {
     "name": "stderr",
     "output_type": "stream",
     "text": [
      "11/15/2023 09:40:11 AM - 2\n"
     ]
    },
    {
     "name": "stdout",
     "output_type": "stream",
     "text": [
      "-- None\n"
     ]
    },
    {
     "name": "stderr",
     "output_type": "stream",
     "text": [
      "11/15/2023 09:40:13 AM - 2\n"
     ]
    },
    {
     "name": "stdout",
     "output_type": "stream",
     "text": [
      "-- None\n"
     ]
    },
    {
     "name": "stderr",
     "output_type": "stream",
     "text": [
      "11/15/2023 09:40:14 AM - 2\n"
     ]
    },
    {
     "name": "stdout",
     "output_type": "stream",
     "text": [
      "-- None\n"
     ]
    },
    {
     "name": "stderr",
     "output_type": "stream",
     "text": [
      "11/15/2023 09:40:27 AM - 2\n"
     ]
    },
    {
     "name": "stdout",
     "output_type": "stream",
     "text": [
      "-- None\n"
     ]
    },
    {
     "name": "stderr",
     "output_type": "stream",
     "text": [
      "11/15/2023 09:40:29 AM - 2\n"
     ]
    },
    {
     "name": "stdout",
     "output_type": "stream",
     "text": [
      "-- None\n"
     ]
    },
    {
     "name": "stderr",
     "output_type": "stream",
     "text": [
      "11/15/2023 09:40:40 AM - 2\n"
     ]
    },
    {
     "name": "stdout",
     "output_type": "stream",
     "text": [
      "-- None\n"
     ]
    },
    {
     "name": "stderr",
     "output_type": "stream",
     "text": [
      "11/15/2023 09:40:43 AM - 2\n"
     ]
    },
    {
     "name": "stdout",
     "output_type": "stream",
     "text": [
      "-- None\n"
     ]
    },
    {
     "name": "stderr",
     "output_type": "stream",
     "text": [
      "11/15/2023 09:40:55 AM - 2\n"
     ]
    },
    {
     "name": "stdout",
     "output_type": "stream",
     "text": [
      "-- None\n"
     ]
    },
    {
     "name": "stderr",
     "output_type": "stream",
     "text": [
      "11/15/2023 09:40:57 AM - 2\n"
     ]
    },
    {
     "name": "stdout",
     "output_type": "stream",
     "text": [
      "-- None\n"
     ]
    },
    {
     "name": "stderr",
     "output_type": "stream",
     "text": [
      "11/15/2023 09:40:58 AM - 2\n"
     ]
    },
    {
     "name": "stdout",
     "output_type": "stream",
     "text": [
      "-- None\n"
     ]
    },
    {
     "name": "stderr",
     "output_type": "stream",
     "text": [
      "11/15/2023 09:41:00 AM - 2\n"
     ]
    },
    {
     "name": "stdout",
     "output_type": "stream",
     "text": [
      "-- None\n"
     ]
    },
    {
     "name": "stderr",
     "output_type": "stream",
     "text": [
      "11/15/2023 09:41:12 AM - 2\n"
     ]
    },
    {
     "name": "stdout",
     "output_type": "stream",
     "text": [
      "-- None\n"
     ]
    },
    {
     "name": "stderr",
     "output_type": "stream",
     "text": [
      "11/15/2023 09:41:14 AM - 2\n"
     ]
    },
    {
     "name": "stdout",
     "output_type": "stream",
     "text": [
      "-- None\n"
     ]
    },
    {
     "name": "stderr",
     "output_type": "stream",
     "text": [
      "11/15/2023 09:41:15 AM - 2\n"
     ]
    },
    {
     "name": "stdout",
     "output_type": "stream",
     "text": [
      "-- None\n"
     ]
    },
    {
     "name": "stderr",
     "output_type": "stream",
     "text": [
      "11/15/2023 09:41:17 AM - 2\n"
     ]
    },
    {
     "name": "stdout",
     "output_type": "stream",
     "text": [
      "-- None\n"
     ]
    },
    {
     "name": "stderr",
     "output_type": "stream",
     "text": [
      "11/15/2023 09:41:19 AM - 2\n"
     ]
    },
    {
     "name": "stdout",
     "output_type": "stream",
     "text": [
      "-- None\n"
     ]
    },
    {
     "name": "stderr",
     "output_type": "stream",
     "text": [
      "11/15/2023 09:41:31 AM - 2\n"
     ]
    },
    {
     "name": "stdout",
     "output_type": "stream",
     "text": [
      "-- None\n"
     ]
    },
    {
     "name": "stderr",
     "output_type": "stream",
     "text": [
      "11/15/2023 09:41:32 AM - 2\n"
     ]
    },
    {
     "name": "stdout",
     "output_type": "stream",
     "text": [
      "-- None\n"
     ]
    },
    {
     "name": "stderr",
     "output_type": "stream",
     "text": [
      "11/15/2023 09:41:33 AM - Article `download()` failed with 403 Client Error: Forbidden for url: https://www.science.org/doi/10.1126/sciadv.abn6491 on URL https://news.google.com/rss/articles/CBMiMmh0dHBzOi8vd3d3LnNjaWVuY2Uub3JnL2RvaS8xMC4xMTI2L3NjaWFkdi5hYm42NDkx0gEA?oc=5&hl=en-US&gl=US&ceid=US:en\n"
     ]
    },
    {
     "name": "stdout",
     "output_type": "stream",
     "text": [
      "-- None\n"
     ]
    },
    {
     "name": "stderr",
     "output_type": "stream",
     "text": [
      "11/15/2023 09:41:35 AM - 2\n"
     ]
    },
    {
     "name": "stdout",
     "output_type": "stream",
     "text": [
      "-- None\n"
     ]
    },
    {
     "name": "stderr",
     "output_type": "stream",
     "text": [
      "11/15/2023 09:41:37 AM - 2\n"
     ]
    },
    {
     "name": "stdout",
     "output_type": "stream",
     "text": [
      "-- None\n"
     ]
    },
    {
     "name": "stderr",
     "output_type": "stream",
     "text": [
      "11/15/2023 09:41:48 AM - 2\n"
     ]
    },
    {
     "name": "stdout",
     "output_type": "stream",
     "text": [
      "-- None\n"
     ]
    },
    {
     "name": "stderr",
     "output_type": "stream",
     "text": [
      "11/15/2023 09:41:50 AM - 2\n"
     ]
    },
    {
     "name": "stdout",
     "output_type": "stream",
     "text": [
      "-- None\n"
     ]
    },
    {
     "name": "stderr",
     "output_type": "stream",
     "text": [
      "11/15/2023 09:41:51 AM - 2\n"
     ]
    },
    {
     "name": "stdout",
     "output_type": "stream",
     "text": [
      "-- None\n"
     ]
    },
    {
     "name": "stderr",
     "output_type": "stream",
     "text": [
      "11/15/2023 09:41:53 AM - 2\n"
     ]
    },
    {
     "name": "stdout",
     "output_type": "stream",
     "text": [
      "-- None\n"
     ]
    },
    {
     "name": "stderr",
     "output_type": "stream",
     "text": [
      "11/15/2023 09:42:05 AM - 2\n"
     ]
    },
    {
     "name": "stdout",
     "output_type": "stream",
     "text": [
      "-- None\n"
     ]
    },
    {
     "name": "stderr",
     "output_type": "stream",
     "text": [
      "11/15/2023 09:42:06 AM - 2\n"
     ]
    },
    {
     "name": "stdout",
     "output_type": "stream",
     "text": [
      "-- None\n"
     ]
    },
    {
     "name": "stderr",
     "output_type": "stream",
     "text": [
      "11/15/2023 09:42:08 AM - 2\n"
     ]
    },
    {
     "name": "stdout",
     "output_type": "stream",
     "text": [
      "-- None\n"
     ]
    },
    {
     "name": "stderr",
     "output_type": "stream",
     "text": [
      "11/15/2023 09:42:10 AM - 2\n"
     ]
    },
    {
     "name": "stdout",
     "output_type": "stream",
     "text": [
      "-- None\n"
     ]
    },
    {
     "name": "stderr",
     "output_type": "stream",
     "text": [
      "11/15/2023 09:42:22 AM - 2\n"
     ]
    },
    {
     "name": "stdout",
     "output_type": "stream",
     "text": [
      "-- None\n"
     ]
    },
    {
     "name": "stderr",
     "output_type": "stream",
     "text": [
      "11/15/2023 09:42:24 AM - 2\n"
     ]
    },
    {
     "name": "stdout",
     "output_type": "stream",
     "text": [
      "-- None\n"
     ]
    },
    {
     "name": "stderr",
     "output_type": "stream",
     "text": [
      "11/15/2023 09:42:26 AM - 2\n"
     ]
    },
    {
     "name": "stdout",
     "output_type": "stream",
     "text": [
      "-- None\n"
     ]
    },
    {
     "name": "stderr",
     "output_type": "stream",
     "text": [
      "11/15/2023 09:42:28 AM - 2\n"
     ]
    },
    {
     "name": "stdout",
     "output_type": "stream",
     "text": [
      "-- None\n"
     ]
    },
    {
     "name": "stderr",
     "output_type": "stream",
     "text": [
      "11/15/2023 09:42:41 AM - 2\n"
     ]
    },
    {
     "name": "stdout",
     "output_type": "stream",
     "text": [
      "-- None\n"
     ]
    },
    {
     "name": "stderr",
     "output_type": "stream",
     "text": [
      "11/15/2023 09:42:42 AM - 2\n"
     ]
    },
    {
     "name": "stdout",
     "output_type": "stream",
     "text": [
      "-- None\n"
     ]
    },
    {
     "name": "stderr",
     "output_type": "stream",
     "text": [
      "11/15/2023 09:42:46 AM - 2\n"
     ]
    },
    {
     "name": "stdout",
     "output_type": "stream",
     "text": [
      "-- None\n"
     ]
    },
    {
     "name": "stderr",
     "output_type": "stream",
     "text": [
      "11/15/2023 09:42:46 AM - Article `download()` failed with 403 Client Error: Forbidden for url: https://www.pnas.org/doi/10.1073/pnas.2201423119 on URL https://news.google.com/rss/articles/CBMiMGh0dHBzOi8vd3d3LnBuYXMub3JnL2RvaS8xMC4xMDczL3BuYXMuMjIwMTQyMzExOdIBAA?oc=5&hl=en-US&gl=US&ceid=US:en\n"
     ]
    },
    {
     "name": "stdout",
     "output_type": "stream",
     "text": [
      "-- None\n"
     ]
    },
    {
     "name": "stderr",
     "output_type": "stream",
     "text": [
      "11/15/2023 09:42:58 AM - 2\n"
     ]
    },
    {
     "name": "stdout",
     "output_type": "stream",
     "text": [
      "-- None\n"
     ]
    },
    {
     "name": "stderr",
     "output_type": "stream",
     "text": [
      "11/15/2023 09:42:59 AM - 2\n"
     ]
    },
    {
     "name": "stdout",
     "output_type": "stream",
     "text": [
      "-- None\n"
     ]
    },
    {
     "name": "stderr",
     "output_type": "stream",
     "text": [
      "11/15/2023 09:43:00 AM - 2\n"
     ]
    },
    {
     "name": "stdout",
     "output_type": "stream",
     "text": [
      "-- None\n"
     ]
    },
    {
     "name": "stderr",
     "output_type": "stream",
     "text": [
      "11/15/2023 09:43:01 AM - 2\n"
     ]
    },
    {
     "name": "stdout",
     "output_type": "stream",
     "text": [
      "-- None\n"
     ]
    },
    {
     "name": "stderr",
     "output_type": "stream",
     "text": [
      "11/15/2023 09:43:13 AM - 2\n"
     ]
    },
    {
     "name": "stdout",
     "output_type": "stream",
     "text": [
      "-- None\n"
     ]
    },
    {
     "name": "stderr",
     "output_type": "stream",
     "text": [
      "11/15/2023 09:43:15 AM - 2\n"
     ]
    },
    {
     "name": "stdout",
     "output_type": "stream",
     "text": [
      "-- None\n"
     ]
    },
    {
     "name": "stderr",
     "output_type": "stream",
     "text": [
      "11/15/2023 09:43:17 AM - 2\n"
     ]
    },
    {
     "name": "stdout",
     "output_type": "stream",
     "text": [
      "-- None\n"
     ]
    },
    {
     "name": "stderr",
     "output_type": "stream",
     "text": [
      "11/15/2023 09:43:17 AM - Article `download()` failed with 403 Client Error: Forbidden for url: https://ascopubs.org/doi/abs/10.1200/JCO.22.00034 on URL https://news.google.com/rss/articles/CBMiMWh0dHBzOi8vYXNjb3B1YnMub3JnL2RvaS9hYnMvMTAuMTIwMC9KQ08uMjIuMDAwMzTSAQA?oc=5&hl=en-US&gl=US&ceid=US:en\n"
     ]
    },
    {
     "name": "stdout",
     "output_type": "stream",
     "text": [
      "-- None\n"
     ]
    },
    {
     "name": "stderr",
     "output_type": "stream",
     "text": [
      "11/15/2023 09:43:19 AM - 2\n"
     ]
    },
    {
     "name": "stdout",
     "output_type": "stream",
     "text": [
      "-- None\n"
     ]
    },
    {
     "name": "stderr",
     "output_type": "stream",
     "text": [
      "11/15/2023 09:43:30 AM - 2\n"
     ]
    },
    {
     "name": "stdout",
     "output_type": "stream",
     "text": [
      "-- None\n"
     ]
    },
    {
     "name": "stderr",
     "output_type": "stream",
     "text": [
      "11/15/2023 09:43:31 AM - 2\n"
     ]
    },
    {
     "name": "stdout",
     "output_type": "stream",
     "text": [
      "-- None\n"
     ]
    },
    {
     "name": "stderr",
     "output_type": "stream",
     "text": [
      "11/15/2023 09:43:33 AM - 2\n"
     ]
    },
    {
     "name": "stdout",
     "output_type": "stream",
     "text": [
      "-- None\n"
     ]
    },
    {
     "name": "stderr",
     "output_type": "stream",
     "text": [
      "11/15/2023 09:43:35 AM - 2\n"
     ]
    },
    {
     "name": "stdout",
     "output_type": "stream",
     "text": [
      "-- None\n"
     ]
    },
    {
     "name": "stderr",
     "output_type": "stream",
     "text": [
      "11/15/2023 09:43:37 AM - 2\n"
     ]
    },
    {
     "name": "stdout",
     "output_type": "stream",
     "text": [
      "-- None\n"
     ]
    },
    {
     "name": "stderr",
     "output_type": "stream",
     "text": [
      "11/15/2023 09:43:51 AM - 2\n"
     ]
    },
    {
     "name": "stdout",
     "output_type": "stream",
     "text": [
      "-- None\n"
     ]
    },
    {
     "name": "stderr",
     "output_type": "stream",
     "text": [
      "11/15/2023 09:43:52 AM - 2\n"
     ]
    },
    {
     "name": "stdout",
     "output_type": "stream",
     "text": [
      "-- None\n"
     ]
    },
    {
     "name": "stderr",
     "output_type": "stream",
     "text": [
      "11/15/2023 09:43:53 AM - Article `download()` failed with 403 Client Error: Forbidden for url: https://www.pnas.org/doi/10.1073/pnas.2110348119 on URL https://news.google.com/rss/articles/CBMiMGh0dHBzOi8vd3d3LnBuYXMub3JnL2RvaS8xMC4xMDczL3BuYXMuMjExMDM0ODExOdIBAA?oc=5&hl=en-US&gl=US&ceid=US:en\n"
     ]
    },
    {
     "name": "stdout",
     "output_type": "stream",
     "text": [
      "-- None\n"
     ]
    },
    {
     "name": "stderr",
     "output_type": "stream",
     "text": [
      "11/15/2023 09:43:54 AM - 2\n"
     ]
    },
    {
     "name": "stdout",
     "output_type": "stream",
     "text": [
      "-- None\n"
     ]
    },
    {
     "name": "stderr",
     "output_type": "stream",
     "text": [
      "11/15/2023 09:43:56 AM - 2\n"
     ]
    },
    {
     "name": "stdout",
     "output_type": "stream",
     "text": [
      "-- None\n"
     ]
    },
    {
     "name": "stderr",
     "output_type": "stream",
     "text": [
      "11/15/2023 09:44:07 AM - 2\n"
     ]
    },
    {
     "name": "stdout",
     "output_type": "stream",
     "text": [
      "-- None\n"
     ]
    },
    {
     "name": "stderr",
     "output_type": "stream",
     "text": [
      "11/15/2023 09:44:08 AM - 2\n"
     ]
    },
    {
     "name": "stdout",
     "output_type": "stream",
     "text": [
      "-- None\n"
     ]
    },
    {
     "name": "stderr",
     "output_type": "stream",
     "text": [
      "11/15/2023 09:44:09 AM - 2\n"
     ]
    },
    {
     "name": "stdout",
     "output_type": "stream",
     "text": [
      "-- None\n"
     ]
    },
    {
     "name": "stderr",
     "output_type": "stream",
     "text": [
      "11/15/2023 09:44:11 AM - 2\n"
     ]
    },
    {
     "name": "stdout",
     "output_type": "stream",
     "text": [
      "-- None\n"
     ]
    },
    {
     "name": "stderr",
     "output_type": "stream",
     "text": [
      "11/15/2023 09:44:13 AM - 2\n"
     ]
    },
    {
     "name": "stdout",
     "output_type": "stream",
     "text": [
      "-- None\n"
     ]
    },
    {
     "name": "stderr",
     "output_type": "stream",
     "text": [
      "11/15/2023 09:44:26 AM - 2\n"
     ]
    },
    {
     "name": "stdout",
     "output_type": "stream",
     "text": [
      "-- None\n"
     ]
    },
    {
     "name": "stderr",
     "output_type": "stream",
     "text": [
      "11/15/2023 09:44:28 AM - 2\n"
     ]
    },
    {
     "name": "stdout",
     "output_type": "stream",
     "text": [
      "-- None\n"
     ]
    },
    {
     "name": "stderr",
     "output_type": "stream",
     "text": [
      "11/15/2023 09:44:29 AM - 2\n"
     ]
    },
    {
     "name": "stdout",
     "output_type": "stream",
     "text": [
      "-- None\n"
     ]
    },
    {
     "name": "stderr",
     "output_type": "stream",
     "text": [
      "11/15/2023 09:44:31 AM - 2\n"
     ]
    },
    {
     "name": "stdout",
     "output_type": "stream",
     "text": [
      "-- None\n"
     ]
    },
    {
     "name": "stderr",
     "output_type": "stream",
     "text": [
      "11/15/2023 09:44:43 AM - 2\n"
     ]
    },
    {
     "name": "stdout",
     "output_type": "stream",
     "text": [
      "-- None\n"
     ]
    },
    {
     "name": "stderr",
     "output_type": "stream",
     "text": [
      "11/15/2023 09:44:44 AM - Article `download()` failed with 403 Client Error: Forbidden for url: https://www.pnas.org/doi/10.1073/pnas.2202015119 on URL https://news.google.com/rss/articles/CBMiMGh0dHBzOi8vd3d3LnBuYXMub3JnL2RvaS8xMC4xMDczL3BuYXMuMjIwMjAxNTExOdIBAA?oc=5&hl=en-US&gl=US&ceid=US:en\n"
     ]
    },
    {
     "name": "stdout",
     "output_type": "stream",
     "text": [
      "-- None\n"
     ]
    },
    {
     "name": "stderr",
     "output_type": "stream",
     "text": [
      "11/15/2023 09:44:55 AM - 2\n"
     ]
    },
    {
     "name": "stdout",
     "output_type": "stream",
     "text": [
      "-- None\n"
     ]
    },
    {
     "name": "stderr",
     "output_type": "stream",
     "text": [
      "11/15/2023 09:44:57 AM - 2\n"
     ]
    },
    {
     "name": "stdout",
     "output_type": "stream",
     "text": [
      "-- None\n"
     ]
    },
    {
     "name": "stderr",
     "output_type": "stream",
     "text": [
      "11/15/2023 09:44:58 AM - 2\n"
     ]
    },
    {
     "name": "stdout",
     "output_type": "stream",
     "text": [
      "-- None\n"
     ]
    },
    {
     "name": "stderr",
     "output_type": "stream",
     "text": [
      "11/15/2023 09:44:58 AM - Article `download()` failed with 403 Client Error: Forbidden for url: https://www.pnas.org/doi/10.1073/pnas.2208461119 on URL https://news.google.com/rss/articles/CBMiMGh0dHBzOi8vd3d3LnBuYXMub3JnL2RvaS8xMC4xMDczL3BuYXMuMjIwODQ2MTExOdIBAA?oc=5&hl=en-US&gl=US&ceid=US:en\n"
     ]
    },
    {
     "name": "stdout",
     "output_type": "stream",
     "text": [
      "-- None\n"
     ]
    },
    {
     "name": "stderr",
     "output_type": "stream",
     "text": [
      "11/15/2023 09:44:59 AM - 2\n"
     ]
    },
    {
     "name": "stdout",
     "output_type": "stream",
     "text": [
      "-- None\n"
     ]
    },
    {
     "name": "stderr",
     "output_type": "stream",
     "text": [
      "11/15/2023 09:45:11 AM - 2\n"
     ]
    },
    {
     "name": "stdout",
     "output_type": "stream",
     "text": [
      "-- None\n"
     ]
    },
    {
     "name": "stderr",
     "output_type": "stream",
     "text": [
      "11/15/2023 09:45:12 AM - 2\n"
     ]
    },
    {
     "name": "stdout",
     "output_type": "stream",
     "text": [
      "-- None\n"
     ]
    },
    {
     "name": "stderr",
     "output_type": "stream",
     "text": [
      "11/15/2023 09:45:12 AM - 2\n"
     ]
    },
    {
     "name": "stdout",
     "output_type": "stream",
     "text": [
      "-- None\n"
     ]
    },
    {
     "name": "stderr",
     "output_type": "stream",
     "text": [
      "11/15/2023 09:45:14 AM - 2\n"
     ]
    },
    {
     "name": "stdout",
     "output_type": "stream",
     "text": [
      "-- None\n"
     ]
    },
    {
     "name": "stderr",
     "output_type": "stream",
     "text": [
      "11/15/2023 09:45:26 AM - 2\n"
     ]
    },
    {
     "name": "stdout",
     "output_type": "stream",
     "text": [
      "-- None\n"
     ]
    },
    {
     "name": "stderr",
     "output_type": "stream",
     "text": [
      "11/15/2023 09:45:27 AM - 2\n"
     ]
    },
    {
     "name": "stdout",
     "output_type": "stream",
     "text": [
      "-- None\n"
     ]
    },
    {
     "name": "stderr",
     "output_type": "stream",
     "text": [
      "11/15/2023 09:45:28 AM - 2\n"
     ]
    },
    {
     "name": "stdout",
     "output_type": "stream",
     "text": [
      "-- None\n"
     ]
    },
    {
     "name": "stderr",
     "output_type": "stream",
     "text": [
      "11/15/2023 09:45:30 AM - 2\n"
     ]
    },
    {
     "name": "stdout",
     "output_type": "stream",
     "text": [
      "-- None\n"
     ]
    },
    {
     "name": "stderr",
     "output_type": "stream",
     "text": [
      "11/15/2023 09:45:30 AM - 2\n"
     ]
    },
    {
     "name": "stdout",
     "output_type": "stream",
     "text": [
      "-- None\n"
     ]
    },
    {
     "name": "stderr",
     "output_type": "stream",
     "text": [
      "11/15/2023 09:45:44 AM - 2\n"
     ]
    },
    {
     "name": "stdout",
     "output_type": "stream",
     "text": [
      "-- None\n"
     ]
    },
    {
     "name": "stderr",
     "output_type": "stream",
     "text": [
      "11/15/2023 09:45:45 AM - 2\n"
     ]
    },
    {
     "name": "stdout",
     "output_type": "stream",
     "text": [
      "-- None\n"
     ]
    },
    {
     "name": "stderr",
     "output_type": "stream",
     "text": [
      "11/15/2023 09:45:46 AM - 2\n"
     ]
    },
    {
     "name": "stdout",
     "output_type": "stream",
     "text": [
      "-- None\n"
     ]
    },
    {
     "name": "stderr",
     "output_type": "stream",
     "text": [
      "11/15/2023 09:45:49 AM - 2\n"
     ]
    },
    {
     "name": "stdout",
     "output_type": "stream",
     "text": [
      "-- None\n"
     ]
    },
    {
     "name": "stderr",
     "output_type": "stream",
     "text": [
      "11/15/2023 09:45:51 AM - 2\n"
     ]
    },
    {
     "name": "stdout",
     "output_type": "stream",
     "text": [
      "-- None\n"
     ]
    },
    {
     "name": "stderr",
     "output_type": "stream",
     "text": [
      "11/15/2023 09:46:04 AM - 2\n"
     ]
    },
    {
     "name": "stdout",
     "output_type": "stream",
     "text": [
      "-- None\n"
     ]
    },
    {
     "name": "stderr",
     "output_type": "stream",
     "text": [
      "11/15/2023 09:46:04 AM - Article `download()` failed with 403 Client Error: Forbidden for url: https://www.science.org/doi/10.1126/sciadv.abn0071 on URL https://news.google.com/rss/articles/CBMiMmh0dHBzOi8vd3d3LnNjaWVuY2Uub3JnL2RvaS8xMC4xMTI2L3NjaWFkdi5hYm4wMDcx0gEA?oc=5&hl=en-US&gl=US&ceid=US:en\n"
     ]
    },
    {
     "name": "stdout",
     "output_type": "stream",
     "text": [
      "-- None\n"
     ]
    },
    {
     "name": "stderr",
     "output_type": "stream",
     "text": [
      "11/15/2023 09:46:06 AM - 2\n"
     ]
    },
    {
     "name": "stdout",
     "output_type": "stream",
     "text": [
      "-- None\n"
     ]
    },
    {
     "name": "stderr",
     "output_type": "stream",
     "text": [
      "11/15/2023 09:46:08 AM - 2\n"
     ]
    },
    {
     "name": "stdout",
     "output_type": "stream",
     "text": [
      "-- None\n"
     ]
    },
    {
     "name": "stderr",
     "output_type": "stream",
     "text": [
      "11/15/2023 09:46:10 AM - 2\n"
     ]
    },
    {
     "name": "stdout",
     "output_type": "stream",
     "text": [
      "-- None\n"
     ]
    },
    {
     "name": "stderr",
     "output_type": "stream",
     "text": [
      "11/15/2023 09:46:22 AM - 2\n"
     ]
    },
    {
     "name": "stdout",
     "output_type": "stream",
     "text": [
      "-- None\n"
     ]
    },
    {
     "name": "stderr",
     "output_type": "stream",
     "text": [
      "11/15/2023 09:46:24 AM - 2\n"
     ]
    },
    {
     "name": "stdout",
     "output_type": "stream",
     "text": [
      "-- None\n"
     ]
    },
    {
     "name": "stderr",
     "output_type": "stream",
     "text": [
      "11/15/2023 09:46:26 AM - 2\n"
     ]
    },
    {
     "name": "stdout",
     "output_type": "stream",
     "text": [
      "-- None\n"
     ]
    },
    {
     "name": "stderr",
     "output_type": "stream",
     "text": [
      "11/15/2023 09:46:39 AM - 2\n"
     ]
    },
    {
     "name": "stdout",
     "output_type": "stream",
     "text": [
      "-- None\n"
     ]
    },
    {
     "name": "stderr",
     "output_type": "stream",
     "text": [
      "11/15/2023 09:46:39 AM - Article `download()` failed with 403 Client Error: Forbidden for url: https://www.pnas.org/doi/10.1073/pnas.2203672119 on URL https://news.google.com/rss/articles/CBMiMGh0dHBzOi8vd3d3LnBuYXMub3JnL2RvaS8xMC4xMDczL3BuYXMuMjIwMzY3MjExOdIBAA?oc=5&hl=en-US&gl=US&ceid=US:en\n"
     ]
    },
    {
     "name": "stdout",
     "output_type": "stream",
     "text": [
      "-- None\n"
     ]
    },
    {
     "name": "stderr",
     "output_type": "stream",
     "text": [
      "11/15/2023 09:46:40 AM - 2\n"
     ]
    },
    {
     "name": "stdout",
     "output_type": "stream",
     "text": [
      "-- None\n"
     ]
    },
    {
     "name": "stderr",
     "output_type": "stream",
     "text": [
      "11/15/2023 09:46:53 AM - 2\n"
     ]
    },
    {
     "name": "stdout",
     "output_type": "stream",
     "text": [
      "-- None\n"
     ]
    },
    {
     "name": "stderr",
     "output_type": "stream",
     "text": [
      "11/15/2023 09:46:54 AM - 2\n"
     ]
    },
    {
     "name": "stdout",
     "output_type": "stream",
     "text": [
      "-- None\n"
     ]
    },
    {
     "name": "stderr",
     "output_type": "stream",
     "text": [
      "11/15/2023 09:46:56 AM - 2\n"
     ]
    },
    {
     "name": "stdout",
     "output_type": "stream",
     "text": [
      "-- None\n"
     ]
    },
    {
     "name": "stderr",
     "output_type": "stream",
     "text": [
      "11/15/2023 09:46:58 AM - 2\n"
     ]
    },
    {
     "name": "stdout",
     "output_type": "stream",
     "text": [
      "-- None\n"
     ]
    },
    {
     "name": "stderr",
     "output_type": "stream",
     "text": [
      "11/15/2023 09:47:00 AM - 2\n"
     ]
    },
    {
     "name": "stdout",
     "output_type": "stream",
     "text": [
      "-- None\n"
     ]
    },
    {
     "name": "stderr",
     "output_type": "stream",
     "text": [
      "11/15/2023 09:47:12 AM - 2\n"
     ]
    },
    {
     "name": "stdout",
     "output_type": "stream",
     "text": [
      "-- None\n"
     ]
    },
    {
     "name": "stderr",
     "output_type": "stream",
     "text": [
      "11/15/2023 09:47:13 AM - 2\n"
     ]
    },
    {
     "name": "stdout",
     "output_type": "stream",
     "text": [
      "-- None\n"
     ]
    },
    {
     "name": "stderr",
     "output_type": "stream",
     "text": [
      "11/15/2023 09:47:13 AM - 2\n"
     ]
    },
    {
     "name": "stdout",
     "output_type": "stream",
     "text": [
      "-- None\n"
     ]
    },
    {
     "name": "stderr",
     "output_type": "stream",
     "text": [
      "11/15/2023 09:47:15 AM - 2\n"
     ]
    },
    {
     "name": "stdout",
     "output_type": "stream",
     "text": [
      "-- None\n"
     ]
    },
    {
     "name": "stderr",
     "output_type": "stream",
     "text": [
      "11/15/2023 09:47:16 AM - 2\n"
     ]
    },
    {
     "name": "stdout",
     "output_type": "stream",
     "text": [
      "-- None\n"
     ]
    },
    {
     "name": "stderr",
     "output_type": "stream",
     "text": [
      "11/15/2023 09:47:27 AM - 2\n"
     ]
    },
    {
     "name": "stdout",
     "output_type": "stream",
     "text": [
      "-- None\n"
     ]
    },
    {
     "name": "stderr",
     "output_type": "stream",
     "text": [
      "11/15/2023 09:47:28 AM - 2\n"
     ]
    },
    {
     "name": "stdout",
     "output_type": "stream",
     "text": [
      "-- None\n"
     ]
    },
    {
     "name": "stderr",
     "output_type": "stream",
     "text": [
      "11/15/2023 09:47:29 AM - 2\n"
     ]
    },
    {
     "name": "stdout",
     "output_type": "stream",
     "text": [
      "-- None\n"
     ]
    },
    {
     "name": "stderr",
     "output_type": "stream",
     "text": [
      "11/15/2023 09:47:30 AM - 2\n"
     ]
    },
    {
     "name": "stdout",
     "output_type": "stream",
     "text": [
      "-- None\n"
     ]
    },
    {
     "name": "stderr",
     "output_type": "stream",
     "text": [
      "11/15/2023 09:47:45 AM - 2\n"
     ]
    },
    {
     "name": "stdout",
     "output_type": "stream",
     "text": [
      "-- None\n"
     ]
    },
    {
     "name": "stderr",
     "output_type": "stream",
     "text": [
      "11/15/2023 09:47:47 AM - 2\n"
     ]
    },
    {
     "name": "stdout",
     "output_type": "stream",
     "text": [
      "-- None\n"
     ]
    },
    {
     "name": "stderr",
     "output_type": "stream",
     "text": [
      "11/15/2023 09:47:49 AM - 2\n"
     ]
    },
    {
     "name": "stdout",
     "output_type": "stream",
     "text": [
      "-- None\n"
     ]
    },
    {
     "name": "stderr",
     "output_type": "stream",
     "text": [
      "11/15/2023 09:47:51 AM - 2\n"
     ]
    },
    {
     "name": "stdout",
     "output_type": "stream",
     "text": [
      "-- None\n"
     ]
    },
    {
     "name": "stderr",
     "output_type": "stream",
     "text": [
      "11/15/2023 09:47:52 AM - 2\n"
     ]
    },
    {
     "name": "stdout",
     "output_type": "stream",
     "text": [
      "-- None\n"
     ]
    },
    {
     "name": "stderr",
     "output_type": "stream",
     "text": [
      "11/15/2023 09:48:04 AM - 2\n"
     ]
    },
    {
     "name": "stdout",
     "output_type": "stream",
     "text": [
      "-- None\n"
     ]
    },
    {
     "name": "stderr",
     "output_type": "stream",
     "text": [
      "11/15/2023 09:48:05 AM - 2\n"
     ]
    },
    {
     "name": "stdout",
     "output_type": "stream",
     "text": [
      "-- None\n"
     ]
    },
    {
     "name": "stderr",
     "output_type": "stream",
     "text": [
      "11/15/2023 09:48:07 AM - 2\n"
     ]
    },
    {
     "name": "stdout",
     "output_type": "stream",
     "text": [
      "-- None\n"
     ]
    },
    {
     "name": "stderr",
     "output_type": "stream",
     "text": [
      "11/15/2023 09:48:08 AM - 2\n"
     ]
    },
    {
     "name": "stdout",
     "output_type": "stream",
     "text": [
      "-- None\n"
     ]
    },
    {
     "name": "stderr",
     "output_type": "stream",
     "text": [
      "11/15/2023 09:48:09 AM - 2\n"
     ]
    },
    {
     "name": "stdout",
     "output_type": "stream",
     "text": [
      "-- None\n"
     ]
    },
    {
     "name": "stderr",
     "output_type": "stream",
     "text": [
      "11/15/2023 09:48:22 AM - 2\n"
     ]
    },
    {
     "name": "stdout",
     "output_type": "stream",
     "text": [
      "-- None\n"
     ]
    },
    {
     "name": "stderr",
     "output_type": "stream",
     "text": [
      "11/15/2023 09:48:23 AM - 2\n"
     ]
    },
    {
     "name": "stdout",
     "output_type": "stream",
     "text": [
      "-- None\n"
     ]
    },
    {
     "name": "stderr",
     "output_type": "stream",
     "text": [
      "11/15/2023 09:48:25 AM - 2\n"
     ]
    },
    {
     "name": "stdout",
     "output_type": "stream",
     "text": [
      "-- None\n"
     ]
    },
    {
     "name": "stderr",
     "output_type": "stream",
     "text": [
      "11/15/2023 09:48:27 AM - 2\n"
     ]
    },
    {
     "name": "stdout",
     "output_type": "stream",
     "text": [
      "-- None\n"
     ]
    },
    {
     "name": "stderr",
     "output_type": "stream",
     "text": [
      "11/15/2023 09:48:27 AM - 2\n"
     ]
    },
    {
     "name": "stdout",
     "output_type": "stream",
     "text": [
      "-- None\n"
     ]
    },
    {
     "name": "stderr",
     "output_type": "stream",
     "text": [
      "11/15/2023 09:48:39 AM - 2\n"
     ]
    },
    {
     "name": "stdout",
     "output_type": "stream",
     "text": [
      "-- None\n"
     ]
    },
    {
     "name": "stderr",
     "output_type": "stream",
     "text": [
      "11/15/2023 09:48:51 AM - 2\n"
     ]
    },
    {
     "name": "stdout",
     "output_type": "stream",
     "text": [
      "-- None\n"
     ]
    },
    {
     "name": "stderr",
     "output_type": "stream",
     "text": [
      "11/15/2023 09:48:52 AM - 2\n"
     ]
    },
    {
     "name": "stdout",
     "output_type": "stream",
     "text": [
      "-- None\n"
     ]
    },
    {
     "name": "stderr",
     "output_type": "stream",
     "text": [
      "11/15/2023 09:48:54 AM - 2\n"
     ]
    },
    {
     "name": "stdout",
     "output_type": "stream",
     "text": [
      "-- None\n"
     ]
    },
    {
     "name": "stderr",
     "output_type": "stream",
     "text": [
      "11/15/2023 09:48:55 AM - 2\n"
     ]
    },
    {
     "name": "stdout",
     "output_type": "stream",
     "text": [
      "-- None\n"
     ]
    },
    {
     "name": "stderr",
     "output_type": "stream",
     "text": [
      "11/15/2023 09:48:57 AM - 2\n"
     ]
    },
    {
     "name": "stdout",
     "output_type": "stream",
     "text": [
      "-- None\n"
     ]
    },
    {
     "name": "stderr",
     "output_type": "stream",
     "text": [
      "11/15/2023 09:49:09 AM - 2\n"
     ]
    },
    {
     "name": "stdout",
     "output_type": "stream",
     "text": [
      "-- None\n"
     ]
    },
    {
     "name": "stderr",
     "output_type": "stream",
     "text": [
      "11/15/2023 09:49:09 AM - 2\n"
     ]
    },
    {
     "name": "stdout",
     "output_type": "stream",
     "text": [
      "-- None\n"
     ]
    },
    {
     "name": "stderr",
     "output_type": "stream",
     "text": [
      "11/15/2023 09:49:11 AM - 2\n"
     ]
    },
    {
     "name": "stdout",
     "output_type": "stream",
     "text": [
      "-- None\n"
     ]
    },
    {
     "name": "stderr",
     "output_type": "stream",
     "text": [
      "11/15/2023 09:49:13 AM - 2\n"
     ]
    },
    {
     "name": "stdout",
     "output_type": "stream",
     "text": [
      "-- None\n"
     ]
    },
    {
     "name": "stderr",
     "output_type": "stream",
     "text": [
      "11/15/2023 09:49:15 AM - 2\n"
     ]
    },
    {
     "name": "stdout",
     "output_type": "stream",
     "text": [
      "-- None\n"
     ]
    },
    {
     "name": "stderr",
     "output_type": "stream",
     "text": [
      "11/15/2023 09:49:28 AM - 2\n"
     ]
    },
    {
     "name": "stdout",
     "output_type": "stream",
     "text": [
      "-- None\n"
     ]
    },
    {
     "name": "stderr",
     "output_type": "stream",
     "text": [
      "11/15/2023 09:49:29 AM - 2\n"
     ]
    },
    {
     "name": "stdout",
     "output_type": "stream",
     "text": [
      "-- None\n"
     ]
    },
    {
     "name": "stderr",
     "output_type": "stream",
     "text": [
      "11/15/2023 09:49:30 AM - 2\n"
     ]
    },
    {
     "name": "stdout",
     "output_type": "stream",
     "text": [
      "-- None\n"
     ]
    },
    {
     "name": "stderr",
     "output_type": "stream",
     "text": [
      "11/15/2023 09:49:31 AM - Article `download()` failed with 403 Client Error: Forbidden for url: https://www.360dx.com/business-news/estonian-polygenic-risk-score-firm-antegenes-raises-eu23m-seed-financing-government on URL https://news.google.com/rss/articles/CBMid2h0dHBzOi8vd3d3LjM2MGR4LmNvbS9idXNpbmVzcy1uZXdzL2VzdG9uaWFuLXBvbHlnZW5pYy1yaXNrLXNjb3JlLWZpcm0tYW50ZWdlbmVzLXJhaXNlcy1ldTIzbS1zZWVkLWZpbmFuY2luZy1nb3Zlcm5tZW500gEA?oc=5&hl=en-US&gl=US&ceid=US:en\n"
     ]
    },
    {
     "name": "stdout",
     "output_type": "stream",
     "text": [
      "-- None\n"
     ]
    },
    {
     "name": "stderr",
     "output_type": "stream",
     "text": [
      "11/15/2023 09:49:33 AM - 2\n"
     ]
    },
    {
     "name": "stdout",
     "output_type": "stream",
     "text": [
      "-- None\n"
     ]
    },
    {
     "name": "stderr",
     "output_type": "stream",
     "text": [
      "11/15/2023 09:49:45 AM - 2\n"
     ]
    },
    {
     "name": "stdout",
     "output_type": "stream",
     "text": [
      "-- None\n"
     ]
    },
    {
     "name": "stderr",
     "output_type": "stream",
     "text": [
      "11/15/2023 09:49:47 AM - 2\n"
     ]
    },
    {
     "name": "stdout",
     "output_type": "stream",
     "text": [
      "-- None\n"
     ]
    },
    {
     "name": "stderr",
     "output_type": "stream",
     "text": [
      "11/15/2023 09:49:47 AM - Article `download()` failed with 403 Client Error: Forbidden for url: https://www.bizjournals.com/buffalo/news/2022/08/04/thermo-fisher-scientific-grand-island.html on URL https://news.google.com/rss/articles/CBMiXmh0dHBzOi8vd3d3LmJpempvdXJuYWxzLmNvbS9idWZmYWxvL25ld3MvMjAyMi8wOC8wNC90aGVybW8tZmlzaGVyLXNjaWVudGlmaWMtZ3JhbmQtaXNsYW5kLmh0bWzSAQA?oc=5&hl=en-US&gl=US&ceid=US:en\n"
     ]
    },
    {
     "name": "stdout",
     "output_type": "stream",
     "text": [
      "-- None\n"
     ]
    },
    {
     "name": "stderr",
     "output_type": "stream",
     "text": [
      "11/15/2023 09:49:48 AM - 2\n"
     ]
    },
    {
     "name": "stdout",
     "output_type": "stream",
     "text": [
      "-- None\n"
     ]
    },
    {
     "name": "stderr",
     "output_type": "stream",
     "text": [
      "11/15/2023 09:49:49 AM - 2\n"
     ]
    },
    {
     "name": "stdout",
     "output_type": "stream",
     "text": [
      "-- None\n"
     ]
    },
    {
     "name": "stderr",
     "output_type": "stream",
     "text": [
      "11/15/2023 09:50:01 AM - 2\n"
     ]
    },
    {
     "name": "stdout",
     "output_type": "stream",
     "text": [
      "-- None\n"
     ]
    },
    {
     "name": "stderr",
     "output_type": "stream",
     "text": [
      "11/15/2023 09:50:04 AM - 2\n"
     ]
    },
    {
     "name": "stdout",
     "output_type": "stream",
     "text": [
      "-- None\n"
     ]
    },
    {
     "name": "stderr",
     "output_type": "stream",
     "text": [
      "11/15/2023 09:50:06 AM - 2\n"
     ]
    },
    {
     "name": "stdout",
     "output_type": "stream",
     "text": [
      "-- None\n"
     ]
    },
    {
     "name": "stderr",
     "output_type": "stream",
     "text": [
      "11/15/2023 09:50:07 AM - 2\n"
     ]
    },
    {
     "name": "stdout",
     "output_type": "stream",
     "text": [
      "-- None\n"
     ]
    },
    {
     "name": "stderr",
     "output_type": "stream",
     "text": [
      "11/15/2023 09:50:09 AM - 2\n"
     ]
    },
    {
     "name": "stdout",
     "output_type": "stream",
     "text": [
      "-- None\n"
     ]
    },
    {
     "name": "stderr",
     "output_type": "stream",
     "text": [
      "11/15/2023 09:50:34 AM - 2\n"
     ]
    },
    {
     "name": "stdout",
     "output_type": "stream",
     "text": [
      "-- None\n"
     ]
    },
    {
     "name": "stderr",
     "output_type": "stream",
     "text": [
      "11/15/2023 09:50:35 AM - Article `download()` failed with 403 Client Error: Forbidden for url: https://www.pnas.org/doi/10.1073/pnas.2201483119 on URL https://news.google.com/rss/articles/CBMiMGh0dHBzOi8vd3d3LnBuYXMub3JnL2RvaS8xMC4xMDczL3BuYXMuMjIwMTQ4MzExOdIBAA?oc=5&hl=en-US&gl=US&ceid=US:en\n"
     ]
    },
    {
     "name": "stdout",
     "output_type": "stream",
     "text": [
      "-- None\n"
     ]
    },
    {
     "name": "stderr",
     "output_type": "stream",
     "text": [
      "11/15/2023 09:50:37 AM - 2\n"
     ]
    },
    {
     "name": "stdout",
     "output_type": "stream",
     "text": [
      "-- None\n"
     ]
    },
    {
     "name": "stderr",
     "output_type": "stream",
     "text": [
      "11/15/2023 09:50:51 AM - 2\n"
     ]
    },
    {
     "name": "stdout",
     "output_type": "stream",
     "text": [
      "-- None\n"
     ]
    },
    {
     "name": "stderr",
     "output_type": "stream",
     "text": [
      "11/15/2023 09:50:52 AM - 2\n"
     ]
    },
    {
     "name": "stdout",
     "output_type": "stream",
     "text": [
      "-- None\n"
     ]
    },
    {
     "name": "stderr",
     "output_type": "stream",
     "text": [
      "11/15/2023 09:50:55 AM - 2\n"
     ]
    },
    {
     "name": "stdout",
     "output_type": "stream",
     "text": [
      "-- None\n"
     ]
    },
    {
     "name": "stderr",
     "output_type": "stream",
     "text": [
      "11/15/2023 09:50:57 AM - 2\n"
     ]
    },
    {
     "name": "stdout",
     "output_type": "stream",
     "text": [
      "-- None\n"
     ]
    },
    {
     "name": "stderr",
     "output_type": "stream",
     "text": [
      "11/15/2023 09:50:59 AM - 2\n"
     ]
    },
    {
     "name": "stdout",
     "output_type": "stream",
     "text": [
      "-- None\n"
     ]
    },
    {
     "name": "stderr",
     "output_type": "stream",
     "text": [
      "11/15/2023 09:51:11 AM - 2\n"
     ]
    },
    {
     "name": "stdout",
     "output_type": "stream",
     "text": [
      "-- None\n"
     ]
    },
    {
     "name": "stderr",
     "output_type": "stream",
     "text": [
      "11/15/2023 09:51:11 AM - 2\n"
     ]
    },
    {
     "name": "stdout",
     "output_type": "stream",
     "text": [
      "-- None\n"
     ]
    },
    {
     "name": "stderr",
     "output_type": "stream",
     "text": [
      "11/15/2023 09:51:13 AM - 2\n"
     ]
    },
    {
     "name": "stdout",
     "output_type": "stream",
     "text": [
      "-- None\n"
     ]
    },
    {
     "name": "stderr",
     "output_type": "stream",
     "text": [
      "11/15/2023 09:51:27 AM - 2\n"
     ]
    },
    {
     "name": "stdout",
     "output_type": "stream",
     "text": [
      "-- None\n"
     ]
    },
    {
     "name": "stderr",
     "output_type": "stream",
     "text": [
      "11/15/2023 09:51:28 AM - 2\n"
     ]
    },
    {
     "name": "stdout",
     "output_type": "stream",
     "text": [
      "-- None\n"
     ]
    },
    {
     "name": "stderr",
     "output_type": "stream",
     "text": [
      "11/15/2023 09:51:31 AM - 2\n"
     ]
    },
    {
     "name": "stdout",
     "output_type": "stream",
     "text": [
      "-- None\n"
     ]
    },
    {
     "name": "stderr",
     "output_type": "stream",
     "text": [
      "11/15/2023 09:51:33 AM - 2\n"
     ]
    },
    {
     "name": "stdout",
     "output_type": "stream",
     "text": [
      "-- None\n"
     ]
    },
    {
     "name": "stderr",
     "output_type": "stream",
     "text": [
      "11/15/2023 09:51:33 AM - Article `download()` failed with 403 Client Error: Forbidden for url: https://www.science.org/doi/10.1126/scitranslmed.abl9605 on URL https://news.google.com/rss/articles/CBMiOGh0dHBzOi8vd3d3LnNjaWVuY2Uub3JnL2RvaS8xMC4xMTI2L3NjaXRyYW5zbG1lZC5hYmw5NjA10gEA?oc=5&hl=en-US&gl=US&ceid=US:en\n"
     ]
    },
    {
     "name": "stdout",
     "output_type": "stream",
     "text": [
      "-- None\n"
     ]
    },
    {
     "name": "stderr",
     "output_type": "stream",
     "text": [
      "11/15/2023 09:51:46 AM - 2\n"
     ]
    },
    {
     "name": "stdout",
     "output_type": "stream",
     "text": [
      "-- None\n"
     ]
    },
    {
     "name": "stderr",
     "output_type": "stream",
     "text": [
      "11/15/2023 09:51:48 AM - 2\n"
     ]
    },
    {
     "name": "stdout",
     "output_type": "stream",
     "text": [
      "-- None\n"
     ]
    },
    {
     "name": "stderr",
     "output_type": "stream",
     "text": [
      "11/15/2023 09:51:49 AM - 2\n"
     ]
    },
    {
     "name": "stdout",
     "output_type": "stream",
     "text": [
      "-- None\n"
     ]
    },
    {
     "name": "stderr",
     "output_type": "stream",
     "text": [
      "11/15/2023 09:51:49 AM - 2\n"
     ]
    },
    {
     "name": "stdout",
     "output_type": "stream",
     "text": [
      "-- None\n"
     ]
    },
    {
     "name": "stderr",
     "output_type": "stream",
     "text": [
      "11/15/2023 09:51:51 AM - 2\n"
     ]
    },
    {
     "name": "stdout",
     "output_type": "stream",
     "text": [
      "-- None\n"
     ]
    },
    {
     "name": "stderr",
     "output_type": "stream",
     "text": [
      "11/15/2023 09:52:04 AM - 2\n"
     ]
    },
    {
     "name": "stdout",
     "output_type": "stream",
     "text": [
      "-- None\n"
     ]
    },
    {
     "name": "stderr",
     "output_type": "stream",
     "text": [
      "11/15/2023 09:52:04 AM - Article `download()` failed with 403 Client Error: Forbidden for url: https://ascopubs.org/doi/abs/10.1200/JCO.21.02911 on URL https://news.google.com/rss/articles/CBMiMWh0dHBzOi8vYXNjb3B1YnMub3JnL2RvaS9hYnMvMTAuMTIwMC9KQ08uMjEuMDI5MTHSAQA?oc=5&hl=en-US&gl=US&ceid=US:en\n"
     ]
    },
    {
     "name": "stdout",
     "output_type": "stream",
     "text": [
      "-- None\n"
     ]
    },
    {
     "name": "stderr",
     "output_type": "stream",
     "text": [
      "11/15/2023 09:52:06 AM - 2\n"
     ]
    },
    {
     "name": "stdout",
     "output_type": "stream",
     "text": [
      "-- None\n"
     ]
    },
    {
     "name": "stderr",
     "output_type": "stream",
     "text": [
      "11/15/2023 09:52:08 AM - 2\n"
     ]
    },
    {
     "name": "stdout",
     "output_type": "stream",
     "text": [
      "-- None\n"
     ]
    },
    {
     "name": "stderr",
     "output_type": "stream",
     "text": [
      "11/15/2023 09:52:10 AM - 2\n"
     ]
    },
    {
     "name": "stdout",
     "output_type": "stream",
     "text": [
      "-- None\n"
     ]
    },
    {
     "name": "stderr",
     "output_type": "stream",
     "text": [
      "11/15/2023 09:52:22 AM - 2\n"
     ]
    },
    {
     "name": "stdout",
     "output_type": "stream",
     "text": [
      "-- None\n"
     ]
    },
    {
     "name": "stderr",
     "output_type": "stream",
     "text": [
      "11/15/2023 09:52:24 AM - 2\n"
     ]
    },
    {
     "name": "stdout",
     "output_type": "stream",
     "text": [
      "-- None\n"
     ]
    },
    {
     "name": "stderr",
     "output_type": "stream",
     "text": [
      "11/15/2023 09:52:54 AM - 2\n"
     ]
    },
    {
     "name": "stdout",
     "output_type": "stream",
     "text": [
      "-- None\n"
     ]
    },
    {
     "name": "stderr",
     "output_type": "stream",
     "text": [
      "11/15/2023 09:53:05 AM - 2\n"
     ]
    },
    {
     "name": "stdout",
     "output_type": "stream",
     "text": [
      "-- None\n"
     ]
    },
    {
     "name": "stderr",
     "output_type": "stream",
     "text": [
      "11/15/2023 09:53:08 AM - 2\n"
     ]
    },
    {
     "name": "stdout",
     "output_type": "stream",
     "text": [
      "-- None\n"
     ]
    },
    {
     "name": "stderr",
     "output_type": "stream",
     "text": [
      "11/15/2023 09:53:22 AM - 2\n"
     ]
    },
    {
     "name": "stdout",
     "output_type": "stream",
     "text": [
      "-- None\n"
     ]
    },
    {
     "name": "stderr",
     "output_type": "stream",
     "text": [
      "11/15/2023 09:53:23 AM - 2\n"
     ]
    },
    {
     "name": "stdout",
     "output_type": "stream",
     "text": [
      "-- None\n"
     ]
    },
    {
     "name": "stderr",
     "output_type": "stream",
     "text": [
      "11/15/2023 09:53:25 AM - 2\n"
     ]
    },
    {
     "name": "stdout",
     "output_type": "stream",
     "text": [
      "-- None\n"
     ]
    },
    {
     "name": "stderr",
     "output_type": "stream",
     "text": [
      "11/15/2023 09:53:27 AM - 2\n"
     ]
    },
    {
     "name": "stdout",
     "output_type": "stream",
     "text": [
      "-- None\n"
     ]
    },
    {
     "name": "stderr",
     "output_type": "stream",
     "text": [
      "11/15/2023 09:53:29 AM - 2\n"
     ]
    },
    {
     "name": "stdout",
     "output_type": "stream",
     "text": [
      "-- None\n"
     ]
    },
    {
     "name": "stderr",
     "output_type": "stream",
     "text": [
      "11/15/2023 09:53:40 AM - 2\n"
     ]
    },
    {
     "name": "stdout",
     "output_type": "stream",
     "text": [
      "-- None\n"
     ]
    },
    {
     "name": "stderr",
     "output_type": "stream",
     "text": [
      "11/15/2023 09:53:42 AM - 2\n"
     ]
    },
    {
     "name": "stdout",
     "output_type": "stream",
     "text": [
      "-- None\n"
     ]
    },
    {
     "name": "stderr",
     "output_type": "stream",
     "text": [
      "11/15/2023 09:53:45 AM - 2\n"
     ]
    },
    {
     "name": "stdout",
     "output_type": "stream",
     "text": [
      "-- None\n"
     ]
    },
    {
     "name": "stderr",
     "output_type": "stream",
     "text": [
      "11/15/2023 09:53:46 AM - 2\n"
     ]
    },
    {
     "name": "stdout",
     "output_type": "stream",
     "text": [
      "-- None\n"
     ]
    },
    {
     "name": "stderr",
     "output_type": "stream",
     "text": [
      "11/15/2023 09:53:58 AM - 2\n"
     ]
    },
    {
     "name": "stdout",
     "output_type": "stream",
     "text": [
      "-- None\n"
     ]
    },
    {
     "name": "stderr",
     "output_type": "stream",
     "text": [
      "11/15/2023 09:53:59 AM - 2\n"
     ]
    },
    {
     "name": "stdout",
     "output_type": "stream",
     "text": [
      "-- None\n"
     ]
    },
    {
     "name": "stderr",
     "output_type": "stream",
     "text": [
      "11/15/2023 09:54:00 AM - 2\n"
     ]
    },
    {
     "name": "stdout",
     "output_type": "stream",
     "text": [
      "-- None\n"
     ]
    },
    {
     "name": "stderr",
     "output_type": "stream",
     "text": [
      "11/15/2023 09:54:01 AM - 2\n"
     ]
    },
    {
     "name": "stdout",
     "output_type": "stream",
     "text": [
      "-- None\n"
     ]
    },
    {
     "name": "stderr",
     "output_type": "stream",
     "text": [
      "11/15/2023 09:54:02 AM - 2\n"
     ]
    },
    {
     "name": "stdout",
     "output_type": "stream",
     "text": [
      "-- None\n"
     ]
    },
    {
     "name": "stderr",
     "output_type": "stream",
     "text": [
      "11/15/2023 09:54:15 AM - 2\n"
     ]
    },
    {
     "name": "stdout",
     "output_type": "stream",
     "text": [
      "-- None\n"
     ]
    },
    {
     "name": "stderr",
     "output_type": "stream",
     "text": [
      "11/15/2023 09:54:17 AM - 2\n"
     ]
    },
    {
     "name": "stdout",
     "output_type": "stream",
     "text": [
      "-- None\n"
     ]
    },
    {
     "name": "stderr",
     "output_type": "stream",
     "text": [
      "11/15/2023 09:54:19 AM - 2\n"
     ]
    },
    {
     "name": "stdout",
     "output_type": "stream",
     "text": [
      "-- None\n"
     ]
    },
    {
     "name": "stderr",
     "output_type": "stream",
     "text": [
      "11/15/2023 09:54:20 AM - 2\n"
     ]
    },
    {
     "name": "stdout",
     "output_type": "stream",
     "text": [
      "-- None\n"
     ]
    },
    {
     "name": "stderr",
     "output_type": "stream",
     "text": [
      "11/15/2023 09:54:32 AM - 2\n"
     ]
    },
    {
     "name": "stdout",
     "output_type": "stream",
     "text": [
      "-- None\n"
     ]
    },
    {
     "name": "stderr",
     "output_type": "stream",
     "text": [
      "11/15/2023 09:54:34 AM - 2\n"
     ]
    },
    {
     "name": "stdout",
     "output_type": "stream",
     "text": [
      "-- None\n"
     ]
    },
    {
     "name": "stderr",
     "output_type": "stream",
     "text": [
      "11/15/2023 09:54:36 AM - 2\n"
     ]
    },
    {
     "name": "stdout",
     "output_type": "stream",
     "text": [
      "-- None\n"
     ]
    },
    {
     "name": "stderr",
     "output_type": "stream",
     "text": [
      "11/15/2023 09:54:37 AM - 2\n"
     ]
    },
    {
     "name": "stdout",
     "output_type": "stream",
     "text": [
      "-- None\n"
     ]
    },
    {
     "name": "stderr",
     "output_type": "stream",
     "text": [
      "11/15/2023 09:54:38 AM - 2\n"
     ]
    },
    {
     "name": "stdout",
     "output_type": "stream",
     "text": [
      "-- None\n"
     ]
    },
    {
     "name": "stderr",
     "output_type": "stream",
     "text": [
      "11/15/2023 09:54:51 AM - 2\n"
     ]
    },
    {
     "name": "stdout",
     "output_type": "stream",
     "text": [
      "-- None\n"
     ]
    },
    {
     "name": "stderr",
     "output_type": "stream",
     "text": [
      "11/15/2023 09:54:53 AM - 2\n"
     ]
    },
    {
     "name": "stdout",
     "output_type": "stream",
     "text": [
      "-- None\n"
     ]
    },
    {
     "name": "stderr",
     "output_type": "stream",
     "text": [
      "11/15/2023 09:54:54 AM - 2\n"
     ]
    },
    {
     "name": "stdout",
     "output_type": "stream",
     "text": [
      "-- None\n"
     ]
    },
    {
     "name": "stderr",
     "output_type": "stream",
     "text": [
      "11/15/2023 09:54:56 AM - 2\n"
     ]
    },
    {
     "name": "stdout",
     "output_type": "stream",
     "text": [
      "-- None\n"
     ]
    },
    {
     "name": "stderr",
     "output_type": "stream",
     "text": [
      "11/15/2023 09:54:57 AM - 2\n"
     ]
    },
    {
     "name": "stdout",
     "output_type": "stream",
     "text": [
      "-- None\n"
     ]
    },
    {
     "name": "stderr",
     "output_type": "stream",
     "text": [
      "11/15/2023 09:55:10 AM - 2\n"
     ]
    },
    {
     "name": "stdout",
     "output_type": "stream",
     "text": [
      "-- None\n"
     ]
    },
    {
     "name": "stderr",
     "output_type": "stream",
     "text": [
      "11/15/2023 09:56:09 AM - 2\n"
     ]
    },
    {
     "name": "stdout",
     "output_type": "stream",
     "text": [
      "-- None\n"
     ]
    },
    {
     "name": "stderr",
     "output_type": "stream",
     "text": [
      "11/15/2023 09:56:21 AM - 2\n"
     ]
    },
    {
     "name": "stdout",
     "output_type": "stream",
     "text": [
      "-- None\n"
     ]
    },
    {
     "name": "stderr",
     "output_type": "stream",
     "text": [
      "11/15/2023 09:56:22 AM - 2\n"
     ]
    },
    {
     "name": "stdout",
     "output_type": "stream",
     "text": [
      "-- None\n"
     ]
    },
    {
     "name": "stderr",
     "output_type": "stream",
     "text": [
      "11/15/2023 09:56:23 AM - 2\n"
     ]
    },
    {
     "name": "stdout",
     "output_type": "stream",
     "text": [
      "-- None\n"
     ]
    },
    {
     "name": "stderr",
     "output_type": "stream",
     "text": [
      "11/15/2023 09:56:25 AM - 2\n"
     ]
    },
    {
     "name": "stdout",
     "output_type": "stream",
     "text": [
      "-- None\n"
     ]
    },
    {
     "name": "stderr",
     "output_type": "stream",
     "text": [
      "11/15/2023 09:56:26 AM - 2\n"
     ]
    },
    {
     "name": "stdout",
     "output_type": "stream",
     "text": [
      "-- None\n"
     ]
    },
    {
     "name": "stderr",
     "output_type": "stream",
     "text": [
      "11/15/2023 09:56:39 AM - 2\n"
     ]
    },
    {
     "name": "stdout",
     "output_type": "stream",
     "text": [
      "-- None\n"
     ]
    },
    {
     "name": "stderr",
     "output_type": "stream",
     "text": [
      "11/15/2023 09:56:40 AM - 2\n"
     ]
    },
    {
     "name": "stdout",
     "output_type": "stream",
     "text": [
      "-- None\n"
     ]
    },
    {
     "name": "stderr",
     "output_type": "stream",
     "text": [
      "11/15/2023 09:56:42 AM - 2\n"
     ]
    },
    {
     "name": "stdout",
     "output_type": "stream",
     "text": [
      "-- None\n"
     ]
    },
    {
     "name": "stderr",
     "output_type": "stream",
     "text": [
      "11/15/2023 09:56:44 AM - 2\n"
     ]
    },
    {
     "name": "stdout",
     "output_type": "stream",
     "text": [
      "-- None\n"
     ]
    },
    {
     "name": "stderr",
     "output_type": "stream",
     "text": [
      "11/15/2023 09:56:48 AM - 2\n"
     ]
    },
    {
     "name": "stdout",
     "output_type": "stream",
     "text": [
      "-- None\n"
     ]
    },
    {
     "name": "stderr",
     "output_type": "stream",
     "text": [
      "11/15/2023 09:57:01 AM - 2\n"
     ]
    },
    {
     "name": "stdout",
     "output_type": "stream",
     "text": [
      "-- None\n"
     ]
    },
    {
     "name": "stderr",
     "output_type": "stream",
     "text": [
      "11/15/2023 09:57:01 AM - 2\n"
     ]
    },
    {
     "name": "stdout",
     "output_type": "stream",
     "text": [
      "-- None\n"
     ]
    },
    {
     "name": "stderr",
     "output_type": "stream",
     "text": [
      "11/15/2023 09:57:03 AM - 2\n"
     ]
    },
    {
     "name": "stdout",
     "output_type": "stream",
     "text": [
      "-- None\n"
     ]
    },
    {
     "name": "stderr",
     "output_type": "stream",
     "text": [
      "11/15/2023 09:57:04 AM - 2\n"
     ]
    },
    {
     "name": "stdout",
     "output_type": "stream",
     "text": [
      "-- None\n"
     ]
    },
    {
     "name": "stderr",
     "output_type": "stream",
     "text": [
      "11/15/2023 09:57:07 AM - 2\n"
     ]
    },
    {
     "name": "stdout",
     "output_type": "stream",
     "text": [
      "-- None\n"
     ]
    },
    {
     "name": "stderr",
     "output_type": "stream",
     "text": [
      "11/15/2023 09:57:20 AM - 2\n"
     ]
    },
    {
     "name": "stdout",
     "output_type": "stream",
     "text": [
      "-- None\n"
     ]
    },
    {
     "name": "stderr",
     "output_type": "stream",
     "text": [
      "11/15/2023 09:57:22 AM - 2\n"
     ]
    },
    {
     "name": "stdout",
     "output_type": "stream",
     "text": [
      "-- None\n"
     ]
    },
    {
     "name": "stderr",
     "output_type": "stream",
     "text": [
      "11/15/2023 09:57:24 AM - 2\n"
     ]
    },
    {
     "name": "stdout",
     "output_type": "stream",
     "text": [
      "-- None\n"
     ]
    },
    {
     "name": "stderr",
     "output_type": "stream",
     "text": [
      "11/15/2023 09:57:25 AM - 2\n"
     ]
    },
    {
     "name": "stdout",
     "output_type": "stream",
     "text": [
      "-- None\n"
     ]
    },
    {
     "name": "stderr",
     "output_type": "stream",
     "text": [
      "11/15/2023 09:57:38 AM - 2\n"
     ]
    },
    {
     "name": "stdout",
     "output_type": "stream",
     "text": [
      "-- None\n"
     ]
    },
    {
     "name": "stderr",
     "output_type": "stream",
     "text": [
      "11/15/2023 09:57:40 AM - 2\n"
     ]
    },
    {
     "name": "stdout",
     "output_type": "stream",
     "text": [
      "-- None\n"
     ]
    },
    {
     "name": "stderr",
     "output_type": "stream",
     "text": [
      "11/15/2023 09:57:42 AM - 2\n"
     ]
    },
    {
     "name": "stdout",
     "output_type": "stream",
     "text": [
      "-- None\n"
     ]
    },
    {
     "name": "stderr",
     "output_type": "stream",
     "text": [
      "11/15/2023 09:57:43 AM - 2\n"
     ]
    },
    {
     "name": "stdout",
     "output_type": "stream",
     "text": [
      "-- None\n"
     ]
    },
    {
     "name": "stderr",
     "output_type": "stream",
     "text": [
      "11/15/2023 09:57:44 AM - Article `download()` failed with 403 Client Error: Forbidden for url: https://www.science.org/doi/10.1126/sciadv.abn3485 on URL https://news.google.com/rss/articles/CBMiMmh0dHBzOi8vd3d3LnNjaWVuY2Uub3JnL2RvaS8xMC4xMTI2L3NjaWFkdi5hYm4zNDg10gEA?oc=5&hl=en-US&gl=US&ceid=US:en\n"
     ]
    },
    {
     "name": "stdout",
     "output_type": "stream",
     "text": [
      "-- None\n"
     ]
    },
    {
     "name": "stderr",
     "output_type": "stream",
     "text": [
      "11/15/2023 09:57:56 AM - 2\n"
     ]
    },
    {
     "name": "stdout",
     "output_type": "stream",
     "text": [
      "-- None\n"
     ]
    },
    {
     "name": "stderr",
     "output_type": "stream",
     "text": [
      "11/15/2023 09:57:56 AM - 2\n"
     ]
    },
    {
     "name": "stdout",
     "output_type": "stream",
     "text": [
      "-- None\n"
     ]
    },
    {
     "name": "stderr",
     "output_type": "stream",
     "text": [
      "11/15/2023 09:57:58 AM - 2\n"
     ]
    },
    {
     "name": "stdout",
     "output_type": "stream",
     "text": [
      "-- None\n"
     ]
    },
    {
     "name": "stderr",
     "output_type": "stream",
     "text": [
      "11/15/2023 09:58:00 AM - 2\n"
     ]
    },
    {
     "name": "stdout",
     "output_type": "stream",
     "text": [
      "-- None\n"
     ]
    },
    {
     "name": "stderr",
     "output_type": "stream",
     "text": [
      "11/15/2023 09:58:02 AM - 2\n"
     ]
    },
    {
     "name": "stdout",
     "output_type": "stream",
     "text": [
      "-- None\n"
     ]
    },
    {
     "name": "stderr",
     "output_type": "stream",
     "text": [
      "11/15/2023 09:58:15 AM - 2\n"
     ]
    },
    {
     "name": "stdout",
     "output_type": "stream",
     "text": [
      "-- None\n"
     ]
    },
    {
     "name": "stderr",
     "output_type": "stream",
     "text": [
      "11/15/2023 09:58:15 AM - 2\n"
     ]
    },
    {
     "name": "stdout",
     "output_type": "stream",
     "text": [
      "-- None\n"
     ]
    },
    {
     "name": "stderr",
     "output_type": "stream",
     "text": [
      "11/15/2023 09:58:28 AM - 2\n"
     ]
    },
    {
     "name": "stdout",
     "output_type": "stream",
     "text": [
      "-- None\n"
     ]
    },
    {
     "name": "stderr",
     "output_type": "stream",
     "text": [
      "11/15/2023 09:58:30 AM - 2\n"
     ]
    },
    {
     "name": "stdout",
     "output_type": "stream",
     "text": [
      "-- None\n"
     ]
    },
    {
     "name": "stderr",
     "output_type": "stream",
     "text": [
      "11/15/2023 09:58:31 AM - 2\n"
     ]
    },
    {
     "name": "stdout",
     "output_type": "stream",
     "text": [
      "-- None\n"
     ]
    },
    {
     "name": "stderr",
     "output_type": "stream",
     "text": [
      "11/15/2023 09:58:31 AM - 2\n"
     ]
    },
    {
     "name": "stdout",
     "output_type": "stream",
     "text": [
      "-- None\n"
     ]
    },
    {
     "name": "stderr",
     "output_type": "stream",
     "text": [
      "11/15/2023 09:58:33 AM - 2\n"
     ]
    },
    {
     "name": "stdout",
     "output_type": "stream",
     "text": [
      "-- None\n"
     ]
    },
    {
     "name": "stderr",
     "output_type": "stream",
     "text": [
      "11/15/2023 09:58:46 AM - 2\n"
     ]
    },
    {
     "name": "stdout",
     "output_type": "stream",
     "text": [
      "-- None\n"
     ]
    },
    {
     "name": "stderr",
     "output_type": "stream",
     "text": [
      "11/15/2023 09:58:47 AM - 2\n"
     ]
    },
    {
     "name": "stdout",
     "output_type": "stream",
     "text": [
      "-- None\n"
     ]
    },
    {
     "name": "stderr",
     "output_type": "stream",
     "text": [
      "11/15/2023 09:58:49 AM - 2\n"
     ]
    },
    {
     "name": "stdout",
     "output_type": "stream",
     "text": [
      "-- None\n"
     ]
    },
    {
     "name": "stderr",
     "output_type": "stream",
     "text": [
      "11/15/2023 09:58:50 AM - 2\n"
     ]
    },
    {
     "name": "stdout",
     "output_type": "stream",
     "text": [
      "-- None\n"
     ]
    },
    {
     "name": "stderr",
     "output_type": "stream",
     "text": [
      "11/15/2023 09:58:52 AM - 2\n"
     ]
    },
    {
     "name": "stdout",
     "output_type": "stream",
     "text": [
      "-- None\n"
     ]
    },
    {
     "name": "stderr",
     "output_type": "stream",
     "text": [
      "11/15/2023 09:59:09 AM - 2\n"
     ]
    },
    {
     "name": "stdout",
     "output_type": "stream",
     "text": [
      "-- None\n"
     ]
    },
    {
     "name": "stderr",
     "output_type": "stream",
     "text": [
      "11/15/2023 09:59:11 AM - 2\n"
     ]
    },
    {
     "name": "stdout",
     "output_type": "stream",
     "text": [
      "-- None\n"
     ]
    },
    {
     "name": "stderr",
     "output_type": "stream",
     "text": [
      "11/15/2023 09:59:12 AM - 2\n"
     ]
    },
    {
     "name": "stdout",
     "output_type": "stream",
     "text": [
      "-- None\n"
     ]
    },
    {
     "name": "stderr",
     "output_type": "stream",
     "text": [
      "11/15/2023 09:59:12 AM - 2\n"
     ]
    },
    {
     "name": "stdout",
     "output_type": "stream",
     "text": [
      "-- None\n"
     ]
    },
    {
     "name": "stderr",
     "output_type": "stream",
     "text": [
      "11/15/2023 09:59:13 AM - 2\n"
     ]
    },
    {
     "name": "stdout",
     "output_type": "stream",
     "text": [
      "-- None\n"
     ]
    }
   ],
   "source": [
    "thermo_news_df_daily=news_df_daily()"
   ]
  },
  {
   "cell_type": "code",
   "execution_count": null,
   "id": "6527c83d",
   "metadata": {},
   "outputs": [],
   "source": [
    "thermo_news_df_daily"
   ]
  },
  {
   "cell_type": "code",
   "execution_count": null,
   "id": "8666bd7d",
   "metadata": {},
   "outputs": [],
   "source": [
    "thermo_news_df_daily=thermo_news_df_daily.reset_index(drop=True)\n",
    "thermo_news_df_daily['Published Date']=pd.to_datetime(thermo_news_df_daily['Published Date'])\n",
    "thermo_news_df_daily['day']=thermo_news_df_daily['Published Date'].dt.day\n",
    "thermo_news_df_daily['quarter']=thermo_news_df_daily['Published Date'].dt.quarter\n",
    "thermo_news_df_daily['month']=thermo_news_df_daily['Published Date'].dt.month\n",
    "thermo_news_df_daily['year']=thermo_news_df_daily['Published Date'].dt.year\n",
    "thermo_news_df_daily=thermo_news_df_daily.sort_values(['Published Date'],ascending=True)\n",
    "thermo_news_df_daily.head()"
   ]
  },
  {
   "cell_type": "code",
   "execution_count": null,
   "id": "749496b5",
   "metadata": {},
   "outputs": [],
   "source": [
    "thermo_news_df_daily['Article Text Cleaned'] = thermo_news_df_daily['Article Text'].astype(str).apply(clean_text)  \n"
   ]
  },
  {
   "cell_type": "code",
   "execution_count": null,
   "id": "4673462c",
   "metadata": {},
   "outputs": [],
   "source": []
  },
  {
   "cell_type": "code",
   "execution_count": null,
   "id": "9b8985b4",
   "metadata": {},
   "outputs": [],
   "source": []
  },
  {
   "cell_type": "code",
   "execution_count": null,
   "id": "7f44b152",
   "metadata": {},
   "outputs": [],
   "source": [
    "thermo_news_df_daily['year'].unique()"
   ]
  },
  {
   "cell_type": "code",
   "execution_count": null,
   "id": "3a2aa4e4",
   "metadata": {},
   "outputs": [],
   "source": [
    "thermo_news_df_daily['month'].unique()"
   ]
  },
  {
   "cell_type": "code",
   "execution_count": null,
   "id": "ab476a14",
   "metadata": {},
   "outputs": [],
   "source": [
    "thermo_news_df_daily['day'].unique()"
   ]
  },
  {
   "cell_type": "code",
   "execution_count": null,
   "id": "e29dc4fc",
   "metadata": {},
   "outputs": [],
   "source": [
    "# thermo_news_df_monthly_select_sentiment = pd.concat([thermo_news_df_monthly_select_sentiment, thermo_news_df_monthly_select])\n"
   ]
  },
  {
   "cell_type": "code",
   "execution_count": null,
   "id": "30ae62c1",
   "metadata": {},
   "outputs": [],
   "source": [
    "import pandas as pd\n",
    "\n",
    "# Initialize an empty DataFrame to store the results\n",
    "thermo_news_df_daily_select_sentiment_all=pd.DataFrame()\n",
    "\n",
    "for year_i in thermo_news_df_daily['year'].unique():\n",
    "    for month_i in thermo_news_df_daily['month'].unique():\n",
    "        if (year_i == 2023 and month_i > 8):\n",
    "            print(\"Skipping Year:\", year_i, \"Month:\", month_i)\n",
    "            continue  # Skip this iteration and move to the next year/month\n",
    "\n",
    "        print(\"Processing Year:\", year_i, \"Month:\", month_i)\n",
    "\n",
    "        # Filter the DataFrame based on year and month\n",
    "        thermo_news_df_daily_select = thermo_news_df_daily[\n",
    "            (thermo_news_df_daily['month'] == month_i) &\n",
    "            (thermo_news_df_daily['year'] == year_i) & (thermo_news_df_daily['Article Text'] != \"Error\") & \\\n",
    "            (thermo_news_df_daily['Article Text'] != \"\")\n",
    "        ]\n",
    "\n",
    "        # Assuming piechart_viz returns a DataFrame with sentiment\n",
    "        \n",
    "        try:\n",
    "            thermo_news_df_daily_select_sentiment = piechart_viz(thermo_news_df_daily_select)\n",
    "            thermo_news_df_daily_select_sentiment_all =pd.concat([thermo_news_df_daily_select_sentiment_all,thermo_news_df_daily_select_sentiment])\n",
    "            display(thermo_news_df_daily_select_sentiment)\n",
    "            \n",
    "        except:\n",
    "            print(\"No Pie Chart\")\n",
    "        try:\n",
    "            print(\"Wordcloud: Positive for Thermofisher for Year \"+str(year_i)+\" Month: \"+str(month_i))\n",
    "            word_cloud(thermo_news_df_daily_select_sentiment[thermo_news_df_daily_select_sentiment['sentiment']==\"Positive\"]['Article Text Cleaned'].values)\n",
    "        except:\n",
    "            print(\"No wordcloud\")\n",
    "        try:\n",
    "            print(\"Wordcloud: Negative for Thermofisher for Year \"+str(year_i)+\" Month: \"+str(month_i))\n",
    "            word_cloud(thermo_news_df_daily_select_sentiment[thermo_news_df_daily_select_sentiment['sentiment']==\"Negative\"]['Article Text Cleaned'].values)\n",
    "        except:\n",
    "            print(\"No wordcloud\")\n",
    "        \n"
   ]
  },
  {
   "cell_type": "code",
   "execution_count": null,
   "id": "0370b010",
   "metadata": {},
   "outputs": [],
   "source": []
  },
  {
   "cell_type": "code",
   "execution_count": null,
   "id": "15d36487",
   "metadata": {},
   "outputs": [],
   "source": []
  },
  {
   "cell_type": "code",
   "execution_count": null,
   "id": "f3eef8ee",
   "metadata": {},
   "outputs": [],
   "source": []
  },
  {
   "cell_type": "code",
   "execution_count": null,
   "id": "a19612a7",
   "metadata": {},
   "outputs": [],
   "source": [
    "thermo_news_df_daily_select_sentiment_all"
   ]
  },
  {
   "cell_type": "code",
   "execution_count": null,
   "id": "7262288e",
   "metadata": {},
   "outputs": [],
   "source": []
  },
  {
   "cell_type": "code",
   "execution_count": null,
   "id": "2e7c64dd",
   "metadata": {},
   "outputs": [],
   "source": []
  },
  {
   "cell_type": "code",
   "execution_count": null,
   "id": "d50c101e",
   "metadata": {},
   "outputs": [],
   "source": []
  },
  {
   "cell_type": "code",
   "execution_count": null,
   "id": "425e7387",
   "metadata": {},
   "outputs": [],
   "source": []
  },
  {
   "cell_type": "code",
   "execution_count": null,
   "id": "eb5d5e99",
   "metadata": {},
   "outputs": [],
   "source": []
  },
  {
   "cell_type": "code",
   "execution_count": 30,
   "id": "a1670093",
   "metadata": {},
   "outputs": [
    {
     "data": {
      "text/html": [
       "<div>\n",
       "<style scoped>\n",
       "    .dataframe tbody tr th:only-of-type {\n",
       "        vertical-align: middle;\n",
       "    }\n",
       "\n",
       "    .dataframe tbody tr th {\n",
       "        vertical-align: top;\n",
       "    }\n",
       "\n",
       "    .dataframe thead th {\n",
       "        text-align: right;\n",
       "    }\n",
       "</style>\n",
       "<table border=\"1\" class=\"dataframe\">\n",
       "  <thead>\n",
       "    <tr style=\"text-align: right;\">\n",
       "      <th></th>\n",
       "      <th>sentiment_day</th>\n",
       "      <th>sentiment_month</th>\n",
       "      <th>sentiment_year</th>\n",
       "      <th>sentiment_Negative</th>\n",
       "      <th>sentiment_Neutral</th>\n",
       "      <th>sentiment_Positive</th>\n",
       "    </tr>\n",
       "  </thead>\n",
       "  <tbody>\n",
       "    <tr>\n",
       "      <th>0</th>\n",
       "      <td>1</td>\n",
       "      <td>1</td>\n",
       "      <td>2021</td>\n",
       "      <td>0</td>\n",
       "      <td>0</td>\n",
       "      <td>1</td>\n",
       "    </tr>\n",
       "    <tr>\n",
       "      <th>1</th>\n",
       "      <td>1</td>\n",
       "      <td>1</td>\n",
       "      <td>2022</td>\n",
       "      <td>0</td>\n",
       "      <td>0</td>\n",
       "      <td>2</td>\n",
       "    </tr>\n",
       "    <tr>\n",
       "      <th>2</th>\n",
       "      <td>1</td>\n",
       "      <td>2</td>\n",
       "      <td>2021</td>\n",
       "      <td>0</td>\n",
       "      <td>0</td>\n",
       "      <td>5</td>\n",
       "    </tr>\n",
       "    <tr>\n",
       "      <th>3</th>\n",
       "      <td>1</td>\n",
       "      <td>2</td>\n",
       "      <td>2022</td>\n",
       "      <td>0</td>\n",
       "      <td>0</td>\n",
       "      <td>4</td>\n",
       "    </tr>\n",
       "    <tr>\n",
       "      <th>4</th>\n",
       "      <td>1</td>\n",
       "      <td>3</td>\n",
       "      <td>2021</td>\n",
       "      <td>0</td>\n",
       "      <td>0</td>\n",
       "      <td>4</td>\n",
       "    </tr>\n",
       "  </tbody>\n",
       "</table>\n",
       "</div>"
      ],
      "text/plain": [
       "   sentiment_day  sentiment_month  sentiment_year  sentiment_Negative  \\\n",
       "0              1                1            2021                   0   \n",
       "1              1                1            2022                   0   \n",
       "2              1                2            2021                   0   \n",
       "3              1                2            2022                   0   \n",
       "4              1                3            2021                   0   \n",
       "\n",
       "   sentiment_Neutral  sentiment_Positive  \n",
       "0                  0                   1  \n",
       "1                  0                   2  \n",
       "2                  0                   5  \n",
       "3                  0                   4  \n",
       "4                  0                   4  "
      ]
     },
     "execution_count": 30,
     "metadata": {},
     "output_type": "execute_result"
    }
   ],
   "source": [
    "grouped = thermo_news_df_daily_select_sentiment_all.groupby(['day','month', 'year', 'sentiment']).size().reset_index(name='count')\n",
    "sentiments = pd.pivot_table(grouped, values='count', index=['day','month', 'year'], columns='sentiment', fill_value=0).reset_index()\n",
    "sentiments.columns = ['sentiment'+'_'+(col) for col in sentiments.columns]\n",
    "sentiments.head()"
   ]
  },
  {
   "cell_type": "code",
   "execution_count": 31,
   "id": "b1431bcb",
   "metadata": {},
   "outputs": [
    {
     "data": {
      "text/html": [
       "<div>\n",
       "<style scoped>\n",
       "    .dataframe tbody tr th:only-of-type {\n",
       "        vertical-align: middle;\n",
       "    }\n",
       "\n",
       "    .dataframe tbody tr th {\n",
       "        vertical-align: top;\n",
       "    }\n",
       "\n",
       "    .dataframe thead th {\n",
       "        text-align: right;\n",
       "    }\n",
       "</style>\n",
       "<table border=\"1\" class=\"dataframe\">\n",
       "  <thead>\n",
       "    <tr style=\"text-align: right;\">\n",
       "      <th></th>\n",
       "      <th>day</th>\n",
       "      <th>month</th>\n",
       "      <th>year</th>\n",
       "      <th>sentiment</th>\n",
       "      <th>count</th>\n",
       "    </tr>\n",
       "  </thead>\n",
       "  <tbody>\n",
       "    <tr>\n",
       "      <th>0</th>\n",
       "      <td>1</td>\n",
       "      <td>1</td>\n",
       "      <td>2021</td>\n",
       "      <td>Positive</td>\n",
       "      <td>1</td>\n",
       "    </tr>\n",
       "    <tr>\n",
       "      <th>1</th>\n",
       "      <td>1</td>\n",
       "      <td>1</td>\n",
       "      <td>2022</td>\n",
       "      <td>Positive</td>\n",
       "      <td>2</td>\n",
       "    </tr>\n",
       "    <tr>\n",
       "      <th>2</th>\n",
       "      <td>1</td>\n",
       "      <td>2</td>\n",
       "      <td>2021</td>\n",
       "      <td>Positive</td>\n",
       "      <td>5</td>\n",
       "    </tr>\n",
       "    <tr>\n",
       "      <th>3</th>\n",
       "      <td>1</td>\n",
       "      <td>2</td>\n",
       "      <td>2022</td>\n",
       "      <td>Positive</td>\n",
       "      <td>4</td>\n",
       "    </tr>\n",
       "    <tr>\n",
       "      <th>4</th>\n",
       "      <td>1</td>\n",
       "      <td>3</td>\n",
       "      <td>2021</td>\n",
       "      <td>Positive</td>\n",
       "      <td>4</td>\n",
       "    </tr>\n",
       "    <tr>\n",
       "      <th>...</th>\n",
       "      <td>...</td>\n",
       "      <td>...</td>\n",
       "      <td>...</td>\n",
       "      <td>...</td>\n",
       "      <td>...</td>\n",
       "    </tr>\n",
       "    <tr>\n",
       "      <th>838</th>\n",
       "      <td>31</td>\n",
       "      <td>8</td>\n",
       "      <td>2022</td>\n",
       "      <td>Positive</td>\n",
       "      <td>2</td>\n",
       "    </tr>\n",
       "    <tr>\n",
       "      <th>839</th>\n",
       "      <td>31</td>\n",
       "      <td>10</td>\n",
       "      <td>2021</td>\n",
       "      <td>Negative</td>\n",
       "      <td>1</td>\n",
       "    </tr>\n",
       "    <tr>\n",
       "      <th>840</th>\n",
       "      <td>31</td>\n",
       "      <td>10</td>\n",
       "      <td>2021</td>\n",
       "      <td>Positive</td>\n",
       "      <td>3</td>\n",
       "    </tr>\n",
       "    <tr>\n",
       "      <th>841</th>\n",
       "      <td>31</td>\n",
       "      <td>12</td>\n",
       "      <td>2021</td>\n",
       "      <td>Negative</td>\n",
       "      <td>1</td>\n",
       "    </tr>\n",
       "    <tr>\n",
       "      <th>842</th>\n",
       "      <td>31</td>\n",
       "      <td>12</td>\n",
       "      <td>2021</td>\n",
       "      <td>Positive</td>\n",
       "      <td>4</td>\n",
       "    </tr>\n",
       "  </tbody>\n",
       "</table>\n",
       "<p>843 rows × 5 columns</p>\n",
       "</div>"
      ],
      "text/plain": [
       "     day  month  year sentiment  count\n",
       "0      1      1  2021  Positive      1\n",
       "1      1      1  2022  Positive      2\n",
       "2      1      2  2021  Positive      5\n",
       "3      1      2  2022  Positive      4\n",
       "4      1      3  2021  Positive      4\n",
       "..   ...    ...   ...       ...    ...\n",
       "838   31      8  2022  Positive      2\n",
       "839   31     10  2021  Negative      1\n",
       "840   31     10  2021  Positive      3\n",
       "841   31     12  2021  Negative      1\n",
       "842   31     12  2021  Positive      4\n",
       "\n",
       "[843 rows x 5 columns]"
      ]
     },
     "execution_count": 31,
     "metadata": {},
     "output_type": "execute_result"
    }
   ],
   "source": [
    "grouped"
   ]
  },
  {
   "cell_type": "code",
   "execution_count": null,
   "id": "aec83645",
   "metadata": {},
   "outputs": [],
   "source": []
  },
  {
   "cell_type": "code",
   "execution_count": null,
   "id": "e8e2e1eb",
   "metadata": {},
   "outputs": [],
   "source": []
  },
  {
   "cell_type": "code",
   "execution_count": null,
   "id": "16484c16",
   "metadata": {},
   "outputs": [],
   "source": []
  },
  {
   "cell_type": "code",
   "execution_count": 32,
   "id": "04580bc0",
   "metadata": {},
   "outputs": [
    {
     "data": {
      "text/plain": [
       "4"
      ]
     },
     "execution_count": 32,
     "metadata": {},
     "output_type": "execute_result"
    }
   ],
   "source": [
    "sentiments['sentiment_Negative'].max()"
   ]
  },
  {
   "cell_type": "code",
   "execution_count": null,
   "id": "1802a9a9",
   "metadata": {},
   "outputs": [],
   "source": []
  },
  {
   "cell_type": "code",
   "execution_count": null,
   "id": "ed34cdf6",
   "metadata": {},
   "outputs": [],
   "source": []
  },
  {
   "cell_type": "code",
   "execution_count": 34,
   "id": "e9a11e76",
   "metadata": {},
   "outputs": [
    {
     "data": {
      "text/plain": [
       "8"
      ]
     },
     "execution_count": 34,
     "metadata": {},
     "output_type": "execute_result"
    }
   ],
   "source": [
    "sentiments['sentiment_Positive'].max()"
   ]
  },
  {
   "cell_type": "code",
   "execution_count": 35,
   "id": "9108cfa5",
   "metadata": {},
   "outputs": [],
   "source": [
    "sentiments.to_excel(\"news_sentiment.xlsx\",index=False)"
   ]
  },
  {
   "cell_type": "code",
   "execution_count": null,
   "id": "466a2d44",
   "metadata": {},
   "outputs": [],
   "source": []
  },
  {
   "cell_type": "code",
   "execution_count": null,
   "id": "19f7e5a3",
   "metadata": {},
   "outputs": [],
   "source": []
  },
  {
   "cell_type": "code",
   "execution_count": null,
   "id": "d37080e9",
   "metadata": {},
   "outputs": [],
   "source": []
  },
  {
   "cell_type": "code",
   "execution_count": null,
   "id": "2e62d332",
   "metadata": {},
   "outputs": [],
   "source": []
  },
  {
   "cell_type": "code",
   "execution_count": null,
   "id": "dcdd8fe3",
   "metadata": {},
   "outputs": [],
   "source": []
  },
  {
   "cell_type": "code",
   "execution_count": null,
   "id": "299f7dc0",
   "metadata": {},
   "outputs": [],
   "source": []
  },
  {
   "cell_type": "code",
   "execution_count": null,
   "id": "24691312",
   "metadata": {},
   "outputs": [],
   "source": []
  },
  {
   "cell_type": "code",
   "execution_count": null,
   "id": "e356769b",
   "metadata": {},
   "outputs": [],
   "source": []
  },
  {
   "cell_type": "code",
   "execution_count": 60,
   "id": "443da786",
   "metadata": {},
   "outputs": [],
   "source": []
  },
  {
   "cell_type": "code",
   "execution_count": null,
   "id": "8c7fa346",
   "metadata": {},
   "outputs": [],
   "source": []
  },
  {
   "cell_type": "code",
   "execution_count": null,
   "id": "249a8424",
   "metadata": {},
   "outputs": [],
   "source": []
  },
  {
   "cell_type": "code",
   "execution_count": null,
   "id": "c1d06d28",
   "metadata": {},
   "outputs": [],
   "source": []
  },
  {
   "cell_type": "code",
   "execution_count": null,
   "id": "95eba9bc",
   "metadata": {},
   "outputs": [],
   "source": []
  }
 ],
 "metadata": {
  "kernelspec": {
   "display_name": "Python 3 (ipykernel)",
   "language": "python",
   "name": "python3"
  },
  "language_info": {
   "codemirror_mode": {
    "name": "ipython",
    "version": 3
   },
   "file_extension": ".py",
   "mimetype": "text/x-python",
   "name": "python",
   "nbconvert_exporter": "python",
   "pygments_lexer": "ipython3",
   "version": "3.10.4"
  },
  "toc": {
   "base_numbering": 1,
   "nav_menu": {},
   "number_sections": true,
   "sideBar": true,
   "skip_h1_title": false,
   "title_cell": "Table of Contents",
   "title_sidebar": "Contents",
   "toc_cell": false,
   "toc_position": {},
   "toc_section_display": true,
   "toc_window_display": false
  },
  "varInspector": {
   "cols": {
    "lenName": 16,
    "lenType": 16,
    "lenVar": 40
   },
   "kernels_config": {
    "python": {
     "delete_cmd_postfix": "",
     "delete_cmd_prefix": "del ",
     "library": "var_list.py",
     "varRefreshCmd": "print(var_dic_list())"
    },
    "r": {
     "delete_cmd_postfix": ") ",
     "delete_cmd_prefix": "rm(",
     "library": "var_list.r",
     "varRefreshCmd": "cat(var_dic_list()) "
    }
   },
   "types_to_exclude": [
    "module",
    "function",
    "builtin_function_or_method",
    "instance",
    "_Feature"
   ],
   "window_display": false
  }
 },
 "nbformat": 4,
 "nbformat_minor": 5
}
